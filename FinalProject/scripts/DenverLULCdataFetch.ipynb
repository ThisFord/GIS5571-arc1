{
  "cells": [
    {
      "cell_type": "markdown",
      "metadata": {
        "id": "K3WJQF9tkogf"
      },
      "source": [
        "# Denver Co 2018 LULC data wrangling"
      ]
    },
    {
      "cell_type": "code",
      "execution_count": null,
      "metadata": {
        "id": "f-1k07hRkogh"
      },
      "outputs": [],
      "source": [
        "import arcpy\n",
        "import requests\n",
        "import os\n",
        "import zipfile\n",
        "import io"
      ]
    },
    {
      "cell_type": "code",
      "execution_count": null,
      "metadata": {
        "id": "pF-jIhiAkogi",
        "outputId": "4eb2b740-1919-4968-f9e6-b956ab3b8891"
      },
      "outputs": [
        {
          "data": {
            "text/plain": [
              "'C:\\\\Users\\\\MrJDF\\\\Desktop\\\\Arc1-Projects\\\\CBClcClassifierArc'"
            ]
          },
          "execution_count": 15,
          "metadata": {},
          "output_type": "execute_result"
        }
      ],
      "source": [
        "#Set variables for the working directory and project geodatabase\n",
        "proj_dir = r\"C:\\Users\\MrJDF\\Desktop\\Arc1-Projects\\CBClcClassifierArc\"\n",
        "\n",
        "#set arcpy environment, this is where this script will store the imported data\n",
        "arcpy.env.workspace = proj_dir\n",
        "\n",
        "#allow files to be over written\n",
        "arcpy.env.overwriteOutput = True\n",
        "\n",
        "#test\n",
        "arcpy.env.workspace"
      ]
    },
    {
      "cell_type": "code",
      "execution_count": null,
      "metadata": {
        "id": "66auVGs_kogj"
      },
      "outputs": [],
      "source": [
        "# set up fnction to unzip requests and save to the project's working directory\n",
        "def unzip(input_zipped, working_dir):\n",
        "    get_zipped = zipfile.ZipFile(\n",
        "        io.BytesIO(\n",
        "            input_zipped.content)\n",
        "    )\n",
        "    \n",
        "    get_zipped.extractall(working_dir)"
      ]
    },
    {
      "cell_type": "code",
      "execution_count": null,
      "metadata": {
        "id": "gCMG4Jzgkogk"
      },
      "outputs": [],
      "source": [
        "#data_url = \"https://landcoverarchive.s3.amazonaws.com/2018/lulc_pilot_section_01_2018.zip\"\n",
        "\n",
        "data_urls = [\"https://landcoverarchive.s3.amazonaws.com/2018/lulc_pilot_section_02_2018.zip\",\"https://landcoverarchive.s3.amazonaws.com/2018/lulc_pilot_section_03_2018.zip\" ]\n",
        "\n",
        "#add more urls to the list above as needed, there are 23 panel 1-23 to be gathered\n",
        "more_data_urls = [ \"https://landcoverarchive.s3.amazonaws.com/2018/lulc_pilot_section_04_2018.zip\", \"https://landcoverarchive.s3.amazonaws.com/2018/lulc_pilot_section_05_2018.zip\",\"https://landcoverarchive.s3.amazonaws.com/2018/lulc_pilot_section_06_2018.zip\", \"https://landcoverarchive.s3.amazonaws.com/2018/lulc_pilot_section_07_2018.zip\" ]"
      ]
    },
    {
      "cell_type": "code",
      "execution_count": null,
      "metadata": {
        "id": "RdThPuQBkogk"
      },
      "outputs": [],
      "source": [
        "for url in data_urls:\n",
        "    get_data = requests.get(url)\n",
        "    unzip(get_data, proj_dir)"
      ]
    }
  ],
  "metadata": {
    "kernelspec": {
      "display_name": "ArcGISPro",
      "language": "Python",
      "name": "python3"
    },
    "language_info": {
      "file_extension": ".py",
      "name": "python",
      "version": "3"
    },
    "colab": {
      "provenance": []
    }
  },
  "nbformat": 4,
  "nbformat_minor": 0
}