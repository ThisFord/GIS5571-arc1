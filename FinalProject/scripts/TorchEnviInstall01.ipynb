{
 "cells": [
  {
   "cell_type": "code",
   "execution_count": 11,
   "metadata": {},
   "outputs": [
    {
     "name": "stdout",
     "output_type": "stream",
     "text": [
      "Defaulting to user installation because normal site-packages is not writeable\n",
      "Requirement already satisfied: torch in c:\\users\\mrjdf\\appdata\\roaming\\python\\python39\\site-packages (1.13.0)\n",
      "Requirement already satisfied: typing-extensions in c:\\program files\\arcgis\\pro\\bin\\python\\envs\\arcgispro-py3\\lib\\site-packages (from torch) (4.1.1)\n",
      "Defaulting to user installation because normal site-packages is not writeable\n",
      "Requirement already satisfied: arcgis in c:\\program files\\arcgis\\pro\\bin\\python\\envs\\arcgispro-py3\\lib\\site-packages (2.0.1)\n"
     ]
    }
   ],
   "source": [
    "!pip install torch\n",
    "!pip install arcgis"
   ]
  },
  {
   "cell_type": "code",
   "execution_count": 13,
   "metadata": {},
   "outputs": [
    {
     "ename": "ImportError",
     "evalue": "cannot import name 'torchvision' from 'torch' (C:\\Users\\MrJDF\\AppData\\Roaming\\Python\\Python39\\site-packages\\torch\\__init__.py)",
     "output_type": "error",
     "traceback": [
      "\u001b[0;31m---------------------------------------------------------------------------\u001b[0m\n\u001b[0;31mImportError\u001b[0m                               Traceback (most recent call last)",
      "In  \u001b[0;34m[13]\u001b[0m:\nLine \u001b[0;34m4\u001b[0m:     \u001b[34mfrom\u001b[39;49;00m \u001b[04m\u001b[36mtorch\u001b[39;49;00m \u001b[34mimport\u001b[39;49;00m torchvision\n",
      "\u001b[0;31mImportError\u001b[0m: cannot import name 'torchvision' from 'torch' (C:\\Users\\MrJDF\\AppData\\Roaming\\Python\\Python39\\site-packages\\torch\\__init__.py)\n\u001b[0;31m---------------------------------------------------------------------------\u001b[0m"
     ]
    }
   ],
   "source": [
    "import os\n",
    "import torch\n",
    "import arcpy\n",
    "from torch import torchvision\n",
    "from pathlib import Path\n",
    "\n",
    "from arcgis import GIS\n",
    "from arcgis.widgets import MapView\n",
    "from arcgis.learn import UnetClassifier, prepare_data"
   ]
  },
  {
   "cell_type": "code",
   "execution_count": null,
   "metadata": {},
   "outputs": [],
   "source": [
    "ent_gis = GIS('https://pythonapi.playground.esri.com/portal', 'arcgis_python', 'amazing_arcgis_123')"
   ]
  },
  {
   "cell_type": "code",
   "execution_count": null,
   "metadata": {},
   "outputs": [],
   "source": [
    "label_layer = ent_gis.content.search(\"title: Kent_county_full_label_land_cover owner:api_data_owner\", \n",
    "                                 \"Map Image Layer\")[0] # the index might change\n",
    "label_layer"
   ]
  }
 ],
 "metadata": {
  "kernelspec": {
   "display_name": "ArcGISPro",
   "language": "Python",
   "name": "python3"
  },
  "language_info": {
   "file_extension": ".py",
   "name": "python",
   "version": "3"
  }
 },
 "nbformat": 4,
 "nbformat_minor": 2
}
