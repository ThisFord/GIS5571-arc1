{
  "cells": [
    {
      "cell_type": "markdown",
      "id": "8edaff57",
      "metadata": {
        "id": "8edaff57"
      },
      "source": [
        "# Chesapeake Bay Conservancy Land Cover Classifier\n",
        "- inspiration:\n",
        "  - https://www.esri.com/about/newsroom/arcnews/high-resolution-land-cover-data-helps-restore-chesapeake-bay-watershed/\n",
        "  - https://developers.arcgis.com/python/samples/land-cover-classification-using-unet/\n"
      ]
    },
    {
      "cell_type": "code",
      "execution_count": null,
      "id": "2c3a716b",
      "metadata": {
        "id": "2c3a716b"
      },
      "outputs": [],
      "source": [
        "#!pip install ipywidgets # already installed\n",
        "#!pip install nodejs # fix map display issue"
      ]
    },
    {
      "cell_type": "code",
      "execution_count": null,
      "id": "e1ba1041",
      "metadata": {
        "id": "e1ba1041"
      },
      "outputs": [],
      "source": [
        "# attempted module workarounds for broken classifier and vizualizations\n",
        "# import os\n",
        "# #import arcpy\n",
        "# from pathlib import Path\n",
        "\n",
        "# from arcgis import GIS\n",
        "# #from arcgis.widgets import MapView\n",
        "# from arcgis.learn import UnetClassifier, prepare_data\n",
        "\n",
        "# from arcgis.mapping import WebMap"
      ]
    },
    {
      "cell_type": "code",
      "execution_count": null,
      "id": "01ab6245",
      "metadata": {
        "id": "01ab6245"
      },
      "outputs": [],
      "source": [
        "import os\n",
        "import arcgis\n",
        "import pathlib\n",
        "from pathlib import Path\n",
        "from arcgis import widgets\n",
        "from arcgis.widgets import MapView\n",
        "from arcgis import GIS\n",
        "from arcgis import learn\n",
        "#from arcgis.learn import UnetClassifier, prepare_data"
      ]
    },
    {
      "cell_type": "code",
      "execution_count": null,
      "id": "7c8ee555",
      "metadata": {
        "id": "7c8ee555"
      },
      "outputs": [],
      "source": [
        "# unet = arcgis.learn.UnetClassifier(data, backbone=None, pretrained_path=None)\n",
        "# unet"
      ]
    },
    {
      "cell_type": "markdown",
      "id": "1be65372",
      "metadata": {
        "id": "1be65372"
      },
      "source": [
        "### connect to GIS database"
      ]
    },
    {
      "cell_type": "code",
      "execution_count": null,
      "id": "f2ac2b0e",
      "metadata": {
        "id": "f2ac2b0e"
      },
      "outputs": [],
      "source": [
        "ent_gis = GIS('https://pythonapi.playground.esri.com/portal', 'arcgis_python', 'amazing_arcgis_123')\n",
        "gis = GIS()"
      ]
    },
    {
      "cell_type": "code",
      "execution_count": null,
      "id": "8bbd74f0",
      "metadata": {
        "id": "8bbd74f0"
      },
      "outputs": [],
      "source": [
        "# connect my local computer to the gis, so I have permissions for use from the univeristy\n",
        "# >>> from arcgis.gis import GIS\n",
        "# >>> gis = GIS(profile=\"umn\")\n",
        "\n",
        "# >>> more_origins = {\"allowedOrigins\":\"http://localhost:8889\"} #replace your port\n",
        "\n",
        "# >>> gis.update_properties(more_origins)"
      ]
    },
    {
      "cell_type": "markdown",
      "id": "3748f6d0",
      "metadata": {
        "id": "3748f6d0"
      },
      "source": [
        "### get labeled training data from GIS database\n",
        "- CBC has prepared a huge labeled dataset for training\n",
        "- here we grab a small county sized subset for our classifier from Esri's online data python api\n",
        "- 1m resolution pixel labeled raster of kent county de"
      ]
    },
    {
      "cell_type": "code",
      "execution_count": null,
      "id": "88830283",
      "metadata": {
        "id": "88830283",
        "outputId": "c418561a-cf33-48ed-c1e2-a1988aaf4fc2"
      },
      "outputs": [
        {
          "data": {
            "text/html": [
              "<div class=\"item_container\" style=\"height: auto; overflow: hidden; border: 1px solid #cfcfcf; border-radius: 2px; background: #f6fafa; line-height: 1.21429em; padding: 10px;\">\n",
              "                    <div class=\"item_left\" style=\"width: 210px; float: left;\">\n",
              "                       <a href='https://pythonapi.playground.esri.com/portal/home/item.html?id=c6d7599134bd403ba07424ddb6fffa02' target='_blank'>\n",
              "                        <img src='data:image/png;base64,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' width='200' height='133' class=\"itemThumbnail\">\n",
              "                       </a>\n",
              "                    </div>\n",
              "\n",
              "                    <div class=\"item_right\"     style=\"float: none; width: auto; overflow: hidden;\">\n",
              "                        <a href='https://pythonapi.playground.esri.com/portal/home/item.html?id=c6d7599134bd403ba07424ddb6fffa02' target='_blank'><b>Kent_county_full_label_land_cover</b>\n",
              "                        </a>\n",
              "                        <br/>Kent_county_label<img src='https://pythonapi.playground.esri.com/portal/home/js/jsapi/esri/css/images/item_type_icons/mapimages16.png' style=\"vertical-align:middle;\">Map Image Layer by api_data_owner\n",
              "                        <br/>Last Modified: April 02, 2020\n",
              "                        <br/>0 comments, 463 views\n",
              "                    </div>\n",
              "                </div>\n",
              "                "
            ],
            "text/plain": [
              "<Item title:\"Kent_county_full_label_land_cover\" type:Map Image Layer owner:api_data_owner>"
            ]
          },
          "execution_count": 31,
          "metadata": {},
          "output_type": "execute_result"
        }
      ],
      "source": [
        "label_layer = ent_gis.content.search(\"title: Kent_county_full_label_land_cover owner:api_data_owner\", \n",
        "                                 \"Map Image Layer\")[0] # the index might change\n",
        "#label_layer = gis.content.search(\"title: Kent_county_full_label_land_cover owner:api_data_owner\", \n",
        "#                                 \"Map Image Layer\")#[0] # the index might change\n",
        "label_layer"
      ]
    },
    {
      "cell_type": "code",
      "execution_count": null,
      "id": "866b7e2d",
      "metadata": {
        "id": "866b7e2d",
        "outputId": "07cdbcbe-18ef-4199-a9e6-1b30eb0559e3"
      },
      "outputs": [
        {
          "ename": "TypeError",
          "evalue": "item type must be web map",
          "output_type": "error",
          "traceback": [
            "\u001b[0;31m---------------------------------------------------------------------------\u001b[0m\n\u001b[0;31mTypeError\u001b[0m                                 Traceback (most recent call last)",
            "In  \u001b[0;34m[43]\u001b[0m:\nLine \u001b[0;34m1\u001b[0m:     webmap = WebMap(label_layer)\n",
            "File \u001b[0;34mC:\\Program Files\\ArcGIS\\Pro\\bin\\Python\\envs\\arcgispro-py3\\Lib\\site-packages\\arcgis\\mapping\\_types.py\u001b[0m, in \u001b[0;32m__init__\u001b[0m:\nLine \u001b[0;34m218\u001b[0m:   \u001b[34mraise\u001b[39;49;00m \u001b[36mTypeError\u001b[39;49;00m(\u001b[33m\"\u001b[39;49;00m\u001b[33mitem type must be web map\u001b[39;49;00m\u001b[33m\"\u001b[39;49;00m)\n",
            "\u001b[0;31mTypeError\u001b[0m: item type must be web map\n\u001b[0;31m---------------------------------------------------------------------------\u001b[0m"
          ]
        }
      ],
      "source": []
    },
    {
      "cell_type": "markdown",
      "id": "de0ca634",
      "metadata": {
        "id": "de0ca634"
      },
      "source": [
        "### grab the input raster layer for classification\n",
        "- generic sample data from esri's world imagery online data set\n",
        "- the base imagery we want to classify\n",
        "- full data set contains all og band info\n",
        "- we'll use the index [n] to identify the IR layer and isolate that from the imagery object at index 1 to create a imagery layer with one band"
      ]
    },
    {
      "cell_type": "code",
      "execution_count": null,
      "id": "4e3c34a1",
      "metadata": {
        "id": "4e3c34a1",
        "outputId": "349ba075-fb73-4463-e6a8-19365130d0eb"
      },
      "outputs": [
        {
          "data": {
            "text/html": [
              "<div class=\"item_container\" style=\"height: auto; overflow: hidden; border: 1px solid #cfcfcf; border-radius: 2px; background: #f6fafa; line-height: 1.21429em; padding: 10px;\">\n",
              "                    <div class=\"item_left\" style=\"width: 210px; float: left;\">\n",
              "                       <a href='https://pythonapi.playground.esri.com/portal/home/item.html?id=90ca22e2f98c405eb67a278799d3a103' target='_blank'>\n",
              "                        <img src='data:image/png;base64,iVBORw0KGgoAAAANSUhEUgAAAMgAAACFCAYAAAAenrcsAACAAElEQVR4Xuy9B3Rk53kl6HP2eJQlB9mkmJqdmEMnNHJOhVCoXKicc06ojEIVgCrEQs6x0Y3OzdDMSRYpWnSS01prj+yxR17b67NjS7I0ogIV7n7/Qzclg+J6JLJb1hDfOd+p/KqA993/3vun9ytf//rXcaPzzTffxF787xX/9I9fwR998Xd3P31T47vf/e47au39zl/Z/cSNyD2A/HLH//sv/4zf/8M3sHZqGk6PECZ9HSaLYUzOpHe/9abGHkD24qbH9773Xfzr1/4FL7/6LBxhJSqbD4GvLEFZ0714+Nh+GLT1CEdkiEfVyCR1uz9+U2MPIHtxw+OHP/wh/urLf4G5pQEEogLEUhIUii6oHHUQGUrBU5WgWX4UJQ2HcOf+W9DedQJKTTWmRkMYHvTh//mnf9h9yJsWewDZi/c9vvXNb+KJJ0+jp1ePYLwbreqjMLjrYfQ1wRZsRiQlhNhciTbdCbi8HRjM6dChOAG+qgx33PlpPPDonfB6RZguxjA7HsXTT57f/RU3LfYAshfvKX74wx/h9c+/iIXlPMklGRx+PqyuVrh9bRBbyiHQlkFur0FvRg2duxmOEB/DfRrovC3Quhtg87ZBoi2H0dXMZZekFLft+yT8QRnmyX/MjiWxuTa2+2tvWuwBZC9+pvjSX/4ZAeJ5nF6fxex0CjZHG0ZHHRjI6jEyYoOJCt+fEMATE0BuqoLW0QC+oQQyZx2WZiLIDmixMteDVFaBnpwCwZAQZg8PNl8HvAE+3P5OYhQrwkE5Bvs8mBgOY346sftn3LTYA8hevGt84xtfx9/+zZfw6mtPYXUth6C/C3Z/E9JJFXqTRvgiJgxmzUj0KhDt10BgqoAl2InsoBECTSm6DBVoIm/Rpj8Jc6QNzzwxi0KvAa9/9iLadcegcNXB5GmGxFoJT6AdDk8bXL4uKC11MNta0Ndvx9hwD/JZG7797W/v/nk3JfYAshdcvPntN/Ev//LP+O9/95eYXM7C5G7F1lofAkkRfCk+UgNqDA5p0ZvtxuiwCdGonIqbT+/rxNxEEGMTPmhdjfS4AUp7Lfiak+jSlqBTVwae+iTqZI8SWI7g6sVpLA950aI+Dp6uBB3K42hRHEMLAUltbYLR0QK7qw35fjME6lIIZFXw+Pj40l/8ye6ffFNiDyAf0PjBD36A//mtb+CxZ9agsNfDGmmHr7cLNn8r+MZydFKr322shiPagaFJK+K5bvgSXVifCSI3rEFhxIhASACRpg6+gAD+HgF6Ut2YKLohd1TD7OShQfYImtUlaFIeQ2v3MWyfH0c6oydDfgwyXRVa5SXw+dvRojlG7FMKa4CHfMGCRFoOg6cB4YQQKlMd+PJSxPpcu/+EmxJ7APkAxZkLG9C42hGLadCTMaDbWseZ5J5BJdxRPvi6UoiNFShtehAOkjyNoiPQ+BphDLRgZTmC8xv9iKakyA6rUShaMFf0oU5QCwOBIZCSwEafkVqq0CgmYHQfQZP0CNq1pRAR0BhAmhSMLY5iKG9CN70vlyQfkpGgy1wKubkSqYSMviOPtYUUQqF2ZAZFBLQ61PBOkIEX7/5zbkrsAeR/w/i3r38NL7zwDCIRF5IxBxTqDtx+7AHwJLWIp/Xo6q5BKNaNWK8K7kAb1peTyGVVCEeFZJQ7EAqKiBGE2FgkU01m2hRoJmZpRjItxkhGi2RSgtyAEacWYuQ1xGgUVFMLr4DYUIm69gehI0bSOppgsDdBoq3AeMEBrbMVzcoTEOmr4HbxwNeehITen0rT8V1N5DuqCARNOL+SwZObeUyN2tATb0cw3EHHP4ba1rLdf+ZNiT2A/JLH97//fbzy+ueRHhtFo1IGu0MFXnsZKprLIZM2wWrmQ6VohUDSiprmKpQ1lUBlbYA5yEO3ux4iczWGh5zoyyox0K/FaNGGwQEbXiJDncwr0ZfpRjwrQyIiRiBMXoQMucvdhpEhI/qzOkg0bWgW1pC57oDRSf4h3AmxpQJ2Hw+dmhNQWutRK3oYtcKHITRUQaAth5i+M0K+QmqphNnTBKefPkv+JRmTw07mXMS8h6EMbk8LkikZZ/jLGx/Fn/3Zn+7+82947AHklyz+ry9/GZeffRrGSAAN6m58/KF7cXvlSRyoq8O+2hocqq+EWMFDm7gFKlUHZMpWtAkaoCYW6fGRpKHWn41LqDx18FPBB+MSFPoMSGZkKKRVxBxSZKhQe9wimKhY/fR6IkfZJ4efinpjLQ+zu5m8hBKeHhFKqGUvbyyH2dqG4rANcip6naeZ6+6VkGzyh4XoMJahTXUCKlsdOlnx68rJ+EvRm1MhQD5DoK9AvfRR1ErIyMuOkgw7gUaSaDZ3IzyRTlj9PIQIoEtri7v/HTc89gDynzi++Y1/w3/727/B2MoyqpUKfOzYEexrqMPd9dWUFThYV4kDNRU4UF+F/QSM/fT47toKPNJcC7WmAzp1G0x6AWwmMSTKdigIONG4DFYrDxIq5L4BHYaH9VA66jEyYkJvWgaPqws+Bx+8ziocrzoCqa4BCl0LujWtMDoEOFJ1AtUt5ThafQKP1paimTzIi1fnMZDTQ26shMhSBiHJpVb1cbSqStBC3qOFvEij+FHwuk+iRcWK/xjnRfIjFni9fLQoj5P8Io+iPIp6+aOUR9EoexStJMk6SYrJyMNYHC0wO4S7/0U3PPYA8p8k2Hwl1tf/yotXMTvZD5u+GQEq1FxEgfruDuxracbdvGYcoNtDrfU42FKDw401BIoKDhgMJAwcLA81VuOR1lqYDXzoNO2wGwXQEkBMGj5k4jqMkl8YSJJ8ymkQH1SRfyDjTQySpec1Zh6O0zG6VTw4rAKUNVbgocqjeLDsOE7WU4G3VsDilSIYMmBqPIizp/qxspjA1HQYT1+Z4WSVwl7HgU5Chc1MehOBobX7ODo0ZWTej6FBcpTzH8yYszlYjcQcteKH0Ejg6NSXEahOolH6CNokRyBQnkRp3T1oaDmCipoH8dZb39v9r7uhsQeQX2D84//9d9T6nkWxz42wR00F2QG7rg1Bhwh9QQV6/VLkojrMFT2w2kXY31KHg61NONTSiIPNDTjYWPUTwCjHvuoyHKD7+xmj1BED8Bqg0/LhsbdDrGojL8KDVk3Ac3ZiPGfA9JgbQ/06lLaWQ2+RgC9qhFDQiE5pHYIRGSzWTowOO+i1dtTwKiCVN8Dh4CGX1+HFx5eQ7lNB6m1CMNuN5x9fxtWrS0hl9dwIusJKrb6/jeQRH+1srIOA0aWqhDcqgScoIN/RRUa9kiTVcdRLHuGA0kaM06WrQLvmJHjKEhjJ5HfRfYW1lsBUB62tEW9++1u7/403NPYAcpPi61/7Vzzx5Ca2t4extdFP2lyA3n455qfcMGg6oVW1YmbMC6eTJI6lC5c3B9Gf1GA4pcPiiAvpkBo6m4KAQSzSTABpacKBxoYdMNSU4RBjjhqSWZVlO1KLch/lw8QkAZcQMlUnhHIeFN0tiBLwpvosiOakGB93INmnJynFh1LZDH5XJZyeDko+LG7eznwqUxlG0lpoyIQzdtBbGuCmY4YycmRGHHCG+FiYi+GZx6bx2OMz8IZEWF5KkW+Q4tyZcczO+NAsO4JLF+cQ6zegTV3GPWagqZeeIONegVbZMXSoTkJJx28QH0ed6CgxDgGFnusizyIxVkDlbMRrn39x97/2hsYeQG5A/M3f/BW+/Od/gFee34IrbcNAXzf6AxJk82pkh7QYHDKgN69AcdKKnrgIfqcQVqMIQbcUgwUtpqloh+Naaum70BfpRiwkxmSvGRF6vUHeRSzCpBYBpKmRvAh5kroaMuk7ADlInmRfTTnuotzHmIUAdLipgZ6rxonOFlR01kMobUbQKYBEXoNCQUcSjFp6bRsEshY4TG3oNtXjKHmaR6vrwNeXQ2ytRH9KBQO9T2VsgIbYSE7HCCQkiKSUMLnbMTpph9bXjIWZFF5/+QIcPh74xhOIJFSI9ojhCHYSaJIko8h/EDt0UuF3aEpQJz1GgCEZRs8zz9HKjZWUkMQ6wgFE62yA1t2Ebkst/ZYyLGyM7P5339DYA8h7jH/96v/AP3/ly/ivf/E6rj4xg+K4BQODepxbiOPCbBB6vwjjg2bS/ToUZ9wojJqxMOlEKi9HfliL2Tk3Fid8cJk7YDOLkYoqURwzIhoQoN8nR8DIh8vKZJKSJJgMLocKJwQ87G/aAcj+hnoCCEmvhmoy7VVcMl9yF8ktBhLGJPvra+n1GnpMz9fU4BEe69UiRlG0QcivgU7Hg1DWSia+AzJ5BwzmBtxXVY3KtjqINFVo1B2H3y2AWtUOAZ8+q2yDTtEOubwZ8aQWjpAQ/QM+2ANdGJ0OYnoyiIlxD0bHnUimlYgnxJDrK1AteojzII0kpxqIQdr1JWgiz9KiZEkAUZeAT+zCBhU7yLu0EpBaydSzkfg2xQnorPWQE3vdzNgDyM8Q3/3ut/HNr38V//B3/xUvPL+BMwsJnFsK4NVTOczM2fDkxSEURjQYmTLgIkmpvtFu+GJSrE14CChNJEmEmJv3QBtoRHZYg0iuCxvrcSythTE2asPp5TTk1IrPFF2YHDBhcdyNuKcbJp0Asu42SLrbwZc0optMNye1CCSHGpjMquO6eQ/Us14syupy7K8qx8HqHaDsq6XkwEHMUl2FOwkkDkc31AQQtaoFNr0ASkUXfQefjt8Oj00AqZIeK0WwOfgwB9qQ7lXATf5DSeBwmgRQkFzzk1kPD8rp7/Viaa4XUmMV+OZS2MKdcBMr5geMCIRF9Le50Ulmu4NSrKskSVVJ8oqYQkVSioDCACMyVHHztthtl5HAQcDp0JeiTXuSe76NWKWdgFQtegBfo3Nws2IPIO8SP/zBD/Cd77yJb/7Pr+P1zz2GVFKH2WkrLqwm8OR6H6bGTWRSu/E7F0fxp6+dx/ZiCEtjDqwN2zFSNGByyoHRogmBVBeiGQmswTZYQq0IJkSwRtug8NdC7a/DyKyJNH0zlsYD4Ct5kJJ0aVPWwOJqwfqIH4NpPayGLti0HbCS/FmilnlhyodyQfMOi9TXUxKT1NEtsQljjwMEkAPkRdgtB5DKchyuIENPrHCwqob8Sg1Kec3wOaXQaogx9CLIuztgMUvgtEnhssiIVSQkqeTQ6qn1VxGg+9VQkrSSSXloba9HwKEAn19HbNKM0XkfFlZzUGmbYfG2Ips1wUWsks0ZkUp3k98ogUhVwUkou7cTlfyHiUGOcd29DDR6VyvUzlZ0kZxr05agw1BKoCCzriZwKCo4gJjpPWZbE0T6Gvw1NVA3K/YAsiteeO4CtuZ7sTwZwsKaD84gD5urAawthTBKrfzWmV5MUQs/VXTCGmrD6noYv/vZTbz4wgIBQ4PXXjxLhtWHtdUgmXAFJqZscCf4CKdlkLqqYA6RnHGUk16vR5EAly5I0CyugScoh8HZjJGCAQE/HwPjBjoefd9sFItzQWqReRjMGqH3NJJ512Iga8DDvBYy7M04WE8sUseYpAGHa6txmBji3po63FtF0quihh4Tu7DbyjocotuDlfSeqlocrq7nbg9VVpDmbyPQtOMuAtHh6hpUtLdCTwDpFHdAo2tHIe+AzSoiEEhgMnXDoOmCSdOOcEiOF58+g2BYDpOxA9k+GyIxCSy+NrTpT3AMYPa0QmOtQyQigcPTASVJOFdUDKWtkSRUKRIZE5YW8ugmv9FlruAAIrBUkjGvwvPPXKDfch9sMQUKWQ1ygxE88/TZ3afthsUHEiA/+tGP8P3vv4Vnn7+A7aV+nNpMYm3ej5FpDRIDYlxZ6cPkghOFMTLMyz6SRX5snQphbc6PVcrtpQSCPUKMUzEvTDuJWey4uJbE2e00NjcGkC9oEIjwMTZkIROsx9ikg8y5AVJnJUYnXLD0tEHvrYedwKcwN0NPhTGQVHMTAa0EoNlBC4b6DXj60gQ258LUGncgEhejlwrE7W9HJCtFkryK0izH3Y2tONjYiHsaW3BvQzMO15PsqmNAqeOAcc/1ZEAoJ8POgFJRy4HkYCUDCz1Pr9UIBShr76TPENAYiGpqoTR2o6WjAd3yVmi1nRB1d6KD3wqeoA0aYhyzho+oX45sxkmeRkgehg+9shWTMyGYgh1QaHe6elvlFdwo+uCQnlhFj05iiRbNcXRaK1DHL0eL+gQubBVhtjSRrDrJTYNnM3w79MfR7eokgy6BiqSm0CaBwNSI3kLP7lN6w+IDCZBvffOrmBsyk+xpQS6nwhJJlivbWYzN6aj4yBxPKXFxOQpPshWff24Tf/b7V4lBAjg7GSHmMCIU5WN8wY75NTcZbfr8hB3n1iIYmtRhayON05N+ZPqEOD8fxepSGOlBHeSualgjbehJdhMT0TFIeqksdXj26jRmF304fTYDHf2eQlaLODGPw9cJO7XC+XE9iiM2DpDDWT2G4xokC0p4He0wakWwUNEc53fgcGMTMUkj3TJGodtaYodqxhLXsryaA8g9BIiDFXSf8jC7LdsByiH2fBVLYhu6f4Ceu4+kmNkohFnPh0jWjqbOJpJbIlTzmsiHSGHW8WG38GHTdcFsksPvVOG559axtT0KU6gLSmstHikrIfC0E9hqkYx1w+prJ39RimYtM+jHUCOqQrWgBiZzGxaGA2jXke8g885G0Hn0HrGlGhoy5l26KjQryihLuImP33vrrd2n9YbEBxIgLPoIGLm8Bi9eLWJ2lAr8dIpYIIbecSX6JpSYI2+wcSaBlVk3fFTY59Z7sLEZxOScCcm8FEMzGhQXLJiZt+HMfAhnN3oIKA4UJ514aXsI08NmbIz5MTZgRnZABbGtHOYIeZC4ABOjTpJJKm7WqyfGRz8BRu2vgY0YxU2yTe+qR5e1jO4LECdp8fmri3Rs8h5jTvSSMS6EVUg45XAb+bCo2+A38RG0yXFPUysONTLjTslAQhLqUPUOk3BsQvfvYTLrGiAOlTOQ1O4kPc/ef/BasvuMSZQmJTenq1slhkIt5liirq0Rep0ALpsMVjL4WjX9Dms3jCS5XnnuLF545hRGh/wwuptQ0VqDR8rLIFa0IZ5SIJnTQuaoJyCchEhdhjJhLWbPrqHbRp7GIECzkoGhBnxFJTrIh3RpyjiZJiGgNKmOcX6ELeP92//+5d2n9IbEBxYg554YQHHCjOVlP86SZzi9FSUw+DE1b8HCio1adTOuPlbExKQLs7MenCXZ8OxmP86fTmJi2YR4VoSZGSsm8wacGfWir0+BYWKQRFSE9ZkASTM3cv3UqvZ2kVEXI9wrQd+ABmoqDl9USAzRSkWk5Sbj2cM82OOk9Ul2JdOk+21UPORTBgcMiAToszYxJgbN6EmQada2w6HvQq9fQcXZCTOZd7O6A/USPo62t+C+Zt4OQBp2GGU/YxJObtUTQGpxHwMJA04FAwhJqTLGLDuy6xCxB7t/qJxJsB02uYtAJCZwmEwSWM1diIRNiAW04EkEsBG7qLQCGA0kgTRSYjTyHR1VSJJHUikboTE24wRJtf5eE6IZ8i3eRm43E4uXh1BSBoOBgKdpQF03MZS+hUAjQYOgFseryiHuroXN2wG1lgCjqobL30HyqpybAcyms3z+Cy/tPqU3JD6wAPn871/B9rko1tcCeOrJEfRlFZib8eLxlRQuL0Sp2A3kIYyYzhvx0kuLeIyM+6mpAF58YgIDM0pk+5XYXAlieyGMi7MRBHoFKM5bEc/IMTCqR7PqCBZmXZgsWqAmj8HWU4wVTBgat2KcJFlsQIloXIpYUgKFuxrmcCuMoWaY/Tv+JJ1XEtjE6LJXIJuUI+btht8hRcglRdQrwkBEDb9FCL9VAKdZjHalGCUtbdSKd5J5byWp1YgDBA4GkHvqGneSAwnzI/U7gCAwHCit4pIDSikBpnQHMPsJGExqMX/CWMhq0yDq08Lt6kaTqBPVbc3YV8VYioBE32GzyggoIkjJ7Hs9UkhkbRCKmiGRtEIkbSCG4SMQE3JSS65ogFRdgZrmavBlDSitKcHDFcfRoS5BmP5WtZHH9Y4JZI2wExil0lr0hMTcJEiBsZKbejI237f7lN6Q+MAC5Et/9QYKQ0qsTzvw8rlJ5IsqjEyoMD6tx+ikEVuzJKdmDEj2ibG52IP8APMCeqythtDTL4O7px2hHj7yKTk2p4PI5rVw+lrgCbbBFe5Ap7GCZEEZ1O5aKJxVXA+Mwk6ta0SGdFaJbncNtwbCG2iH1tcAobUUcgLK9LAduTENhkaMyBLQRop2/MOXfxf5mJ4kjQCj/WaIrOUI+AkcPgYOEUwq+k7yA4dbqBhlHXDS+0J2IWxmKQ40NOBAXT3HJvfWNe30XLG8DpCTlThQUon9lOz+IQaWkxU4XFZFEov5k1rcU9tIpr0BR5oaEXKTTIqYyNNUcVLsEJNiJN8aBZ3Qa4gRFEJoNGIqbj6xCI9Mfg1qGqtJNvIRiysgt9XiZM1xCIT1KK2rwuFjJ9BK75Hrq4k5HoaCTLha1wS3m6Ro0Y8OVQn09k6snhpCJC4j+XWS/relCCWUu0/pDYkPLEC++eY3MJInH5IRY3slhsxQN158ZhqXzvdifESHPMmvpYUAHFTEKgsP3mgHl/6eDiwR6zzz7BTmFl3YWoxgYS5AYDPAQ/4hFZcgGOETa9TBmxBA565Hlq3Wy0hJNlUSQxCTFB0cKBLUWoYTUqRInhWXvfCSzCqOmBBICzE+TLcxMZamwnj+0gJshi4IFB2wOTpg8rdiZTWJdI8OYS/T/i0ImDuhUbRCTC24liSXTtUCk6MNXSRz7iKzfZD1bFGyYr+P8p7K+rcl1sGTVRxIDpRUUJZzAGG3HHgqqjiQ7Bh3xhY1aCY5d4DzNORdSEIdqqkhdmrEA3XENEYJOoRtEIlb0MFvgF7diuViiJikEf3DNsT61RBpy1HTVoGS2mo0NNegW90AhbGeWIXA/PBD8BLbmHStaNef5Ka6WPztkJK86iIDXxwgFh6yIB7vxre//bOd858nPrAAYdFDEmaEGfJFG+JUpCOzaozMaDE4rSCNLMDiqg/WqIwYQ40z5+PEJAGua3ZyzYHt7QT++k9ewHNPFqk1E0PpqUMxq0Mw1sl1Z4bJd5hCLcQMZViY8kBHgDAGmyCz1JCEaiI/IcXstBdT4zaMjlogMZdBQ2zjCbVjedqHzfVezBd90JjrqdUWwU1yKmLtwjDp+83lFOaWkxjKECvphBgt2OEwkSeQt0Msb4WMLZaStkLeXQ8J3ffG5UhHtJzMuq++GfcygBAjvO05ynak1v5rAGG5/0TZDlBYlu2AhGMUNrbCwMKxC322mgFkx6/UiLpgJn+kU3WSRGqHQd0GjbID/T0GREl2DeSt0OqILelvleoa0dheh672aihlVbCamkmm8eAkcEj5xDiyWojIoPM0J7nthLKDegSIVTzudmSSbH6aAH/8xS/sPqXve3ygAcK6cOfG7YgmJIhmxejJy5AvaDE2ZoAj1IlaMqCt+nb05NToJba5sJnEa9tD6O9TYTBDrf6UEbYeHsQ2tntgJbdEdDCvoVZSDF+CWMRDxeCogjfZidefmIXcVQMeGyG2nCSW6URfQYn5WQ9EppOYota1l3wQ23RtdtqFV18+jdkxF2J+GQopI3wOMSYnTdxofTorx9yEGxNZMzHeAjbnYwQAOfTKJmi6W6EQN0IipFaZwGHo5kFjbcIg/eajnR3EIo3cWAfLnTGQOk5u7WcswvwIgePu46UcQK6zyf4TDDSVHNOw7mImrw7QZw4wn8J5lRoOIIdJwj3Ka0ZDVzuUup3ReL1JzrGamH6LRs6DVtYKraEBclUVGlpqISNTLhHXEMB5sGp48Dg6YSapppU0wOclmWaq5+RkIq5EFwGnrrUS1bwq2N1KLGys7j6l73t8oAHy13/5B5CaeVx/fd+wjoxyC5q19WjSC/GwgId6TStSI0qcPZvD7LgT40UTXru6hMfZIiGSVdleJfShBtgjPFiILRLpbgiodeRZSqBx1MFNbNDtqsPzz61A66knL1JNLNKIbEoBV4iHmQkbmdBWGPyN6E3JsDgXIe9hxcZSDy5u9WNu0Ir5MRuKOR3iHjken48iNSyCJ9aGuVEnkmRcnzk7jHNzCQKAAS4DyS/S/TJRI+RSHhRsAqK8jUDSijB9vlkqwKHGZg4kTGpx4KjcGWW/m0ktTm5V4m6OQVhWEFgYQH6cBxnTEKPs9HbtSDT2mB3vMPmcQ3TsW+4/gY/cfg8+eeBB/OY9R8Gj7+1W8yEjVmMLtxymdliIMaT0G7u6GtHWUUeMRwyr4sFupt9Lf4NW3gyNtB5m5mP4tajrrEWbgo9H6spwZ+kxdHTzEY77d5/S9z0+0ABhfeknhFUQO+TUmjsJFB0wkPFNFkwoE9Uike3Gme00rm5l0TeoIF+iwhde2sBz54awvuiBLdzK7S/LpFGOTPrKmBvWcBuEtnIoLJWQOsoJINVYX09hdTqEZF6O+REzpgbNcEbbMDVpxgQ9tvkauQmNVy4MwRMWYmbSjckROzbHfZgivb0xF4fbJkauT4np6QBOL0WxMRPDWjGI5X4HfTaI0bSBTHkL1ORDlNIm6LqJPVQEPlUHusTEIrJmFOJWPNhERr1+x4sw036QCpr1QjGQHCjdAcl+Asm+Y2Vc3k154MR1X0KAYSDh2OR6VnGgYWC7p5xNW6nFHY+W4tcOPIyP3n4fPvyZw/jQZw5BpRVBQdJLqeqCQdvBgYVPRa+QN6GioRoiYjy1gthY0gQBgYZNpLTp+GjtbKbvP4lmpQjHmhkoT6KpqwmdMh5uO/7o7lP6vscHGiBvfvc7eEhQg1Nnx1FHJy09qAHfUItLlwYQGVai216Dl55fxtqqn6QQyZ5nN5BNq/BnbzyFkXEtV/x2P48b/JPaKyCwlyGUlXHdtioCzUivFqG4kAPQ82dHMTnv4oz+/JIHfUPd2N5II5GSIlfQINIrIKnUQzIuw223M9RHfibcDbujC4NJHdJxBV5+bgHpAWbcvXjq9BCc4U6s9DnwwuVJ/OnnzmA654equ5kKsB1GfSdJLh7kSiF4gk6U8zugUgmRj2rxYGsLAYRMOpuWQq3+AQIM641iI+k7A4g1HFscOF6J/ccIHNd8yUECyMET9BxJsLuPneQAc7CEwHGyegck11hlH33mNw8/io/ecR8+8pl78NHbDuPXDz2AWx8twX30HQuzg1ASQzB/JBW3oq2zgTP0QgYSArRKLYDF2AUr+auKpgY0kbc50lJN7FGKEgJJbRcDdR0B5Cj+7it/v/u0vq/xgQYIiz/8whPwZpSYWrFjeFpDhe9AZkiD33vjLFa3fdS6N2H9dJYKN4HPbefx1HYGr1xdJO2fho1klcFP5jLYSvKMB523Hu5oF3oHVSS3JOgfVsNG8iscE3Bs5CS/sr4S47bznCqSl+iVIUaAMgWaMD/uRiYjQbxXgXBYgYGsF+e3RrA+6sdEzgyLmY9kTkbgSWOMGGZ+2I6BIS2GejW4OMt6tORYHAsg5OTD5yM9b2yF3yEhk9wJkawL5VRoIbMATr0YAxETjvF4uPfa9JSdqSkNOyPv10048yPXuoAPle4k6/o9RIDYd7SEA8ihkzuAOUwAOUxGnyX7zJ3EOr993zF88u6HiEXu5UDC8sPc7WH6TAVMxA5SWQc6qNjbuxoIJPUQSlqhIuYob64l496BTjkfD1RW4f5qAkdVCSrbGnG8pQG3HyvBx/c/gF+9ZT8GxiZ2n9L3NT7wAPmHv/tzxJIyOLxtJF8cyFHRWTxtOH+2H1evDODMuh/OSCteOJXFFy6O4vOXxvHKC3P40zcucWMcencdzAG2AXMFlM4GmNm6j7QYGTLrtjiPWKYGkYwUU2NWBDLEUgNqTM84cXoxhquPTWJ2zsdt4zk/ZCfP4UF2QI+t1QzWZvtweiWHhdEAtubj9DiNl585hc+9tIIekmpbxQj++Hcfw4tPLWJ7tQebKylsrscRTImQ7dMgllainAzzvZXVuJ9MtUTYCJNGgKBdBrtJjELahnpJF7HH9blbjRyLsK5c5imY+WaDhUxucUzBwEB5iCTV/uNlHIscYP6E2GLf0VKOSRiY7j5eThLrJAeQXztAALmDMciPQfKRW3eSrTURStrRJWpFh6AZ7fxG8IUkDYlBFEpijPp6aHUCKOk3V3a04vZHTuBjjJFu+zHQWDaJZLtP6fsaH3iAfPV//AN6qUAjGTlGh8x4/skZTM34kcvq0JMSwpPhI52SY5sM9BeeWsbrT8/h96hIn3qyAJWjBjJnLXzEFiJzOdQu8iM+tnlzNVbHvcjm1JCR3JJ6apAbVGN0UEsF3AV/khltPgYILGeImUYGDRge0GKO/MXUhB1riykszETRE1LhRQLR772whXS/BtubeQwVjTi7HMfLT83ijec2MEdyzBUTIUy/f6zoRCjSBS2xnpgAK5RWoZmKr7G9mZiDPICkDR6rHH67nDyNHGGHFEfYTincGEnTTs9W1Y5pv54HWRdv2Q6DMLZgQGAehLHHfuZRjpJXOVLK5R0koW5/pASfeegEPn3PEfz6wYfxsTvvxcdu35FabzMJAeS2+49AQ2Dgi1qIQZohFDWRP+GTT+Gjuq0JnyL2+fShh/Fb9z7KGf4P38oA8eNjsPzQrYcg0ap2n9L3NT7wAPnGN7+GpdUQ6ftZzC+G8cyTszg9H8HrL27g4uVhiExlSJM8OkWF+MqVGfzBc6ewVOzB6fVeAkc1JI4KrovXG+2EztNIoKmG2duEMzNhTnJJXJUwBluQH9ZhbMxIkqobeQLkJDHK6rwHS9NObM4GuB6yc5sF8joBLBMYR0ediMSVOLWcwpmpOCaKdqwsh9Cf1yMRl2FrKoTnL05hbsqO3ogMo8s2fPGls5gqWLip8Q5nCzx+AdQGHow6ETf71mEUo0XcCZdTC5dZhqCHvE/Ewq0lYb1Ph5jMotsDNfXXxjrYRMaanZnAHEDIixxnbLHjS5iBvw6Qu8iY3/7gCdz24HHcQuzxG4cewa8Tg3xi3/3vAMj1PN7SAqGMrWok406+Q68lgBBj3PbwsXe896fmbSwP7T6l72t84AHy/R+8RWZYgAUq1iskob70xWewSmC4SAb6qYvDcMbbIbGXY27WiWe3C/jslVFsk5RZX4hB6qgkhqiCkMy53FkFGYGBgWKEWvvZKRv6CuxKSvXQ+xswNeVGMNGJRF6JCTpWfkRPXoWk0lYGfaMqLJ7qwfJMiKRXL9YKVPQJGSaGrZQOXFobwOyYA85AC7eR9OwksRMd58r5As5N9uDMZAjzC148e34Y56cCJNu8yOcNCMa6MEGeqlnSATPrQdJJUUtsYtR0IRMyIeJSQqMR4SBb037Ni1yf4MiYhK0jOVxVg3vYOAexyMHSCk5acaadyauj5RxA7iJJdftDPwbHb997FL9JAPm1/Q/ik9cA8tMYQKySQiAgoy7rhITLDkgVHfg1Yo/d7323/NXfOoBTZ2/cJdo+8ABhsbaQxPZ2H158egzPbQ3gqTM5kjIGkjsWqKjwTcQMc/MWPLaRwufODmFuzoxUUghfsgtKkk8sTcEmZDPd1MoHcWotCTUBQ07PC22lcJBR77ZVEYOYyCuEsbngI1Nuw/kzA9haS+DyRj8WFlyYmLFjMm9HNqnA+ogXZ2cCmJ8Iopi3YnLSBW+Qj1OzEVxZSGAgbcbqkBf9fd2Yo8+MFi3ITauwPuHD5oQfj83G8PypQUQ9IgxGNGSKhWTUm1HNa0CfXwO3VcZt/ePyqfAw2yGljs3ZauDAwUkuklv3sBFyNlrOlumyKSdlzI/ssAfzHZz/uCav7iRpxQBy6/3H8OnDj3Ls8am7H8An7rqPjPo7JRJ7fB8dXygXQSzmEXsI0dDRiCZhJ8cKu4HwbvkhOo5IZeAWwd2I2AMIxR+98SxeujqDK2fSWFsJ4NmtPuQHNJgYMENGPoNvKkEqL6Hi9+A0Fe2peTceP5fDX/ze4xjKarheqvygDvGEEJcuDZJxb4DCU4sASR0lmXSRvQIOMuwb1LKP57QYGNVw4ypsB/NZavnni9TiZ9TcasXTBIwMmfyZSSeBJ47HTxfw9Lki+ZIY3GkptMFGDsxnzmSIqVxYX/YilpDgj15/HGODFkz02UlCCeHSC2ChorORvNIoW6Ej6WLRs4mEXQg7VQQcFcaiBPReH6RqEfZfYw82A5jNq2KGnVtLwqaSMIBUMU/CunKvjbYf3QHGjxmk5G32YABh7MEA8nHyIB+9/Z3sweUt9+A37n0EYjLsejWfW1tSwWt85/v+g7z9/uPc9U5uROwBhOJ//tu/4OJKFBe2krh0Nokrp/uwuBqEL0K0T8XNTHWBJM0fvLyCF86OIzeixvS8FQvUUhv8deQ/eBgiSeOItEFCjKMk9mDT2J1Rtu6BCtRXh+KYmb6jF9MzZqyvejA+Tq13mEfewoxArotkXQ/G0yqMFvRYH/NjksBTyKmwtRzFxqQfsxMkq/p13KYI3h4BTNFWMvdeBJwKaoVbIFGw2a8RiKVNMFtE6PFqELKKEbETqBRtCJqlBBI+eQ8JsYcUETLocb8WHpcMTq+eYw0OIOyWvMjBmp2ZutdXJO4AhA0mVuDQNdPOxkoYSG4jefWZB46/DY6fZI+P3XHPjlf4KYV9PT9x1wPYd7wcjaJO/AZ9fvfr/1F+at+DeOv73999Wt+X2AMIFz/CC+eLeOrCOCbG3JhZdGNwXEmFHMHUtAuPXyzgifN5vHhhFK+fH0J2gFr4KSf6EkqIzCdhoWJNDaqh8zdzkxPDBAqWlmgb190rsZbCFRPScxKcnY+gSKzz2LkRTppFCwKSclZsn0pioejEWNFKTBPGmfUk+ZEeROhzrnArJoYsOD9H0qqfTHpBBHukA2prI9J9UvTPaDEyZkEooMP0AP2umIIkoB4GbSccJj63dVCCAGMkH+IxChCxiRH30nsiZljtYoh0MmKOhrcXWV1nEgaQ62vauXUflWxF4o4fYUt1OYCQzLrt4RO4hVpx1nP1Gwcfftt7cOxx27uwx7/LnS7bj91+/7/vEv4Zkl0G4kbEHkC4+BFevLpEXiCD7bUM5hZ93I6DbIM3IxnssSkXLq0n8OylSZI9QYySAb+wlIHXL4DGU89dSkDNVsvZqyGyVsAYJj8yqOJkWm9OgVxWgaX5INKDSiyOOclruJEtaDE8qiOT3otkrxy+GB/bqwksL4UxOe1HcdiIzeUY1pbjmJhwYZyZ9ek4+v0S5CJajBd8OLfeh2VilsECu46HAZPkay4tp3BuJoxAjxhmgxBDk1pEvVJECRQ+kwBGZTtsBvrdxCoZvxKdYj48Fgn0Bin5j3/vQ34SIIxB2G4nh68D5NpakjuPlXLdumzcgxnzf8cet+8aA7lByfzMzNKNmbi4BxAufoRLxCDDVEzhlAAbp5OYJlBcPT8MK3kHXbCBJJAfl8ikX6aW/cxaFHMFN0SmcmRSMsRycqgCdZDaKqAmOZWn1nxuxoPtBWKgcRcmJ2zkK6RI0fuGxs3YJG8xmTdjaEiFgQElFogpzKEmeKJ8zM44sboawlC/Bj1pAfpT3TAZeVDKa5DrMyLg6cTaqB99SSVeJVCPktG+OJeC2ynnun4fP9PPTX60hRoJIM2I5kVQEGgz/TIUCFjpgAoTaSOcJLPsVgksRjG8TiWCXiVOCvk40NjCdfNyjMKNrNdyADnIFkhVVnM+ZEdqVeHukgrcdawMtz+8AxDWtfupn2SPd/MeNyCPVjXtPqnvS+wB5Fq88erT6KFW10QyKZyUYnYpiPFZExLUuivdNfjiFy5im1rsC1tRbkavyVpDsiiDHnpvkAp5YESJ6SE7t2pQ5W2AMdCIF56YxuCYFX0DWjpuPbX6RowNGRBMCDA2YIEpwsPcghNPk3yLB/jYnA4gQ4BhYySFpArpsAgXJ0PoIxAuTLmxNBMgY+9CP0m0tdUkGfQoUgMqjAy54HS2o5BQob9PgSgb4AwLESH5dW4ri/OPDWNoWk+spsFQyoD+sBYJjwJB8idmAohG2YaQ38gtmd1Xwy6p0PC2xLo+JZ6Z80PcVkEMJDW4m9jjruNluPNR1nt1Er9F/oMNDH7yGnswgHzsJgLkw7cexJs34FLRewC5Ft8koz4/64A7zkcup8NLJKcM3jrkyDifI8Z45cwQzq/14sJaFhpDJZ4/M4ArW/0Ennq4Ep0EEB0yvTKMZ404Q4Ucy4iQ6peSXLLj0lYfJsnXsN1NJLYymGMt8PcJSWp5MJJSo39YjvklJ04tR7Ay48Mq+aBQiI8zZM77eyQYn3JgZtSL2YIdAzk1Fud8+OzzmxC7KrC6nMYwAerMYhrhmAiZQQVJrxzyKQsGR42YXwlgfsaOl85PIES/KWAVIuRSwO+QI2CXI+5TwUnG3WVTIhEy4Ta29Q95kbuvA4TrwaLnuG2D2JhIHTcFhc36ZTN772Qm/eESjkEYQNjA4CcYOO64eeBg+X98ej+++rWv7z6t7zn2APITcfXyMBZnQ7D2tODqShp6XwNGCyRhtpPEJnqMzZkwOmLhrq3BfIUrwIMvKUBvVoaxGSssgSZMjOsxN2lDnpiin3xGuk+CBMmr/hEzSbVGxOi+I9wGhasKy2uxnRWF5DfYBg3D4zpunXugR0Ag8KIwqOeW+M6TvFtZDnDLTVcWw5iZDKCb9Z71ihHpFWF62YFnHp/mTP8wsUTAycPWgAN/+DuXsTDiRnKkG9ERBS6fHcL2TBKpIMm9Hi36ogb0howIuuh1Ao3DocStbHoJM+tsZxQmsWqY97i2l9a19R9sgdV1iXU7McitDx5/W2IxBtmZXvLOIr7R+df/7W93n9L3HHsA+Yl4/HwBlmArdGS42QZnUnMVUhkq0mAXLI4mhCMyDA87UchrMD5pxsWFHipcNzLDMrz89Bx5iA74A63IxqTI9CmJGVR48dlZFIb1MAebCHD1yA/bkMsQC8yQNyEQpEg+PX42jy+8sEISyotTBIB4SozHNvrIoxgwQuBhe/nOkDeZHXFhZcKHjbkEpsi0nyUGWycTPzcXxOqMH5GolACpxitPLyBCEmuwX4e5QWIdAvPomA0vXJnFdL8DY8SQ+bgaWnsjEkEtfFYZwi45urVi3FVCEqqB7fm7M6K+Mx5Sz21hykDBti5lkxnZJEZm0BlAbnng2NsSi5ta8lPmX92M7Ont331K33PsAeQnYvvsGGyxZkwsmZElyTRStEBva4HR3YiNmTCSCSl3VVa5rRzennaMDRqQ7u+GnXwLWxm4OGKnYs9iuKgjgDVhaMyI7TNpmELNGBzSIdwrhD3Gg9Zfi/nlINchcO5cHjPjDiwRcz1BQFmecqI4Ro/ZlPYJF/J5PXrJl8SyEiTpu9jl0ra3Mlidj+PiRg6biwkUhixwJ4RI+OXEfm1Ym49isuiB2FQCX1aIufUAnro4jnPbWbz0xAoGiw5isHpY/e3ENhJuI+psQItasRB3EivcQbLqbtajxcw58x/XpsAfJga5u7QS+xh7nCjHXUfJoD9yErc+sDM5kTEIA8iO/7jxvVe78798+q7dp/Q9xx5AfiL+/E9excCYHLZAG5lcPpzuLkxOOhFNSrBObDFRNGF9I8DNqRqc1mGFWvH+vBbPPT6FQfIGPjLrX3xhGb0ZJYwEILZxA5vE6IsL0JeWI8rGLAaVyPQruN6ui6sxnN0eoJZPgvyIgeSRCdPTNpI+IrxyeYLbR2uB/MfSvAfFaQe9T4RRklD5gp58iQ+Xtgdxei2HtYU4zp4ZwRNXilhZSGJ0ysNtKeQMdkAXauGm4g9OJLGxlkFiWEN+KARLTyu3/5bb2I68V4qES4nPlJTjM1T0n2HsQEyxjzEF8xvcxEXGHNUcQJi0YqsN2bR25j/YGAhbIMUY5ON3EUDuYj1Y7yzgG52/8qk78K9ffX8vjbAHkJ+I733nTUTjQqj0jRge0WCRinNzpYdacjs0lhpqlc2YnNJifNSA2WUT+obkeOxsPxW+DDryFFZ/A84sx/Dc5Um8/tIK4mTSPekuOMOtkFrLsTYb4K4mG050ERBcOH8mj56cCvGCFEZiFTZB8fRCBBNTBiwv+MiL8NGbkyAUFSJGfoNdbsERbee6bP0JPjyBdnpdh+mJCC6dn+TWizxHDLEwHeHY4fJsEgWSiOm4EgszQWTGU3BmBAgRG/WRD0kOSDGcteCRigqUNdaTbGIrAY+QpziB24ghbi+pxF1s+W3pzu0d9PqdBKI7j+6s+bjOHkxeMYCw9R8fv+tBjkE+8r80QPj+5q/+1kG88urnd5/W9xR7ANkVInU9HN4WhOOdKJLUSlFRxgk0MSr002eTJJlS+MLnzuC5Z6cITJ2YIdOeGJRD6atCDzHE8IwWTjL5/UMKnCejbyVPMzdBpn1AjYWiC2eXUtyu8SYC02BBDl9PF7zJdkRTIgTTQpya9mJ+0o5gUsTtsbVMbMBMvSPWRlJKx61wXKNjsJH3zdUknjxXhNVL3zEVIZ/Uiacvz2Bxuod8jxN9BJ5ISorogArFYRPeePE0hkm2bS2nkRlR0+tyDEZ0qGqsgUDehWpeO7cCkBX8bQ+xtR3EEgSG246W4g7yG3ccPYk7GTAeLiUQlbwNjutrP3YM+v3cWvSbMUC4O9mA4aUnnt59St9T7AFkV8zMpzAypsPynA+JggwW8g/TcxbMzJqxtZFBboIKfcyNJ9fT3DQPN4HBlWiHIdCIJEmlRI5AkleiJ9OOM8Q+6+tJbg356pKXYyXWFdyTlmB0QAdvtpObj+UjObZGBn1mwcldbGeZTHc8H4PMW4EIHTPXr+Y8jcZVg/WlCGbmPOiylXKGvH9AjytnCsjmjfB5xaivP4mNxTzW57MEbj0Gyc9Mj9mJmRIIZ8Xw96rx8tVNBOi4AXc3RJJmlDfUwmsVobK9DR/9zGHOS7DCv4WBgJvGTlLqIZY7cuo6MK6D4/oA4cfZ6DkDyC8AHNdTZXHvPqXvKfYAsite/uwFyE2lWFrxITfUDY23FqurbjxNLTbzGdsrcZyZDGB90Q1PrBWRvJCb6s6uL5LJSGEINuB3nphEfkxDnoTHXZVqesyCK5tpMsdqOCPNyBGbxKhY4wNiKOyVENrKsDnEBgCViJKRH6LWfoykWCghIP8jhtJegTQV9CaB4/xGCpG4CEZnA6aIaez+NkTTCpxeyuHUcg7jOReSCfJHszkCtYfkmhMXz47g+YuzeO6pVRR7Lbhwagx9SSNy5Hnk+iocOPII9h05ifsqyvCRW+7liv06SFj3LUsGjOuguC6prvuOHXBQ3nE/Pkbg+OhPKdyblR/+7QO7T+l7ij2A7IqvfOVL5CdqcHo5juKgFVYyu9tbUZxbCePV51cwQqb82bUkXnh2BoEMHzJHKbcgigHn1ccXYQy1om9QgvFJI8Zn7dzCqU2STdNkwj09PCyM2pHMypAgJmG9Uom8FINZBXkBFZl/PkYIHGZii/lpJ05NerE570WI/EQyLcXmRoIAI+Q8CFvUNVN0oy9LMioqw0TRgZef3iSQDGB1NouZyShWlyOYmw5ifq4HV8+MYWExSECZxlPnRnB+fRAz5IPsrnZojR245/gJJII6/NqhHan0qf0PcZ6CAYCBhVshSPevP2avsXx73OPOnYVRv0j2YPkrn7wdX/n792+nkz2A7Ipvf+db1EILMTpmIs2vxhzJk8kZM648OYQ/ee0K15M1OqwnGaVAYVSHUG8H9L46CCwl3H67HjLRPdTqj4+qODM/RNk72A1bTyNiZIrZoimttx7+aCcmxi1QusuRKiiRzci48Q9juIEK1438iA7bJLWmizZ44+30vRaEI11YmvdhnDzN1AgxDjHTcMGOy6dHuY0ezm2M4iky62c3CQxTCWwsZ3H1sQXyRUFsLiSxMBvG1lIGKysR9KfZ9dc93EbandJqaJwkEd0SmL1mYoD78Il9jBXu59jhJ8Hwyf0MPA/SffY6gYOxBgMGt6HCLxYcLP/Lbx/E9OL7N3FxDyA/JdjU8kRahHOnc5A6y3BusQeffX6aWmcPlha8GMgpcWrKjVxOQifDRO83cFv/RNPdBAYNt93PUF6P8aKd2/ZH5a9GINGJsUkbySYhme4OTE96oHfVQeNju7/XIJXvhi8lgMFXDzeZcrWLbVwnJzPfBHu4GYPEQMkBObSuBm7/3oGCHsUZCze+MkZM98R2Ab/z3CY+/8wiLp0ax8J0DL6ADK88s4a11T6sE8Ppg22IkxzbWk3hzKlBbG0NoU11DL3DGsSI0cI+GfxONT5EhcYKnvMTd9z7trf4xJ0PXEs2leQaIG67OTN2/1eTGfVI78DuU/pzxx5Afkq88dmzyORkGBy1ksF2Yps8R5FY5PefXcX2cgzLE3YM9GuwtOzCBvmCMWrtWS8Wm2vVk5JwvVkFAgrbQkhqK4fKU01AaeGYY2jCSEaZT4WtRWpAAhcBwEg5QNJNYDhGYKqBylHFrQNZmY8gRrfpArucdCfmyDMMkLlPZ7pRnLLg5ZdP4anTI3jx8QVsriQxVfRheTaImbEArlyapt/gIpAosTTSgz/5wpO4fGGU3kdycb0X51aTsMf58MVlWKMGwBZsQSwkRSZuwEeJIVixMWbgRsQJJB9hA3+/gMG/nycrWoS7T+nPHXsA+Snx5//na+jrV2J+g12SoB3WUDMmRyyYXXRwhXnufBJbp3qQyUoxPeHE1LAFmXE1SRnyAz1CuOKd3I6KsV4pd+FO5mlcyQ5uYwdvqoNMuooMthcTY2ZsL7KLdLbC5K5DJNxJEiiAaTLXo3kDzq2lsLYQQY7AuDLrgj/QTAwlg5xMu5ek3OOb/fj9l88QoC8hkpJz878KA0YMDxOjXJ7m/FI+74DZKMJFYpVnntzA5XOzePzsGJZmfJgnuTa64ICHwPe55zZg9DbBa+mERC16R9H9UuWt799OJ3sA+SnxT//8tyhMarC84sQTT/Zzg39DZLqnZ1xkgIO4eDGHl17awPnzaUwu2jEypoEh1ASRmV0wpwbGQBNGC0Zut3a2T68/3oG+vm6EsgJo/LWID3Sjf0QNZ08rxzRjBJQx8hr6QD1UBCi2jWlftpu79NsiFbLUXslt+3N2M4mlOR8yBJK5CQtee2aZvNEUN7P3tRdPE8sZsTwVxvZKHqEeNdK9BsiNLchmLUgltLi8OYHLZ4p45soyLp0rYHszi+KsDRtzUbzw1Cy8EQG8djHJLAl+64Gj3L667yi+X4L8lV+/C3/8p3+++7T+XLEHkJ8S33vrOxgaUyMc7yKzzC6HYMHAsJmKz4eNIQ8VlAczE1Y8c4nM8HIQkwtmOBNsF8VqxDJSOHra4U0LYCHZInNUwh5p5sCwMONBckiCWJ8Ig0UNgik+RslDDJBnEVtOYoBAlGd+gF4fGdZjheRbgnzH1BSZ8nEHhsjUjwwZCSBqnJ2PcuMbV56cw2dfOoU3SG6dXo8hkuvE/GwPPAE+0gkFlhfImC/3Qixrou/P4PTpJAKDfmyv9uL0GgFuI4r8tBnJXmK8lAgWB7GZlY9ULsQV284uhr9c+aFbDsPmi+w+rT9X7AHkXWJ6iYCwFMdM0UqtrAGXt/vh8jVhbtqOpTU7JpYsWN0MITmoQ9+oDjMzDs5069lMYH8LsYcY9lg7ZLZKbjNrtv0PW3GYJ+aYK1Khj+qxPuMleWbGKIHNSR4llhYjmOSTfGqDNdgAF4GKXTYhkOwknxDAqcUgLqylMUTe6I9ePY8RMurhtJxafj6ScTOKRTfyg3pcOD2KXM6A5ZkoFqZCsAe6YDR1IOiXI96joc8k0a0Xk5nP4rWnNjA7ZMfisBPZXDeBT0Xg6kRtSzU+ddcD/+GGC/9Z81h16+5T+nPFHkDeJf7oj58m7S/BkxeHqZB6Sdo4kc+qybxLMbNshy9NXmJEhWSfEkJLKRVyLbyJLvICEm6nRT/d90baufsykkwG8jHDk3puNHu0oIXF14hJYoSpWSt8/jYU6TV7rAWWcBNiSRGWSF7159UIZsTEZnrMz7gxN+XH6kIAj21liGHsKEyZERsQY5wANjbmIV8Rw+QoeYu5GE4vJTDabyWpJafPW4h9yNyH5Qi5hAjYJdwFQAPBdkwNOPC7L29jeTGCaELKDT5KrLU4Xs7mVj3yjsL7Zck7Hzy5+5T+XLEHkHeJv//Hv0RqTEYF2olcgV3s04MLxChf+sMnkS1IofbXY2OGDHTeCBO1+HJXFbfAil2ncDijwqmVFJ4+ncfsOGn81TQZZyPW5vzcoKGvpwNiYpQISZrRSQOxjwkzCyboiS00rlo6vg6FjIJ7PT0o5y7p1pMWYmLchExBhRxJsScu5bGxnMAXX38CPUNCLEz7cX5rEEtk6sem7FhbiqKQt2B9JY3PEUus9TsxlTVxkxcTCSV8BBKPkQDtECNgaUfQ147RORMZ/xSyKQN4glpuG5/dhffLkh+65SC+/9Zbu0/rzxx7AHmX+Na3/o18ggpzxBzJtIhaZRvM/gbMTlFBr5KcWTRhlky71lfPXXW2h0mdQMeOOe9XwmirxcX5OBZG2EBeH0ZyGpJEBqzMB+CJ8bgerkyfHAuLLlxeT2NiwobNUTcCsS7wzSVQkdnfOJNAhL777BodZ8mF06diSKS7kKD3vHR1DhfOj5DhnkYqz5bvmjE9acPFKzlsr6VQIK+Sos9eOpUnFpzCl/74ObgicizO+rC24Mf0hBFmZTNCdhF8JL98hg7uEgpsIVggKMY9Rx7GrY8c/4VOG3kvyZbgPvvCy7tP688cewB5l/jBD97C0qIHY5PUui+78MKzqxgtGtFPJvqJczkUp6ycpGJXfWJXsl0m+ZMa1CJOPoKtAwlFOknXu7G1GuYM93BOi0xSSrJJw11ER+KsRIE8xPCQBlfP56Hx1GFkzIhAXICxaQteemoWs4tu8jgy+GId9Hw7Ynm2eQN5orQSl7YLGCQgzky40T8uI19ixOZsFH05GWamnViZDOPZJ5bx9JUZpOk7hwo2buM5ZvCXFoLcaP/6ZIDAL0GPWwqnuQ1+uxRxnwR2YhSpWoaajjZ8hAzvh38JfQgbMKzmCXaf1p859gDy/xMrqyEMFBSYnDNjomBC77CC2+dqacGHODGAkV2VNtwONRW3hwAhc1QgTJ4gSnJoZdGPKAFhbtRBPsMFm78ZSufO9UQyQ2r44mS8Vz1YnvNibcXLrSc5tR7B9lIPtyowP2IisLHdSdrpc3XctJaRaQPm593/X3vvASVZVl0Lrpn5MoCkWdJIQgakL1rAgEDQrryv9D4jMyMyIiPDe++99z4yIjIyItL78ra7qtrSTTc0roVHCLkv/flIQgYhCQmQaO0577Jm/SEbU21QN/p51nqrqrIyI17kO/vuvd+75xwy6w6slM1sS32JABzOiqAwnGbTdDsrdG7+UdjoSFcM5C/W8JEPbWNlxYNm1Y5EUYR220bGfwyXLhRwcSOGL3ziKnZWYpieOQ2ldJD8yQT8hikYjDN4+6HDeOP3aDz943D88m+//xX37N0HyA+IP/zMM0gVZtBY1sPhHYMjMEJJqIXG0o1xzWHWRTEY5iMRFyIRm0YoOoUQ13LU2ce2kHClulaSQ3LbGQg0R2kFFyNFBv3qZhL5shKRhACLDTNS9PNaUy+SZNQb9G9ngBKcAMg1cDCS0U8ToNbbDlYPYvUPsSbXraqefJEZTxFDzNfUOLeaw5TkOCyeIeQrBC4PD17fBG5uZ7G07EaJjHqJZFiB/Iw3JcSFjST+4LOPw0/vbTWMQq3qxa2b8+SZrEg5p6Ga7Uc+IUe+4MPPv+N9jEne+Cvv+LGSXD/31nfjhRf2AcKOHwVA/uKv/gxrZSv86WmMaY+yir5Ow4SPf2AH0eQU/BEe5vJylEtK8EkyuV2jaJeNyCRmSYqpofUMs/mEnK/gyQ6illbg2lYaVks/mXshAgQogeYIptQHEScQNCpaVsXIjTYIxifZWDchGX9u9JrScor12soWJVjrONEkwDTLetYC9emHl7DcCuCzH73BWpAaCVihxDRW6m7yL0E8e7ODTz93FU/caqGcJYk2r0Jz2YRCXYEQAfbSbhFeOvctMugJ8krZlBjL8zbMxXWwaCag0AhwsOc0fuW9D+ANP1Zs8nZ88Ut/uPeyvqTYB8gPiG9/+98IBHzwdUfBN5yEjlbzi0tBbGx70WnrIDIcgch8klUCCvXH4AmPIxPjHuK5cGMjQTKMz7qkzJiOIxwiQJGRn5IfgpUYwuQfhs43CGeYxwaE1uokf8jDSO1ncG4nhmhRzFqa2oKjKBBrScxnME6MxSPmcsfHSdL1s8ZzntwELKEhpPISfPTpC3CQp6jVTQjHRARcHRbyBtzYzmF13Y/5OTOihWnEStPY2AyxO2WteRO2ViIk1WaJzey4QuwWTvIRjE0SOEagl47CbODBZuRBrxvDuJSPn/3NvYn4+jw4H9JcXN17WV9S7APkB8S///sLSFfV8JBR1nsHEEtOY6FhxOaGH0LtMdiIIeYycia9uG3w2eQssnkxK54q5RTIkQmXW87Cm+BjQvkg8sQ0XLPrOCWvxt0LW2IC6bgIQm5UQmoELWKn7cUAnnx4ETculdGh1wmGJ9hgHrtnhM1E5KZacU0gVK5eAgof9sQIIvSenQUr1pecCMUFkJi4DZA9BEoBbKFheJPDBA4jkkk6H+MZFBtqYsVROkcpnrrexu5yDEtVE5aX/ajQZ/BGeXB6+uF38mAQDyIQmIRGy42WPguzchxWowj3PHAMb/wxMO+/9d5X9jxkHyA/JC5uZQkIQxBbT0Nh6yYZpMfmugcffWqdDLwQhaoY1SJ5B5JUxZiYkvM0HacgNp+G3TcCGSU1N+lpWneMDQPlZhhyoOF8isbZw4DG3S7WBvqgdfRhdyWA6+dyuEireope10iGXe3oRT4pw1xRg+q8jv7dA7W9Cwp6n1BSyEa7CUzHEPBNsq0oans/geoEOi0rdrcCKM1LsLnqwVLTAatjGEpvN3ylCcyYT+GJ201kaho0K2YCMpnz2CgiBT4iaWIm+RgOHX0foq4ZmMODsGi58czdUEjOwqMehNumwNsOHHtdm/if+KXfekW5sQ+QHxL//UufYJpcZu1CuapjSVxaIKNLiWQgycU9N7jc8WO9aUeWmEFuPguB+ihEtNJzNRYrJGu42pJwntvGwYclOIJAjI9ZAobYzE3I7SUGGkSuKMMnP7hLQJDAFyVZpydvQqDiQHFhLUSGewwZYqBSTU6MNo558h9C/QkoPT2IZ0RQeLrIuGuxQ+fCzTGcMByj95RimcBcqkvp9aVIZcXwkp8ZUT0IifUUVtcirH2pJz2GhboNjiSxQ3IE129UEMiMI2AZh101DI9jDHJvFxyOAVhNvbAkhqDT9cOi6IXXMoXfPHjkRROkXi8Hd15f/ou/3HtZ7zr2AfJDghvyaQ8OYXHRAGdwDG1K2Bz5g3RZQub6EOpFJepZGTyRGVqRz0BiPIUpMt6jqgNIcyMOkjPQurvZbd16U0fJqkI0Oo04ybVgnJNA3NPyCdw4nyEJpsag4j5WlegIUNKS5GrMGUiCnUKQQNNpmzA3r4Ha2U3sNM52/Q4oHoDK2YtwTgg/+ZEl8j9ri15kcuRB5vWo5lSYK5AZD/DhJmm2Tt6j1tKT7JrG0qoXa+teRIp8mMI98Gd4yM/JSGKNImkjWSkdgtc4BY9xGBbXCIwExlpZjVhMAKHqFKYVJyHRnIbNwsMvv/v+11Xh1P//2L10de9lvevYB8hdxHLbiPVFM62yWlTqalxpeeEh/c+13SkmZkl2qaElM+4N8pAgQMgtp9gdLm7s8+X1IMkgATGBFmECRLYyiyIlrVB5lnxEF6tNL9YluLwTwjIldKIiQiw/DSXJKB+Z6JsXSyiTzymlZhibuP1j0JI/mLWexbjmEEmpI3DGxhFNC8n7ONis91JJg0qJwFWzsbtZ6dwsnJYRmN0jEBvPIpmSoZI3w2AcgCkyBGeBhxUCiz0kg8HRj5CRQGuYJHM+wnYY58hfJbMiRG18LCxyNTKDGFIcwpDsGAYnD2Bo/DD8PgV+9jfe9aLkfD0cBodv7yW969gHyF1EZt5IcmWG7ZuqVDU4R2a2WdcjRQCYJ1bw+kdRiM2gSKb8UseHQlzCSnMFuqNw0v/N6o6TDxlDpahCmNhjtWpBgcwwJ7G4vV6buwFk5oRIEThcCR67neuKTeDWpRJiwSmsNrntIWZiAhVM7kE2enpCdQTjigMwB4cZAHa4hg5ZPrbaQTayYWPJi8qcFv78JNbmPUiWZ0jiCdmY6lrDDDWxkss7Cr74BGKhKXzyw9dw58YcGkliStkQjGryNz4BLlxMwOkeh9hwCibyVO2UlhixH6PKw+iXHkaP8AEoZnvAnzwKlW4aP/PW33nd3Qr+2be8Y+8lvevYB8hdxGInAAd5h1hZRCZZixLJkCtbEdxYT5BEoq+HJ5CNkkHn7jJR4shNZzClPYxgcAKpqIg1oOaSlXsqLqFE45rFnacE5ioDq+EZ1DIKzNeUKBK7PHFnkd5rHDEy3jp7D6zkTzYXneRLJsA3HIeUmGNSdRDW6DAmSOIJ9MfYpsZKTIbVeTsirnFiGwX9jA/5mgSGYD/ccR7Urm52o8AcJvkW40EaPgNfcgrVphkqVRfyGQPkM71Qinqg0/Tj2rkYskkhlhbdyMZFCGfEsBFDtpIa6MwDUFgGIJWcgWq2D/cfeBfef+B3IRMOYlg6he+MVHtxor5WB9fp5C//6it7L+tdxT5A7iKuXWjjFhnXzrKN6feFOSva9Oedy1VsNJwoV+Qw0souNZ3FhPIgZJYzuL0SQp0MvNXdi2qBe/gnZtWGQjLPGs8ZpNIiBNNTtPoLUIoJkYnQ6k6SxR2ZotdTwULMk81I4MlMsZamGkcXwiSXJg1HMa0/DJ7uMEbJf8hJik0RSOTWbrRCM6hExFiuubG1HMANOr9QlQeh7RRm7aeIbcbRXOSaZlOi15zYXY8iVZZjqRWAm2QVx17nl6Io1yzQWYZw52qJJN0EzKEBjKmPkj9RQ6g+CVeKT+99BDP090HxMfitY1ApBnC29xgMKj7u7ep5XZl2blT0k08/u/ey3lXsA+Qu4s//+x/DGeamSEkRpuSwu0exQCvvc0/vYCmvRpjbFhIagzs6hjECiIG8BTcbnZNKSTLIq3U7AWIGIuNRhDJ8tlW903TC4RqEwdlP0mWc/IUSjYYKHgLGNnmJACWm0tXPHiZKrT1sd++Q/H62TX6CADJJABFaT7I6k37F/YxdMgkRKhUZUgUB68vFdWaUu88iUuIj5hVgYdWGTJ2Aaj0Fo38A25sZOocRnGv7YNGNIFNRwlscQzg7Syx4gg0zFWmPYlhxECMyknOOIaj0XdBb+hhghhSHMag8RAtDFxz2MQhFZzApGkbfZD/rePLTv/r6Me2el9npZB8gdxn5igQj0gegc/fhsavzSManabWfxBxJm0ZDgzRJKb29m7UqnWLm+TiEBAgnt+V8O4alsoFMcj/0lPCNpgELLRe0tEq77BO4enEeiw0T4sQk4fgU/OQ/Imk+RigBJ1Vc58WDrGl1ODkBmf0kK6zixr5p2Z6vM8iQgc9wrYYKSlxYT7KNjt48jwz/LIJ5AfLkXYJcn66ajMAiRKWmRZIYzREZQKJA0lB/CnzhURQJzOeu5GkRmIaXvE+qKCL/dBIO/zgk2tNQEjhmzWcxbTpOgCVWMnTBYBuGxzMBj3UYU7zTsOnIa4W0ePN77yUv8uJEfa2O337/4b2X9K5iHyB3GaubXrSaJjZjcLllRzYxi2RomvW0miXPwW1JESqPI026nZsoZXD0QWXpgsU3wGpAOnUzyjEpinUDnnn6PLGNDEpLP1zETC4/DybXMJyZQWSKEiRoBa90uGGfThTI2HMTcMP5abZx0kOgjBIg6pT0fmKuQIbYoiAnNjmF1rwVc1UjOvMOrLUd2D0fQKw6AWdujFUx2nOjuHwhi0JZgUvbRVy/toDrm0WMzRxEoirDh5/dZd1NuK4q3HiGpYoFSzkLfBEBXPSZQv4pRPMi2H1jmNWcwoz+DLHZcdgtg3Doh1BwzcJp5m4Pj+BgXxfe+OYXJ+prdfzUL78NL7zwwt7L+kNjHyB3GfGKHXrnIG5v5/DBRxaRiZGhfngBJvcwraqnMELSakh8CFpzDxKpSfYEvVRSoplXkantxXxGgxx5iBs7RcgNp1GftxGIuI6JGoSIjfjG41B6TyKeE6I8byRT3YtEcpqt+Jwx1/r7INTTKl9VIR8TsdFtK20PKnUVm2EyqTvCdhU3SPp1Vu34o+fv4JPPPYS5tg36YB804T7o6VAYuiEx0GspTxPzuaHQnAVfegQqMvFcW6PNC0E8//QV7K4GoSG2tIaHSEJOYX3JAxtJQqNrCHFaBJzkWaxekp2RGZiUwxAIejDK6wZvsg+zgl70TwzhDb/8+vEhnFH/5KdfeqeTfYDcZfze8x+AmKTFubU0Ht3OsAlT5eUKJsmszhKL3LhYxiyZVjsxgdJyFnbvIOKFafIWClzdSGK3aEUpKsTOghNy8hO1tg7JsgSLy3aEQhOIkkdJFsXIEntIaPU2hnqh9/aSV+iH0sM1bziFYeUBdkeqWVXjaiuEdk0Pp2OQfM0M6w8cyIpotR9Djdjl6rkcSnkdvCERolkhPAnyCKojaBD45utqtJbsaO444U5MwuaYYgVhV68X8fFnrjEfs7Lkw1xKBr6KTDj5oSi3pSWngFp3Fg7NKMyKIcj5vbDreLAr+uBWj2JkvBfTohHwJ3oxJBjDr7z/gRcl6mt1cEb95bQk3QfIXcY3/vmfUEyIkaPk++LzN2EjXX5hK4hcSkor6whyxVnUKPmcHjK5YT5q9HWfdxy3LmYwR+Z3PqMl480naXIcehe3kp+GxHqCEngCrtgUGwRaSclh9PaTLxBgTHWAZBUfk4Zj4FtOMIYQkq9Re7poFe+FLzqFlY6bDebR2vpgCI4gPydFq2JAuUwJvuHFyroXD12vYlp9Gu879nYoyK+sNR2sCfZ6x47t81GINEfQqblxebeKD3/oHJvG294w49pmCnNzVtSqOuQzKixX/PAZedDNDMAsGyFgDMOi5GrapyATdEMrHQJ/ahCy6X4YSGLxJaP4ne5TeMvBA2TY73lRwr4Wx7BAuvey/tDYB8hLiIsbEeyuBPHxp88hEpzG4qINUtsZNjBzSnUYKms/eRMx2gSiMhniAiWqL8HVfBzF/JwBgSgfA7P3IpuSoNMxwZkcxoz5JJoNM3mRMTh9ozAQY2xt+LC64aFVfwq+DB8yMuViF3mMjhm7LS/GFPeBpz+ERo1eMz0Fh2sUXicPKudZtJb15EP02F4MspamQvUhAuQgknExfv9TjxNQFdjZ9JB8E2Jk9iCrS3nysVVcv9hAosjHw2txPHtnEc89soonL9dRzpKhJ/C32gakyH/o5D24upXDw1cbuLFdweZ8HCbZIBbDWmhlPYh4hYg7RJCqRfjZe96Fn7/nPa/JOLbvdfzcW96595L+0NgHyEuID17nOhJG0GlbEYiIYCRP0i26F6WkAjLDGfAkhzC/YIDXP8Y6I65QQnNTcLkG1E/dWEA4OQuZ/jSt5F1Qms/CGR+EKzmKYGQCK2s2lCoqFLMSLHVs2NoKQWrvQqEpJ0+iYAVVqbCE9cnKZsUYVR8gRjmMfFKKJx9dJq+jw7VzaTj9Q8imZazp3YWVMGyxMSyuemDyDeHaw3m2Bb9es8Hm4UFrH2DFX1yt+sWLKfzBp5/E9e0knn1sHVd3ywgWZgkUSpTzGlTmNIhy1YeWIZSI6Z5/6hzCXgH01h7W38trHkYpJEExJIVTP4moV4Gfe9u72fOQ18szkf/j//qv+LuvfnXvZf2BsQ+QlxCfef5RfPCpRUwpHyCWUCOdkUBPSVat6JihLWcVqDXVqCRnkOdGPTeM7G7XNKf9mxrMaI4hTeyRjPGRL3DVhUnculzC2uJ3+vMuLTthC3Km/yTJtwjr4ZtIi7C6akObVvAQmXZ/UsAaM7SXjKg01AiS1Cpzd6jio3AExrG4YCa5xkclLcdO0w+zndt9O4znPrCJEoFjqaLFtYsLCAamsbMTRaZJjEKeyhnlIVgVEBi4uncXnOFhFGoq8kczMBADRfMCGGxD7El7oUggJvCl0xK4SCK283o25yQaFqAalEMyfQYGxSD8bg3e+Nb/+HHQ3+/4337hN7F78crey/oDYx8gLyH+6s++BIP5NMyUzKnYDLSUOEpa0ZW2s9A6urHStrAJuFpiiExWhkZaQd7hKLbSOlxe9LOdvtxckBBJJ05O5fNydMgzcAb4wmaYeRWDswsC0wnwdcdY/94lknGVhhadlgkCw1FWC2/3T7LO8fNtI1I5Ca5fSWCupWGVhr7UOET080bfANa4ATwJDT79oevkRxywxIfIQ81iQn4QngD3vEWMteUwHru5hrX1ELaW/ahXbZjvaOCKjtP/+ZAi1qsQO8mkpxGwj8BkGUTYT/KybkClpEWT2GNGcwIXV2PwuIg5zRNQiPpglAwjZJwi2SnHm9gmxteeRTgm01jdey/rD4x9gLyE+Pu//xuMz9wHl3sI5xdduHw+SUZWhgtrHlhCA+gserHcdiDlnESKNH+nRqt5VICtlBbPPdxBo0xSJa/GSsvFevAqSGaZPcPMqIezPPjJ+O/spsmjCKH1ECM1FCjTCm/wDKBRNWBae4z+TslH77Xe8SCS4COQn2TdF3cW7Whx29g5JomTrJrT4ZPPXsQ6gTNRFuECGXZHaJTVgcQz0wik+FA4+xHNqpCqzxIjebBaMeHidgKJnBxrre+Me7uwmmJd5rmbCLmcFCZDH8y2XhQzcqTSs1jJGrBJn5nb1h/JCRAwj2Ka30MgOQu1eABePRl5jwa//M73sU2Mr3XTh/ce7tp7WX9g7APkJcQ//8s/Y6luQr46g7mGDOvzdqxtB7Bad2KtbkMxJUWuMovHLxagIabhtqcXCjK0oxp85plzsDoHGGiqGSXb/Rsjhnj6dgtbbT9aBLhmXYeFpp78SAhyWzdaTU66dUMf6IfFNYRkWIjVBQcKVfI81pMkmSRsZ+2U/gjJHSG9th7R4CRJNRMyFSkBaRC///GHSM7N4Ny6jwDRTe9pJjbyEpP1IFWRIEeex5ebQKJEgM7o8cTjyyjWFYhFhdho+4jZUlglw98i6bYxZ4VJ28VGVFv9/XCTdNta9ODyUgStnBrlggGNmB468SCs6l7YLSPI+sUwy4YQj+hxz4EH2dP119KTcA8MX0rsA+QlxmLNh6WWFe2sGp94fI2MtZZkkB8NSs5l8hx6Xw825m3oNC3YLZkQC/KxWLYjm1RRYtlgcvVhg6TMrc04u0XcmDPDSskv0R7HdsMGPYHoxqU5nK+5kCAPwr0eV5PuCfJgID8RKQgxoj0IuYN70GfAhO7wd3r/mk7C6Ohj/X63z3sQLk6hVtVja80Pm3METjqPa5ezbEv9jYcXEKXVvlK2Ip0VolZTIki+JRQS4nInSl5nAhtrMWyuh1Gr2AgEfrQbXuiM3XBZp9iM93rbhEhJhitLITx+qYjOUgAm3QAiLhHC1gn4vBMEogHYQz3wGUahVZxBxCLA8Mwk3vhrr50v+d/Jh3zgg3c/S30fIC8xPvbRxxChxG0W9Vht2pAvkY+g1ZVr7cMN4QyTiV5ftWBtyclkysWVBJZqbkSCYmwvuLC6bsXlcymW7AtlLWIRIRSmM8RIOhTJi2w2HfC4x1gPrPa8jlhgCELLUVrxR1n3xVhCwMp3jcQq80sO1gneHByCinxQsSLHhOYQJbUEqdQMjMEBLHX8rA7k/EYCFzeTqJNXubyTRXNOD19mDOsE9nJShnhZyBo+cBN2FeYzSGT5qBVtyKT0xExhbHTi2FqKI07M16xaUCajvrkeQboyjVhITAwmx8efvoSARQSp8hRsyXE2fChP399Oq6GXdUM108ueuit0Uvzkr72dDbrZm8A/6uMnfuke+KKpvZf1+8Y+QF5i/MNXv4LLawE8eaOK9poZX/z0bXTK5A/IqDa5PUyG4ySN3Oh0bJTgJnZ7d2sxDJWhh8344DqPPHRlAY9cX4A9OEJm10oSSIJtkljXV+N47kaTXvMJ8iADsDpG0Sc7yB4SFgpKSMwnoXL0sEm3cxU129/FTYnypXmYJpklMhCLEFjiqWnW73e56cJK008Jf4rNZr+xkcbNq2Ws0/nrvORx6DXOEUs8dKGAna00LlyoYGsrBr2xD4NjByGZ7UYkICWABLFG4F5fos/VMLP6lSuXymi2jVicNxOwxlEncD72UAeCyZNIxeRwpEcQIa/z7K1FPHWnCaO2B1bTCGxaAo1DgAnRCN51/OiLEvhHfXDzTu473rP3sn7f2AfIS4xvfuPreJ4M93/7wrNYXDFheyeIy7SSXiQQmP2DKMZE6BTN5CWsUFvO4MNP7NKKeRYi1RFU0jJigkGoyZzP1XRM68+TXBHKj5CHMSFREJGH0eGzv3cdtugQhuRHWa0Hdys3GJ0E38z15zqG1jw36UqPZFqEjVU3NJ4u9IjfBx0ZeL2lB/EKyaaqEZd3y2S004jFFPD6p7C8ZEW1xrU5PUXgHGfNHqotNWu2Xchx03hnEAxLMU7nGg4KMNc0o1Exoz5nJJOfI1MuQWlOgXNrYXYzgms0Z3H3IUXMt0JAL9HnUynPIleQI1OQYmnBhGB2EsWqEhm3ELH4NOYbVixEdSS5BjA50Y0jQ72slv0/clDPr77z/r2X9fvGPkBeYnA7Qh+/tYpHb1UouWcpCcyUPBE06nZaYV2YX9Dh/KIX1y+k4ElMopo3gqc9BpdnAvMFLaJRMfTeYXTaNkQS5DHcXM1HNzJFMUJpAQSGIyh3JCjPKXGR9P3Gqh+by06ESFrNcbUnmSkU5mfJhAshJrCUSxL6+S4C1DjSxVlUyxrMtbidwH5stMI4txzFQ7fKWKAkd8QmEU1K6HtUWJ83olxWMp8gNB+B1zXB2I/rEmkg2VbJGkluSck/GZCaE7MhPmstO72vihJei9tXS0gRQyQTM2xmyUJBQ9LqNJNh/ogAi2kVEuRpdGTmL2+nkcyI2c0Hbn7i2NARHDhGgBYPw60cAk88jjdwz0ve/AolF9en664aR7x972X9vrEPkJcRneUgXWwD0nkxYiUxqiR/QiE+SkUtIjExEnERMYkU8YSUkmUWo8pDtAoTQ0QFeOShKuSk8VPcfqmWE3/6+8/i0XNFLLUNbCu7MzWOxU0y+CtcZxIFme1p+APjCOfkGFE8gFxDgoUVK5nzQyTP9PAkRxHL8WEMD2NI+X40V9RIkEEvVmZwfilCcq4NOTGZ1j0AuacHUmsXGxPny0xCQUxSSs8QU+jJTE+SfzkMZ0xAUu04QhwTtjx0bgW46f39uWGsLLgRJHN/ZSeHYlFNsk9C8jEEo3UAAvFRaORniaG0WCYwNisakmNGGEwEttAMbq6l8Oy1NnuoaTMNQaoiFjMOQjvTDZtmBGq7Em/g5q3fVYJ/7+Pn7vkd/NbBI3jTr3J3yl78///f8ZNvvgc75y/tvazfM/YB8jLi85//OArpWQRJ1z9yMYlW0cSKipY42bERQ7muwxO3miQ9FBgUHcS4+iiUpgGksjrWXrRc15AEESNfl+DWwyWc2wmhVtJCajvO6sbDIR7M9j5E03xaseXEDEIy5b0EwjFiED6efKQOueMEewaxVjRSssoYG3BDRtc3bNAEu+Hxj6GRV5HUs2NSexhu7yibWuWi84xR8ivIy7SL3GSqWczReS81bCSXBlhjiId3U2jXTKhkVHjqqTUUSgoYiOlaLSN9RhtJNQ9KZSluXqqRX3oSsagc3iDXcsjJmtftbGZw9RI3u6RCPkePzaoV7boRO0UXPKFBbJTMbLS1jryOQTIIv4UHr3oU8XyE7dt6ubeBuWcsv/DO9+EdJ0/gp3+NY6Pv/Trc6w9Nzuy9rN8z9gHyMuIf//FrMHElq6shnF/xYYMSZqlkwMee3cHKsos95a4tUhKk5ZiUHSepIsOM+gQxjhplYoX5ZR2ZeCMu7QRwoeVGc9GAaEmIeGkGrvAQPvTUJha3rCi3SGrVJEiHphEqTCBbE0FuO41228Semq8U9ezOmT8zAT0lfKmiQKWghtR8GlLLaToXSvyyDkpPN/M7UlcXK7H1BSbQIs9TqkiIaaTYPReG0tJF7z2JQpWkUUaGQmIWuawM7WU7PvDYDhRWjh10JPe8uH1lDh99fA27Gxn4vdOYmDyKYGwCizUlGgUFG/eQLAhxfjWAXE2GUGkKsfoMUiQpuYGlK+SPtuYcUMlPQivqglHcA97ICQiEXahX/TjUP4A3veXdL0rsuz1+4Z2/i1+/9wC+H0C44xff9h7827/9295L+6LYB8jLCK6pdbmmxlrbi/U2af12mDS2HEpbH3hkcO9cquCZx9bRmHNhXHKQlarKyJiHKdEXCUy1hhIffWSVTa1arJuRJkCd2w6h2tAhkJ3C5nYQNW6ybW4WH7q9BGtkiLyNFuUiAc58GLO2UzA4+3CRa/w2b0ciN4VAcgzjsgcwIj+Acd0B1uw6mpFgs+0ho0z/T1KN2x6TLojQJkm1sxaHO0ZSLCJCjCupdZ5id9jaHSc0ZPS9sTF8+MkVhLIT5GeCqNL5NOcMmK/oMF+1sJanJusgqlktwvQaucwMHr45j2JNgfWtGHZ3wqhw4IhOI+qfYjKNaxYhNRJw81oYNF3Ms2gEpyCbOQHjTA9MswPQzfShkjTBH7Xj59/xXkrml+5LuJ7B/+d//cEA+2nyO9/4xjf2XtoXxT5AXkZwQ1k66z7sLMZxc7eEesXAuqkvkPwwB0awuR6nFXQWvqAQA4IDSEXEsHqHsLPqIiCJ8PDVHNZWg7AGB8l8T6LV8ZN8sbOhoG2STNH8FHbmHbjecLNRzUbfIGs+F8uKYYkOkWQ7SOZfzea3r5LxffrxFskkNQPCDPkNo2cAattZ+GLjSJQEqBEgrO5huBLjcKdHoSb2i6ekdJ5BtNNaLJKh3yKZOEemPExGPkEJb3EP4QMEzvUVPyXrOAJhAfLkuT5wex3Xr1bg9QmwQrLs8qUiBNqjrAF3KD2BasXEhoJyv4doXIyNnB6LxK6xMHkpAkqRpOQceTZzbJhVVs5KjtGf3TCaCCDKAXZ3y20Yg1UziGTUgPceP4Gfegnm/aff/Hb82nsfhM7vxU9xz1q+x/dwB+d1vvLXf7P30r4o9gHyMuPiZgUfe2QNn/rYdTx9qY7r6zHyCJNs0M31C1mSQXpcv1nAwNS90NsGSF7J2ZyPRIgMfFlPKy+tyPNaPHV9Hl/6wlPQ+3tZl/althVrc1byCt+pTCw2NGiQp2mQJGvVSXZVNRCajxEY9eRlZDi3FsQ5MvSdgh6W1ABskXECVB/bv8XNTrTFeFgiZuCAU62q8fQji8Q8UfI1M9haCuLRmyVcv1xDMyFDJCsg0z/Gbtc646Nw+4YRr/CQmhdicd6GrU0/6g09wnEpzKF+zJXksHt5UNH7JeJ8ZGNCZvBnTKchcvTj/GIUyRL5nOYMtlfCCAb4aOS0ePbpTcSI9bgWSTPSo9AayV+RTDQqe+E2jSLmFMBsGCfTP4JKTI+D/d34SU4u/ZBu8j9/z3txz6mTeHv3GTS3l3BwYPhF3/M/AfIO1BYW917WF8U+QF5m/NVX/hzXyMzeuVHB01frJJ10yDTEzKyuL9lZG9FwcpI8yFGorD2sdoQbIb27k8bzz27h+Q/vsKrAclsFd2oEWZI+gQTXlGGUTLADtvAwFPYz9BpCkkRGdGoGLJB3aa2YKQmPormgI2OtxYeeXMQGybRNAkmYErxc09AqzrU5JT9Dr++mBG4t2Vg7ISPJsgAZfVdCjGWSTdOGE2zFdwXHGJC4ZthT5uMkhYaJnYgJzuVhC47A6B1EvWXG73/qCTLrfdAEehEjQJiJFbnZjGITV+Nylu0Ls3hHsFt34osfvY0vfeZZ3Lw6h07FzgaLthbtTGINCB6AlGTntOwY+KrDGJo+BI9vDHNxJdzmEXj1wwgYx5D3S+HTTSBsFaJfwCNf8n8zI/79GOVNv/FOvPEt78DbCCQn+BN47M45/Myvf/9tLe85dGrvZX1R7APkFUSnamDDb65eSyNPJjQ9N4NpLSWZ8hBc3jEks3LwBcch154mnS5Ae86I5YaF9ddyBIewsWIjBkjB4hrDBkk2X2QKqyseAtIUSZl5kj421m8rEBGiMqdkjSDaCRW9r5ZV+BXzs9hY8GB1yU3gmEJmTgKNbwBi6ylYYkOs8zv3UJGTSRfPJVhXea25GzpLNyyeYUhNZxAgWRRMCGGPTCLo5qFBXurypSwbodAij/XQ5TIyxUnESeJ5iSHjKTHC9DNqaxesTgLDkhd+8hbniEE32k5cIVZSGs+yXsTVqgMF33eKqlTmXgxPHCHAq1Epq1EiBtVY+jAkPIj+mYO0MAhwa7eIiI0Hh3EUdtkwxJNnIBg/AT5/AJO8Xsyoxbi37yx+7rfejTd9jyrFn3nLu/Cmt74Lv/S796JcDmC5GcWvclOxvgc4uOMnfvE38fWvf33vZf2u2AfIK4gS6elsUYwrl8K4uOTD1oqdJIoAvoSIGMSC25czOHXmd/HEnQ4yZJhTpL09UQHO7eZgIkZZWjLj9vkyJjVHMao6SFp/EtHSFJJzIjaywBgYRHZOjg8+NE8JNI5seQabHQfmWyaSbf14+EYBjZqWjVtoE3MsEdMMaw5gWHUAyRS3t2qakpmPzXkr+SQFMZMXelc3AmScuVr2XEoEO/mLeFYCMyVwKEnvzZnq4izm00o8fSGHq+sB2MNDbM+XUT+I4pyazUTkyQ+hSCBYadjhcwzhzrUy0uTDdLozWKxZ8PByFp/7yA1c20hhqaSDWHcKdTL5C2U7NhpBNAnUJucwk2W7yxEscyxTcRAwBlAOa+HUjSBiFsCpHYFutg+iiTMQjZ+BWTUOvVGIEek07uvuwRt+4134qV+/Bz9FEuxX3vcADg0NYGezhoBHAi29RmOx8X1vG/+XX3wbPv/FP9h7Wb8r9gHyCmL7El3YTSsu7Mbw+LkcHruURjjBh8U3iUs7CdRzCriD01BphjBXNtIKPsHYYHnRjUx6ltWh375ZZNNx1c4u6Bw9bHKu2nAG+QY3eeo43GS0uYlSAUr2NfIg28suiCi5NcEeXCaJt1DXMFNej8nYfMSbZNo9XOcT8go6Yw8c3lE05rSIJriJuFKYPH2IcO2HrrdY42svybBHCAgKN63SGmI/ev9ZYiCFqwfW8CBJrCH69xlYQ4OolbVIV4Vo0nta6Os+8g3prAzFnAyLDSOrH3nmoUVcWgvjqWsNZONy6N2jmJQfhJd8y42dHFwu8jUhITHoNM4T6yzV7bh9o43zKwkk3WIkfQr6XXmQDYihVBHDeadglfdDIxxA10gXhMQqymky9OpRzM95EfOqkE7b0Wml6fdthd3KNbNI4VE6D49PhM3VDPMmb/geXR454Hz4ox/fe1m/K/YB8grizq0N7LRdKMWk+MijK1hddCGZnkGr6UCLqyvf8KJcNOBMz724sJ6Ax0Orn3OI/IoJalsX8lUVNASKQGwKsbQAdvcIRNqTmFScIBbiYavhQJSYYJOMOPeUW2o7hQTXRbEiR6OlRpVW5gQBMkgeIkoyqVFUIRKYwAZJv3hOguy8BAb/APzpKfYEPV0XQRvohlB3lHWZ1zp7wFM9CL9/ku341QeG4aJzDBf4UHm64KXzqRQUGJIdIllIbEmHnKQXX3wULht5qpQAWksvPveJR/E8JWSepKOB2ERuOAudoQ8PX1tkHmVjMw4/GfS5Mvm0qJiYVEIgilHyC3B+K4Emff3ZW8v0pwepkBQj/AfIuHfDRK+d55qCT56EWdKHkeHTEPC6wBs9A7uJJCwBMJ8zo15yI+Skz6rvR5h8i5GYY2ziMMSiU5ApzqJPIPi+bVBN7sDey/pdsQ+QVxBf/epfo71swiolwIefPo9olk8JdBqdjh3PPLWOZx5bRTFrQKPkY3uU0hklqrTKh6KU9At21o1RZjmNVs2E61tZPHdzEUL5cXQL72NDP+vzdqhdp+FL8lBoiuGOj2KxRYa9aceTV6qYURyFLzxKMk+KRQJkp6KH0zmA+ZKCVnktu23MNcy2efsIjLPIkUTL0Hvnw2K0yODrKMlDqWlirj6UalLMLUgRjUzAYhtAoaTEnd0Cna8UrQULsYceJkMXm/duMPVihYx4taBFKaPGF3/vUcQjYgRJLqlpATD5B+EgSRhO6tDJ6hBL8dEuGbG2GMJjFxsoEJC4fsBX16JwO0hW+mehVp6BWtqLa7sZ+AiwTXptrrCMq/sPRki6qXrhkPVjhncKJu0YXORT8sSamYwecwSQQkyJTEIKqbAPvOGT4I2dxjj5F6Woi87LjZ9489teBA6OQf7LL7x172X9rtgHyCuMGq3kXDlsIMTDznIAev8Q29sUSPEosQwwWUegVg8hEpPDFBiBLzaNubwCscIMmdI0pOaTiOan2YTcdUqmsGeCZFYPsVEA8ZKaPfgz+HrhTXFNGYZxvmpDLCuAzUFanRKN2wRoI2NepATnNhoaySCb/L1I5OUYlNxLbDCNWkOHWklFsk5C56pi7VBTJNnE+uOwkeyTGrlRcN2QEUNdWY0gRIaZpztOnmIG/rAArbKBQC2COzIGJXkMX3wKCw0rG2fdnrMQYB0YVxykn5vBsPwouqcP4Ozk/RiWHEUhKUckSJKz6cbNcxU88XALJWK35z90kdXDy0090Pp7MKM7Rr7NAYupn+1EWK3ZcHkhSCxpYNv2H7nagHL2NGamj+POegpePx+FlBSxsAS1ggHX6Xu5soPlso3Jr8nRkxgcPIkTZw8jX8/jjb/+TgLEb+Mnfult+Nm3vhu//q4HcXyQwJkp772k3xX7AHmFsb4bwGJbizukuxdJTsU5k5sRYHPdS4ZWwioEDZYRlCtakiBmkkSz8IfG6JjAKhn5S+dSaBIwrmxHUc8rsUOyiic5CK19BFpzH5TOXtb/VxfoQyw3g+0FGxTq4+zO1M3LefIGQ5SI98MY6mfd5KOZKaSJOZIEhhnjMfIng2zPVpbJMgPWt+OsaGq+oCJwnsCs5Qz49H2R8BR8uTEy52pculBiNw6mjcdh8AwjQu9bqCno51S4SADaXPSyFqsWB2ey5ajNUVLaB2Eh5hASsLpFD6J/9hCE0uPEIGqUsxLUC0Zst4OMQZdbLrTzFvIjPETJi6VyYqhITm2tBCFVHSfGEGC9ZiZW02FnKYwnLlThco7DZeXhxnISab8QiyTdcvSzkfAMzndCuElG3+wfYSPhePyjqFdUMGlGIOb34MDpwzg2xINArsfvffbzey/hD4x9gLzCWF5NYHfRgRqtzFwbnhat+jLrCaQrEjgTo7D7ePB6+UyXz9d1WO54YHX0sucaRt8QFjrENvEJWqkn2JSpXskDOCW6n8y8BO0VGxvtJjKTXFAfwSYZ/0BwAgLlUdbRPZAUEDjNbJcvt2OXA4STXodjBi7pttoO1q1xhZitUVTiwx9YRY3O4dx2BCL5ISSKcjrX04iEBGi0NdB7ekhC9eEv//h5TMiOIEC+Zp7YMU9gk1i6oHN3f2dKVkyAfuH7MSI9TOA8DCsZb59tGA5DPxTkHcT605g1nESqOIuHNtIkxVS49dAcKjULmXkf22IyIn4AZgKVnViJA5rRNQIH/a74ysNYalpJOqkp+YWIRWdxbTWFeEINu3MMKkM3GsRa63UXbpMszSW1uLWTR7vmgi/Nda48hf6pB8iX+PHl//EFyot/wre+9S22++HlxD5AXmF88OkL2Gxz8wvJa7R1uHM1i4Uct49Khnh1CqcG7qOE6MGk6hjWtugiBoQolmZJN0uhp8QqlVVoLjnRyKlgcA9gVHWIbVOxBQfhDI1ARWZeSSDhZoNwNepcwZUzOoCHLpewUDXCTZLO6h2hxO6C0HiSVvRZhFOTxDzdxBpKJCjJdtohZMgfFGhV3d30IhznY0J3AGPag5hSH2YFTcsrTkwojmCuyg37mWG3iBX2Poi1xxF2T6Br+n2Q6U5CbyA5ZDyNMckB9Ezfjx7RfXC6eQSoY5BpT0FNsourXsyRD8qUtLjSDBHY+eDLD0Nt7oLVNE5+RYJQkM+6PaYJ6NW6kWTbDEaICT/02BIuk4EvlfS4fbGGMjFPd/8BjEwdx3aT2LpmJ0BLcJkWphUCm9/L3bUK4mMfv40//OPP4m/+7it44YVv771MLzv2AfIK45v/8nV05vWIJvnIZ2ewtmRAqapnderpuVkcPPUeTIpPYkpxEirS1w7vGHseoLSdZk+lt7d9MBEwDIFueNI8CA0n4E5OQeYi08o9+U5PQc9t5ShRIuXJlJLvyKSInaKj2CWTy3VByRHgYkUhybdplMlUr7VsMDgH4SYD74vw0KYVmas3L1XUuH4tT0acD6N/GArHGSzOW4lpPGzzY6/4/QinhZCTpAtEJwlAh8gbnIDYcoL5kymSP3LDKejIiE8T4Adl96OLACIleTRCTKK39rMhO3GSSCbyFtyIOG4O/G47wEC5QH4i4hMjRd7BbiO2IfC7CSiPP7aMMsmp1aodzaoVV3ZzuLIcxwb5Cp9filGSTK26A62KhSRmDJ945jq+9Jnn8Bf/44/xzW/98A2HryT2AfIK44UX/h35sgzXdqJ45HIBS4t67JL/KJe1cIX4uO/IO5FIyygZzmCj46NEFdGFNrLZHr7QFLy+cSwRqLThAYxJD8BGib+9FiFJc5rMqgh+8jMpYpRcTc5kC2s2XbewxnLpogjzTZJAGTkcxCSzJlrh7T0IJibQWjeiScC4eSmP7aU4Vts+3LxSxIee3kBnyc/GS3NmOxLlIxSbhpVA6grxkC4IWQ8sS2AIfJJqSmKmQfkBqL09ENB7DgjvZTJoiEz5sPwg+ohJ+sQPYoaAMyh9EL3C+9hYh6BnggA6TrKsB4/fnGMtVrXkx6oROdaaNja0R0CvP1c1kQS0w01ydIp8T4XMeWfBDZd9iFhYh6XlBFa3i/ijL3wCL3z7X/f++n/ksQ+QVyFuXCqj3lDi2qU4bl/J4vGHasQo0xjm3c/mFoa427nmU4iQbNle9aIxT8aVPEqcEjyWmcbHn1pHtiBGOSdhe6zMxCzTXKufBI/YQsQavmlJ7kyQD0mWZyFXHUUhN8seKvINR6D3cnM8BuCIDqNOPy/kRkNHRhk4ak0d6XMrK3vlNkty9RjPffAia0eUmZdjXHEIPgKrKzIJo7eXzluAeGqKzWbn5pIESC5xjbL9WT7JrSMoJmUEkCPol5ARJ2AINMdRyUlhIxM9oT6G+aIBzbyaPsMwnrnVws6iGzzlQdaeVEwGOpuR0vfrEMiMQePtYjU14Ti31aUfclcPOsRm1aYDf/pnX9j7a35NYh8gr0I88eQ2HOF+lJsStFqU/GkpjPYBiMQkT6zcnEIZ0mUJxJRABfIFIgvpdVpBuUImoekoSnMqlJpKZNJi3Licgcc/ApHpMCXuFDLVWdhpNT+3kcAIJaba3Ae15gQxFa26zmFEveMk8YzQeYbA0x1lk3FjxWnyFA6SX0bmWThpdX4zwqbepnMK5OtmOEgGSQi0RvJBY2TYRSTtnL4hxEiKVbgpV2R4y2lirpAQPO1h+Ak0/gwPZybfB57iBHpmHsAQMV44MIlCVMTuYg2J6fy03GyQ+2A29cFIfkSsPo2lORvySSWKaQWaDQviJLfm6gqEcyL6fBr8/uc+gq999W/x7W+/9AlQP+rYB8irEJ/+3DN04ZXokMa+0XFjZdsIs68XfYMPwuWYRIfkTLkhQ7WgYWMRFldtuEpAuHWjiAglXpDYJlWVYFjxAIp1GWsVWuaesnPd3RMyLNRNmCD9P0rySs2NgSZps9J2sFu4DgJGklimRKaY67DIzRzJ0muZSXKJSHJxT8U9MT4BQ0KyT43HL5SxsmrBRz5yBVnyMzbyRJwXMnO3o0lOaUxdzOC7yE9wd6ysBM4ZYhPuoWQtrYZARUDy88iM99Hfj2GWjHklNYtB8QHyUkNoppTEUmJcuhhCqihmC4GDQLzV8SAcpM9VD+ArX/l/8O///gJrgPFy7y79R8U+QF6F+NrX/g7NeR3OLTgoGXloLilhilDC6UkWCY7A4hkAX36EQDNCq6eINLUVscoMfX2E5MthNvU2GRPAGxnD7esVtlM2mOFDSmbZEeWRXOKxToZyWw+SRSkl3DBL3Gliogj5k0pdz1qUtpe5MQVSNCoGiM2n0ZpXsa0ikeIYCg0NajU9KmVKegLP9cslWFx9aBP7pJNiSu5++JJjmJA9CIutD+XYLLS+fmKYAdRzSjRzKlRLaiyWTCT/TqJc0kCuO0keZhJBzrOQ7xASsyiIMUzEckMkvxwhCT5JZvqf/uGr7Hbrj2PsA+RVivHpE8xYF4sKAskkNPp+aI1jpOnFrAhpSHIQo2Rud3ZiiJApziUlePpOC8sNMxJFIRpVJewkrbTOfrQ7dkjUx5H0T8JNWv7cThoy02l4QzNoEAjllISpogwprqQ1yYcvNQa1i0BFXuLm+SRKNRUWl7xsB/DWuhudppm0v5xN5r1xJQ8rSalAahK7Wz4sdDSYVB1GODELJTFWLC9gz1oiHh7MliHkKgqc34lirW5hd9M4BhGTr7JHJlDMyRHxjcPt40FmG8Hu5Q4+89mP4Y/+5Evs5sV/htgHyKsUwbiBTbd9fDeJkUnS9LIjGJ09CI2tGxe3k9BzY5zJrHtJnpRIRpmCAyRxRGx6bKdhpT+HsVQz4OaFLMkrNRS2s1DpzuLxR1dZIZPYfpK8yCgaTROUmpO4da1OABGzEl6u1c5TF8skfcaRKklYF8ZYSoArFxKswwpX3ssVXtnc3HAdCZqrRjQXzWystJlYhHsW84GbHXZ7l6v74Lbmt+asaLbN0JHUcgdnkMrLMSE/AFuIh/OXikhX3bj16AV85BPP3FXzgx/X2AfIqxQf+8jjGJ84hoPH3wP+9Gl4SNu3O3rkyJzLSe4IuW6GnlFWUHV9Ow4XrdKezBB5DBHmF/W4fauOesuCTz13g2SQEufOxREnlmhQojqio3Byz0YsPcQU3JPqk8hS0rrp6zbyIXHyAJd2IlheciGY4sNo60eZvMvaghGL6w489vAKFmpySIyncfliEo0VPVK5ScRKfDiCw/jCJ28TSGS40ArgxrUSVvJqBhKR7him1KcgMZGMytpw5cY2/uEfv7b3o/+njn2AvErx3/70D9HdfRCC2S6k0yIIVSdR48aXlcRsu8i07jgMtgFYwrzvgILAM0Mm+pHbFUwaOPN9Bj7yJK15OzKsOZyFPMIInrq9ALt7lD1U05LO1xr6SLp1sbtHa6t2LM5pkSMmcUbHsLsZIHM+SkAchod+VmI8ibklBeaqBlwkmdRq2dj46os7AfreMCptKSTkI7j9Y6tLTgKkjgBxArce28TSZh5/+7d/vfdj/i8X+wB5leKb3/wGuobeD72jH7dIJrU6FiQiYtiDgyjUtZjLqWEmcy3UHoeb9PvWphubZJBrJQWry+4sWJGnlVtCBrg2pyapJMOjt+bx1BNLCESmEPBMQaI9Db7sMHSq00iTp+i0vRDpj8NLJrnaViJRmEEup2G9q564WcX19SSxkRwffGIFO2thXCUvs1F34lMfuYxr5EUeuVNHLmPExmoef/HlP2ef43/eVfrP4SFeaewD5FWMWEaM5Y6fdU2/sBFDmMx4c97CCpTWiiZ4/FMI5sgzzHGjy6xIV90g6/kAAAMUSURBVGbw4ac6cIYmML+sZ9V5Xt8ou33KzTnnxjhzNRF2zxDWuKIp2QFE3ZNYjMjZYM4gyaSgbwIXLqRQWpJjZ8uNNnmOwrwSK3UP1radZMKNrPy2WjCgs+jHXN1LbPcF/Mu//NOrumfpP2vsA+RVjDVapbdWPLC6+jFf0rNOHs2aEf4Yjz2t9oemEE1Po1BRIJUWYmfdj3BKCrWhC/mKFJG4gJXlbm2EsLEbgsbTj3BWCItzFKGICGb3IJIBAeJZOczOPuQjQlxfirKS3J1VSv6WEfn5aURyE6zJ9NJOEp/+1LP4h7//a9bsbj9eeuwD5FWMP/njz2N32Y/Vtg0rcxbsdnxoVo3I5uUIJ8bhDAzBFuRmeZyA3t3Het4mCxLMklcwuAbg8I6wZxz1BS37usbbC5WjCz2892Fk5hBG5Ifg9/PYnSQzSblEXsjaBE1oj8EWncHahTl87g8+hq/9w1fZQ7j9eOWxD5BXMb71jX+GLziBp57awXJVj2hMCIXxNHtKbQ4N4NJOCsmMFKZQHx57uMr2ZcWISTY3Q6wePJaWYqtuw0JNg9U1L4L5aYjIs4zNHsQAtxFw5l5obT2QmwcRKTrxyOMX8OUv/yn+9Vvf2nsq+/EqxT5AXsXgZEyuIkOjqEepIMbSkp3VY3M12I/fbKC+aGLPMvwkpWaMZ9FuWuAgBqjPacjAD+DCpTyqcSmKcTGUxjNsvMKU6gSkhn4kyx589Pln8bWv/f3et92PH2HsA+RVjqsbCZJLvbCFhxCM8zFf1yIaGEOxJEUyK0KMWKFcUaJSNrDtJYOygzAFh9BeNiOcESBLBv/Jq8t46M55+kw/uKnZfvzoYx8gr3Jcvb4ALcmpfFHGtnrvLLlQaoqRKM9gZdWNeFKIeE6AUfmD9HcxPAkNPv+lT+DrX/8avvWv33zdb977Xy32AfIqxyc//RGEkiIozcdRaWmRzcrw0JU8GeshdNZDuHlnB1/6k8/ir/76y3t/dD9eh7EPkB9BPHppDjeu13DhcgtPfPAm/uzP/4A1DtiPH7/4jwDI/wvb1VZgdhSGEwAAAABJRU5ErkJggg==' width='200' height='133' class=\"itemThumbnail\">\n",
              "                       </a>\n",
              "                    </div>\n",
              "\n",
              "                    <div class=\"item_right\"     style=\"float: none; width: auto; overflow: hidden;\">\n",
              "                        <a href='https://pythonapi.playground.esri.com/portal/home/item.html?id=90ca22e2f98c405eb67a278799d3a103' target='_blank'><b>WorldImagery_AOI_NewYork</b>\n",
              "                        </a>\n",
              "                        <br/>WorldImagery_AOI_NewYork<img src='https://pythonapi.playground.esri.com/portal/home/js/jsapi/esri/css/images/item_type_icons/mapimages16.png' style=\"vertical-align:middle;\">Map Image Layer by api_data_owner\n",
              "                        <br/>Last Modified: April 03, 2020\n",
              "                        <br/>0 comments, 239 views\n",
              "                    </div>\n",
              "                </div>\n",
              "                "
            ],
            "text/plain": [
              "<Item title:\"WorldImagery_AOI_NewYork\" type:Map Image Layer owner:api_data_owner>"
            ]
          },
          "execution_count": 32,
          "metadata": {},
          "output_type": "execute_result"
        }
      ],
      "source": [
        "world_imagery_item = ent_gis.content.search(\"title: WorldImagery_AOI_NewYork owner:api_data_owner\", \n",
        "                                 \"Map Image Layer\")[0] # the index might change\n",
        "world_imagery_item"
      ]
    },
    {
      "cell_type": "code",
      "execution_count": null,
      "id": "f84f388b",
      "metadata": {
        "id": "f84f388b",
        "outputId": "6a8df1d2-ae26-4049-ce6f-fb5aab8e073c"
      },
      "outputs": [
        {
          "data": {
            "text/plain": [
              "<MapRasterLayer url:\"https://pythonapi.playground.esri.com/server/rest/services/Hosted/WorldImagery_AOI_NewYork/MapServer/0\">"
            ]
          },
          "execution_count": 52,
          "metadata": {},
          "output_type": "execute_result"
        }
      ],
      "source": [
        "world_imagery_layer = world_imagery_item.layers[0]\n",
        "\n",
        "world_imagery_layer"
      ]
    },
    {
      "cell_type": "markdown",
      "id": "d8583e12",
      "metadata": {
        "id": "d8583e12"
      },
      "source": [
        "### visualize the map and add layers"
      ]
    },
    {
      "cell_type": "code",
      "execution_count": null,
      "id": "b8cebc7a",
      "metadata": {
        "id": "b8cebc7a",
        "outputId": "1c622603-00fa-4cce-db74-40a3405ca0f6",
        "colab": {
          "referenced_widgets": [
            "a73155406f5d40f2bf1673b9537ace3e"
          ]
        }
      },
      "outputs": [
        {
          "data": {
            "application/vnd.jupyter.widget-view+json": {
              "model_id": "a73155406f5d40f2bf1673b9537ace3e",
              "version_major": 2,
              "version_minor": 0
            },
            "text/plain": [
              "MapView(layout=Layout(height='400px', width='100%'))"
            ]
          },
          "metadata": {},
          "output_type": "display_data"
        },
        {
          "data": {
            "text/html": [
              "<div class=\"map-static-img-preview-86aa4827-18ed-4287-b02f-2a9e30a46641\"><img src=\"\"></img></div>"
            ],
            "text/plain": [
              "<display.HTML object>"
            ]
          },
          "metadata": {},
          "output_type": "display_data"
        },
        {
          "data": {
            "text/html": [
              "<div class=\"map-html-embed-preview-86aa4827-18ed-4287-b02f-2a9e30a46641\"></div>"
            ],
            "text/plain": [
              "<display.HTML object>"
            ]
          },
          "metadata": {},
          "output_type": "display_data"
        }
      ],
      "source": [
        "#m = ent_gis.map(\"Kent county, Delaware\")\n",
        "m = gis.map(\"Kent county, Delaware\")\n",
        "m"
      ]
    },
    {
      "cell_type": "code",
      "execution_count": null,
      "id": "c7c48c74",
      "metadata": {
        "id": "c7c48c74",
        "outputId": "fb27b0df-06b4-4a15-8a2a-f04b3e3052df"
      },
      "outputs": [
        {
          "ename": "ValueError",
          "evalue": "[<MapRasterLayer url:\"https://pythonapi.playground.esri.com/server/rest/services/Hosted/WorldImagery_AOI_NewYork/MapServer/0\">]",
          "output_type": "error",
          "traceback": [
            "\u001b[0;31m---------------------------------------------------------------------------\u001b[0m\n\u001b[0;31mValueError\u001b[0m                                Traceback (most recent call last)",
            "In  \u001b[0;34m[50]\u001b[0m:\nLine \u001b[0;34m9\u001b[0m:     m.addLayer(world_imagery_layer)\n",
            "File \u001b[0;34mC:\\Program Files\\ArcGIS\\Pro\\Resources\\ArcPy\\arcpy\\utils.py\u001b[0m, in \u001b[0;32mfn_\u001b[0m:\nLine \u001b[0;34m191\u001b[0m:   \u001b[34mreturn\u001b[39;49;00m fn(*args, **kw)\n",
            "File \u001b[0;34mC:\\Program Files\\ArcGIS\\Pro\\Resources\\ArcPy\\arcpy\\_mp.py\u001b[0m, in \u001b[0;32maddLayer\u001b[0m:\nLine \u001b[0;34m2217\u001b[0m:  \u001b[34mreturn\u001b[39;49;00m convertArcObjectToPythonObject(\u001b[36mself\u001b[39;49;00m._arc_object.addLayer(*gp_fixargs((add_layer_or_layerfile, add_position), \u001b[34mTrue\u001b[39;49;00m)))\n",
            "\u001b[0;31mValueError\u001b[0m: [<MapRasterLayer url:\"https://pythonapi.playground.esri.com/server/rest/services/Hosted/WorldImagery_AOI_NewYork/MapServer/0\">]\n\u001b[0;31m---------------------------------------------------------------------------\u001b[0m"
          ]
        }
      ],
      "source": [
        "# try adding layer to the map with arcpy\n",
        "# import arcpy\n",
        "\n",
        "# aprx = arcpy.mp.ArcGISProject(\"CURRENT\")\n",
        "# m = aprx.listMaps(\"Map\")[0]\n",
        "\n",
        "# #print(m)\n",
        "\n",
        "# m.addLayer(world_imagery_layer)"
      ]
    },
    {
      "cell_type": "code",
      "execution_count": null,
      "id": "d29ea5b4",
      "metadata": {
        "id": "d29ea5b4",
        "outputId": "32336659-8890-4067-e946-ffff8e29b934"
      },
      "outputs": [
        {
          "ename": "ModuleNotFoundError",
          "evalue": "No module named 'arcgis.realtime.StreamLayer'",
          "output_type": "error",
          "traceback": [
            "\u001b[0;31m---------------------------------------------------------------------------\u001b[0m\n\u001b[0;31mModuleNotFoundError\u001b[0m                       Traceback (most recent call last)",
            "In  \u001b[0;34m[37]\u001b[0m:\nLine \u001b[0;34m3\u001b[0m:     m.add_layer(world_imagery_layer)\n",
            "File \u001b[0;34mC:\\Program Files\\ArcGIS\\Pro\\bin\\Python\\envs\\arcgispro-py3\\Lib\\site-packages\\arcgis\\widgets\\_mapview\\_mapview.py\u001b[0m, in \u001b[0;32madd_layer\u001b[0m:\nLine \u001b[0;34m1420\u001b[0m:  \u001b[36mself\u001b[39;49;00m._add_layer_to_widget(item, options)\n",
            "File \u001b[0;34mC:\\Program Files\\ArcGIS\\Pro\\bin\\Python\\envs\\arcgispro-py3\\Lib\\site-packages\\arcgis\\widgets\\_mapview\\_mapview.py\u001b[0m, in \u001b[0;32m_add_layer_to_widget\u001b[0m:\nLine \u001b[0;34m1461\u001b[0m:  \u001b[36mself\u001b[39;49;00m._add_layer_to_webmap(item, options)\n",
            "File \u001b[0;34mC:\\Program Files\\ArcGIS\\Pro\\bin\\Python\\envs\\arcgispro-py3\\Lib\\site-packages\\arcgis\\widgets\\_mapview\\_mapview.py\u001b[0m, in \u001b[0;32m_add_layer_to_webmap\u001b[0m:\nLine \u001b[0;34m1425\u001b[0m:  \u001b[36mself\u001b[39;49;00m.webmap.add_layer(item, webmap_options)\n",
            "File \u001b[0;34mC:\\Program Files\\ArcGIS\\Pro\\bin\\Python\\envs\\arcgispro-py3\\Lib\\site-packages\\arcgis\\mapping\\_types.py\u001b[0m, in \u001b[0;32madd_layer\u001b[0m:\nLine \u001b[0;34m487\u001b[0m:   \u001b[34melif\u001b[39;49;00m \u001b[36misinstance\u001b[39;49;00m(layer, StreamLayer):\n",
            "File \u001b[0;34mC:\\Program Files\\ArcGIS\\Pro\\bin\\Python\\envs\\arcgispro-py3\\Lib\\site-packages\\arcgis\\auth\\tools\\_lazy.py\u001b[0m, in \u001b[0;32m__getattr__\u001b[0m:\nLine \u001b[0;34m48\u001b[0m:    \u001b[34mreturn\u001b[39;49;00m \u001b[36mgetattr\u001b[39;49;00m(\u001b[36mself\u001b[39;49;00m._load(), attrb)\n",
            "File \u001b[0;34mC:\\Program Files\\ArcGIS\\Pro\\bin\\Python\\envs\\arcgispro-py3\\Lib\\site-packages\\arcgis\\auth\\tools\\_lazy.py\u001b[0m, in \u001b[0;32m_load\u001b[0m:\nLine \u001b[0;34m44\u001b[0m:    \u001b[36mself\u001b[39;49;00m._mod = importlib.import_module(\u001b[36mself\u001b[39;49;00m._module_name)\n",
            "File \u001b[0;34mC:\\Program Files\\ArcGIS\\Pro\\bin\\Python\\envs\\arcgispro-py3\\Lib\\importlib\\__init__.py\u001b[0m, in \u001b[0;32mimport_module\u001b[0m:\nLine \u001b[0;34m127\u001b[0m:   \u001b[34mreturn\u001b[39;49;00m _bootstrap._gcd_import(name[level:], package, level)\n",
            "File \u001b[0;34m<frozen importlib._bootstrap>\u001b[0m, in \u001b[0;32m_gcd_import\u001b[0m:\nLine \u001b[0;34m1030\u001b[0m:  \n",
            "File \u001b[0;34m<frozen importlib._bootstrap>\u001b[0m, in \u001b[0;32m_find_and_load\u001b[0m:\nLine \u001b[0;34m1007\u001b[0m:  \n",
            "File \u001b[0;34m<frozen importlib._bootstrap>\u001b[0m, in \u001b[0;32m_find_and_load_unlocked\u001b[0m:\nLine \u001b[0;34m984\u001b[0m:   \n",
            "\u001b[0;31mModuleNotFoundError\u001b[0m: No module named 'arcgis.realtime.StreamLayer'\n\u001b[0;31m---------------------------------------------------------------------------\u001b[0m"
          ]
        }
      ],
      "source": [
        "#from arcgis import realtime\n",
        "#add layers\n",
        "m.add_layer(world_imagery_layer)\n",
        "m.add_layer(label_layer)"
      ]
    },
    {
      "cell_type": "code",
      "execution_count": null,
      "id": "c3709e8c",
      "metadata": {
        "id": "c3709e8c"
      },
      "outputs": [],
      "source": []
    },
    {
      "cell_type": "code",
      "execution_count": null,
      "id": "0d377803",
      "metadata": {
        "id": "0d377803",
        "outputId": "fbc98d3e-3a8c-4948-fd15-28f6df271f4c",
        "colab": {
          "referenced_widgets": [
            "2c5a96d7dbf540149fc9b821ba555d6f"
          ]
        }
      },
      "outputs": [
        {
          "data": {
            "application/vnd.jupyter.widget-view+json": {
              "model_id": "2c5a96d7dbf540149fc9b821ba555d6f",
              "version_major": 2,
              "version_minor": 0
            },
            "text/plain": [
              "MapView(layout=Layout(height='400px', width='100%'))"
            ]
          },
          "metadata": {},
          "output_type": "display_data"
        },
        {
          "data": {
            "text/html": [
              "<div class=\"map-static-img-preview-0e6cde36-a67f-4873-bd6a-f1de9640247b\"><img src=\"\"></img></div>"
            ],
            "text/plain": [
              "<display.HTML object>"
            ]
          },
          "metadata": {},
          "output_type": "display_data"
        },
        {
          "data": {
            "text/html": [
              "<div class=\"map-html-embed-preview-0e6cde36-a67f-4873-bd6a-f1de9640247b\"></div>"
            ],
            "text/plain": [
              "<display.HTML object>"
            ]
          },
          "metadata": {},
          "output_type": "display_data"
        }
      ],
      "source": [
        "# Maps won't display for some reason. This is a test to see if I can initialize a world map.\n",
        "from arcgis.gis import GIS\n",
        "\n",
        "#Create a map \n",
        "gis = GIS()\n",
        "map1 = gis.map(\"Kent county, Delaware\")\n",
        "map1"
      ]
    },
    {
      "cell_type": "markdown",
      "id": "f87210da",
      "metadata": {
        "id": "f87210da"
      },
      "source": [
        "### initialize raster analytics and set storage path"
      ]
    },
    {
      "cell_type": "code",
      "execution_count": null,
      "id": "313a100f",
      "metadata": {
        "id": "313a100f"
      },
      "outputs": [],
      "source": [
        "#import raster analytics module\n",
        "from arcgis.raster import analytics"
      ]
    },
    {
      "cell_type": "code",
      "execution_count": null,
      "id": "59a6fd9a",
      "metadata": {
        "id": "59a6fd9a",
        "outputId": "df176dc5-9d17-4474-ba3c-5bd3444181b0"
      },
      "outputs": [
        {
          "data": {
            "text/plain": [
              "<DatastoreManager for https://pythonapi.playground.esri.com/ra/admin>"
            ]
          },
          "execution_count": 55,
          "metadata": {},
          "output_type": "execute_result"
        }
      ],
      "source": [
        "#set the data storeage path, where outputs labels and meta data are to be stored\n",
        "\n",
        "ds = analytics.get_datastores(gis=ent_gis)\n",
        "ds"
      ]
    },
    {
      "cell_type": "code",
      "execution_count": null,
      "id": "e5e899a3",
      "metadata": {
        "id": "e5e899a3",
        "outputId": "48c3e748-0e7a-4ba1-afc1-44231aa0c444"
      },
      "outputs": [
        {
          "data": {
            "text/plain": [
              "[<Datastore title:\"/fileShares/ListDatastoreContent\" type:\"folder\">, <Datastore title:\"/rasterStores/RasterDataStore\" type:\"rasterStore\">]"
            ]
          },
          "execution_count": 56,
          "metadata": {},
          "output_type": "execute_result"
        }
      ],
      "source": [
        "# display path and data type\n",
        "ds.search()"
      ]
    },
    {
      "cell_type": "code",
      "execution_count": null,
      "id": "c63b816f",
      "metadata": {
        "id": "c63b816f",
        "outputId": "6c2dc668-7733-414e-f2f2-43a149982156"
      },
      "outputs": [
        {
          "data": {
            "text/plain": [
              "<Datastore title:\"/rasterStores/RasterDataStore\" type:\"rasterStore\">"
            ]
          },
          "execution_count": 57,
          "metadata": {},
          "output_type": "execute_result"
        }
      ],
      "source": [
        "# request data\n",
        "rasterstore = ds.get(\"/rasterStores/RasterDataStore\")\n",
        "rasterstore"
      ]
    },
    {
      "cell_type": "code",
      "execution_count": null,
      "id": "199fbece",
      "metadata": {
        "id": "199fbece",
        "outputId": "f21aab9a-9c5a-4802-a3ba-47327ba168b3"
      },
      "outputs": [
        {
          "data": {
            "text/plain": [
              "'landcover_sample_world_imagery'"
            ]
          },
          "execution_count": 58,
          "metadata": {},
          "output_type": "execute_result"
        }
      ],
      "source": [
        "# test request\n",
        "samplefolder = \"landcover_sample_world_imagery\"\n",
        "samplefolder"
      ]
    },
    {
      "cell_type": "markdown",
      "id": "481402b1",
      "metadata": {
        "id": "481402b1"
      },
      "source": [
        "### export training data withthe arcgis.learn ML module"
      ]
    },
    {
      "cell_type": "code",
      "execution_count": null,
      "id": "c9cc96c3",
      "metadata": {
        "id": "c9cc96c3"
      },
      "outputs": [],
      "source": [
        "# set output to verbose for better insight into what's happening\n",
        "#arcgis.env.verbose = True\n",
        "\n",
        "import arcgis\n",
        "from arcgis import learn\n",
        "arcgis.env.verbose = True"
      ]
    },
    {
      "cell_type": "markdown",
      "id": "2079d0d2",
      "metadata": {
        "id": "2079d0d2"
      },
      "source": [
        "#### WARNING\n",
        "- this next part can take a long time (30min to 2hrs) to run\n",
        "- run it once and do not re run unless you want an updated output"
      ]
    },
    {
      "cell_type": "code",
      "execution_count": null,
      "id": "24c994c8",
      "metadata": {
        "id": "24c994c8"
      },
      "outputs": [],
      "source": [
        "#!pip install arcpy\n",
        "\n",
        "# import arcpy\n",
        "# arcpy.CheckOutExtension(\"ImageAnalyst\")\n",
        "# from arcpy.ia import *"
      ]
    },
    {
      "cell_type": "code",
      "execution_count": null,
      "id": "1af1c2fa",
      "metadata": {
        "id": "1af1c2fa",
        "outputId": "9e44aa00-d1a9-42fc-f092-46e6b017d39e"
      },
      "outputs": [
        {
          "ename": "ModuleNotFoundError",
          "evalue": "No module named 'torch'",
          "output_type": "error",
          "traceback": [
            "\u001b[0;31m---------------------------------------------------------------------------\u001b[0m\n\u001b[0;31mModuleNotFoundError\u001b[0m                       Traceback (most recent call last)",
            "In  \u001b[0;34m[60]\u001b[0m:\nLine \u001b[0;34m3\u001b[0m:     export = learn.export_training_data(input_raster = world_imagery_layer,\n",
            "File \u001b[0;34mC:\\Program Files\\ArcGIS\\Pro\\bin\\Python\\envs\\arcgispro-py3\\Lib\\site-packages\\arcgis\\auth\\tools\\_lazy.py\u001b[0m, in \u001b[0;32m__getattr__\u001b[0m:\nLine \u001b[0;34m48\u001b[0m:    \u001b[34mreturn\u001b[39;49;00m \u001b[36mgetattr\u001b[39;49;00m(\u001b[36mself\u001b[39;49;00m._load(), attrb)\n",
            "File \u001b[0;34mC:\\Program Files\\ArcGIS\\Pro\\bin\\Python\\envs\\arcgispro-py3\\Lib\\site-packages\\arcgis\\auth\\tools\\_lazy.py\u001b[0m, in \u001b[0;32m_load\u001b[0m:\nLine \u001b[0;34m44\u001b[0m:    \u001b[36mself\u001b[39;49;00m._mod = importlib.import_module(\u001b[36mself\u001b[39;49;00m._module_name)\n",
            "File \u001b[0;34mC:\\Program Files\\ArcGIS\\Pro\\bin\\Python\\envs\\arcgispro-py3\\Lib\\importlib\\__init__.py\u001b[0m, in \u001b[0;32mimport_module\u001b[0m:\nLine \u001b[0;34m127\u001b[0m:   \u001b[34mreturn\u001b[39;49;00m _bootstrap._gcd_import(name[level:], package, level)\n",
            "File \u001b[0;34m<frozen importlib._bootstrap>\u001b[0m, in \u001b[0;32m_gcd_import\u001b[0m:\nLine \u001b[0;34m1030\u001b[0m:  \n",
            "File \u001b[0;34m<frozen importlib._bootstrap>\u001b[0m, in \u001b[0;32m_find_and_load\u001b[0m:\nLine \u001b[0;34m1007\u001b[0m:  \n",
            "File \u001b[0;34m<frozen importlib._bootstrap>\u001b[0m, in \u001b[0;32m_find_and_load_unlocked\u001b[0m:\nLine \u001b[0;34m986\u001b[0m:   \n",
            "File \u001b[0;34m<frozen importlib._bootstrap>\u001b[0m, in \u001b[0;32m_load_unlocked\u001b[0m:\nLine \u001b[0;34m680\u001b[0m:   \n",
            "File \u001b[0;34m<frozen importlib._bootstrap_external>\u001b[0m, in \u001b[0;32mexec_module\u001b[0m:\nLine \u001b[0;34m850\u001b[0m:   \n",
            "File \u001b[0;34m<frozen importlib._bootstrap>\u001b[0m, in \u001b[0;32m_call_with_frames_removed\u001b[0m:\nLine \u001b[0;34m228\u001b[0m:   \n",
            "File \u001b[0;34mC:\\Program Files\\ArcGIS\\Pro\\bin\\Python\\envs\\arcgispro-py3\\Lib\\site-packages\\arcgis\\learn\\__init__.py\u001b[0m, in \u001b[0;32m<module>\u001b[0m:\nLine \u001b[0;34m2\u001b[0m:     \u001b[34mfrom\u001b[39;49;00m \u001b[04m\u001b[36m.\u001b[39;49;00m \u001b[34mimport\u001b[39;49;00m _utils\n",
            "File \u001b[0;34mC:\\Program Files\\ArcGIS\\Pro\\bin\\Python\\envs\\arcgispro-py3\\Lib\\site-packages\\arcgis\\learn\\_utils\\__init__.py\u001b[0m, in \u001b[0;32m<module>\u001b[0m:\nLine \u001b[0;34m6\u001b[0m:     \u001b[34mfrom\u001b[39;49;00m \u001b[04m\u001b[36m.\u001b[39;49;00m\u001b[04m\u001b[36mcoco_detection_utils\u001b[39;49;00m \u001b[34mimport\u001b[39;49;00m nested_tensor_from_tensor_list\n",
            "File \u001b[0;34mC:\\Program Files\\ArcGIS\\Pro\\bin\\Python\\envs\\arcgispro-py3\\Lib\\site-packages\\arcgis\\learn\\_utils\\coco_detection_utils.py\u001b[0m, in \u001b[0;32m<module>\u001b[0m:\nLine \u001b[0;34m16\u001b[0m:    \u001b[34mimport\u001b[39;49;00m \u001b[04m\u001b[36mtorch\u001b[39;49;00m\n",
            "\u001b[0;31mModuleNotFoundError\u001b[0m: No module named 'torch'\n\u001b[0;31m---------------------------------------------------------------------------\u001b[0m"
          ]
        }
      ],
      "source": [
        "# Uncomment to re-run\n",
        "\n",
        "export = learn.export_training_data(input_raster = world_imagery_layer,\n",
        "                                    output_location = samplefolder,\n",
        "                                    input_class_data = label_layer.url, \n",
        "                                    chip_format = \"PNG\", \n",
        "                                    tile_size = {\"x\":400,\"y\":400}, \n",
        "                                    stride_size = {\"x\":0,\"y\":0}, \n",
        "                                    metadata_format = \"Classified_Tiles\",                                        \n",
        "                                    context = {\"startIndex\": 0, \"exportAllTiles\": False, \"cellSize\": 2},\n",
        " #                                   context = context,\n",
        "                                    gis = ent_gis)"
      ]
    },
    {
      "cell_type": "markdown",
      "id": "fdbd8f01",
      "metadata": {
        "id": "fdbd8f01"
      },
      "source": [
        "### now that the training data is created, look at the samples"
      ]
    },
    {
      "cell_type": "code",
      "execution_count": null,
      "id": "571830c8",
      "metadata": {
        "id": "571830c8",
        "outputId": "72eb4734-fb59-41df-da38-4f57f8cf29f4"
      },
      "outputs": [
        {
          "name": "stdout",
          "output_type": "stream",
          "text": [
            "This GIS does not support raster analysis.\n"
          ]
        },
        {
          "ename": "AttributeError",
          "evalue": "'NoneType' object has no attribute 'list_datastore_content'",
          "output_type": "error",
          "traceback": [
            "\u001b[0;31m---------------------------------------------------------------------------\u001b[0m\n\u001b[0;31mAttributeError\u001b[0m                            Traceback (most recent call last)",
            "In  \u001b[0;34m[61]\u001b[0m:\nLine \u001b[0;34m3\u001b[0m:     samples = list_datastore_content(rasterstore.datapath + \u001b[33m'\u001b[39;49;00m\u001b[33m/\u001b[39;49;00m\u001b[33m'\u001b[39;49;00m + samplefolder + \u001b[33m\"\u001b[39;49;00m\u001b[33m/images\u001b[39;49;00m\u001b[33m\"\u001b[39;49;00m, \u001b[36mfilter\u001b[39;49;00m = \u001b[33m\"\u001b[39;49;00m\u001b[33m*png\u001b[39;49;00m\u001b[33m\"\u001b[39;49;00m)\n",
            "File \u001b[0;34mC:\\Program Files\\ArcGIS\\Pro\\bin\\Python\\envs\\arcgispro-py3\\Lib\\site-packages\\arcgis\\raster\\analytics.py\u001b[0m, in \u001b[0;32mlist_datastore_content\u001b[0m:\nLine \u001b[0;34m4452\u001b[0m:  \u001b[34mreturn\u001b[39;49;00m gis._tools.rasteranalysis.list_datastore_content(\n",
            "\u001b[0;31mAttributeError\u001b[0m: 'NoneType' object has no attribute 'list_datastore_content'\n\u001b[0;31m---------------------------------------------------------------------------\u001b[0m"
          ]
        }
      ],
      "source": [
        "from arcgis.raster.analytics import list_datastore_content\n",
        "\n",
        "samples = list_datastore_content(rasterstore.datapath + '/' + samplefolder + \"/images\", filter = \"*png\")\n",
        "# print out the first five chips/subimages\n",
        "samples[0:5]"
      ]
    },
    {
      "cell_type": "code",
      "execution_count": null,
      "id": "a9b9af01",
      "metadata": {
        "id": "a9b9af01",
        "outputId": "62261d80-827a-4ced-99af-008c1b376750"
      },
      "outputs": [
        {
          "ename": "AttributeError",
          "evalue": "'NoneType' object has no attribute 'list_datastore_content'",
          "output_type": "error",
          "traceback": [
            "\u001b[0;31m---------------------------------------------------------------------------\u001b[0m\n\u001b[0;31mAttributeError\u001b[0m                            Traceback (most recent call last)",
            "In  \u001b[0;34m[62]\u001b[0m:\nLine \u001b[0;34m1\u001b[0m:     labels = list_datastore_content(rasterstore.datapath + \u001b[33m'\u001b[39;49;00m\u001b[33m/\u001b[39;49;00m\u001b[33m'\u001b[39;49;00m + samplefolder + \u001b[33m\"\u001b[39;49;00m\u001b[33m/labels\u001b[39;49;00m\u001b[33m\"\u001b[39;49;00m, \u001b[36mfilter\u001b[39;49;00m = \u001b[33m\"\u001b[39;49;00m\u001b[33m*png\u001b[39;49;00m\u001b[33m\"\u001b[39;49;00m)\n",
            "File \u001b[0;34mC:\\Program Files\\ArcGIS\\Pro\\bin\\Python\\envs\\arcgispro-py3\\Lib\\site-packages\\arcgis\\raster\\analytics.py\u001b[0m, in \u001b[0;32mlist_datastore_content\u001b[0m:\nLine \u001b[0;34m4452\u001b[0m:  \u001b[34mreturn\u001b[39;49;00m gis._tools.rasteranalysis.list_datastore_content(\n",
            "\u001b[0;31mAttributeError\u001b[0m: 'NoneType' object has no attribute 'list_datastore_content'\n\u001b[0;31m---------------------------------------------------------------------------\u001b[0m"
          ]
        }
      ],
      "source": [
        "labels = list_datastore_content(rasterstore.datapath + '/' + samplefolder + \"/labels\", filter = \"*png\")\n",
        "# print out the labels images for the first five chips\n",
        "labels[0:5]"
      ]
    },
    {
      "cell_type": "markdown",
      "id": "31c08089",
      "metadata": {
        "id": "31c08089"
      },
      "source": [
        "## Train the Model\n"
      ]
    },
    {
      "cell_type": "code",
      "execution_count": null,
      "id": "31843772",
      "metadata": {
        "id": "31843772"
      },
      "outputs": [],
      "source": [
        "#set the GIS\n",
        "gis = GIS(\"home\")"
      ]
    },
    {
      "cell_type": "code",
      "execution_count": null,
      "id": "c1ef5536",
      "metadata": {
        "id": "c1ef5536"
      },
      "outputs": [],
      "source": [
        "training_data = gis.content.get('e2d37d87c4f548bb4b89b259b8373a904')\n",
        "training_data"
      ]
    },
    {
      "cell_type": "code",
      "execution_count": null,
      "id": "86397c3a",
      "metadata": {
        "id": "86397c3a",
        "outputId": "7f736618-1b1c-4234-820c-5b96697bda3b"
      },
      "outputs": [
        {
          "ename": "AttributeError",
          "evalue": "'NoneType' object has no attribute 'download'",
          "output_type": "error",
          "traceback": [
            "\u001b[0;31m---------------------------------------------------------------------------\u001b[0m\n\u001b[0;31mAttributeError\u001b[0m                            Traceback (most recent call last)",
            "In  \u001b[0;34m[69]\u001b[0m:\nLine \u001b[0;34m2\u001b[0m:     filepath = training_data.download(file_name=training_data.name)\n",
            "\u001b[0;31mAttributeError\u001b[0m: 'NoneType' object has no attribute 'download'\n\u001b[0;31m---------------------------------------------------------------------------\u001b[0m"
          ]
        }
      ],
      "source": [
        "# change this to the filepath where my training data is stored\n",
        "filepath = training_data.download(file_name=training_data.name)"
      ]
    },
    {
      "cell_type": "code",
      "execution_count": null,
      "id": "e0b570e4",
      "metadata": {
        "id": "e0b570e4",
        "outputId": "e0dd5ae6-a879-406f-f36b-746449369db2"
      },
      "outputs": [
        {
          "ename": "NameError",
          "evalue": "name 'filepath' is not defined",
          "output_type": "error",
          "traceback": [
            "\u001b[0;31m---------------------------------------------------------------------------\u001b[0m\n\u001b[0;31mNameError\u001b[0m                                 Traceback (most recent call last)",
            "In  \u001b[0;34m[66]\u001b[0m:\nLine \u001b[0;34m2\u001b[0m:     \u001b[34mwith\u001b[39;49;00m zipfile.ZipFile(filepath, \u001b[33m'\u001b[39;49;00m\u001b[33mr\u001b[39;49;00m\u001b[33m'\u001b[39;49;00m) \u001b[34mas\u001b[39;49;00m zip_ref:\n",
            "\u001b[0;31mNameError\u001b[0m: name 'filepath' is not defined\n\u001b[0;31m---------------------------------------------------------------------------\u001b[0m"
          ]
        }
      ],
      "source": [
        "import zipfile\n",
        "with zipfile.ZipFile(filepath, 'r') as zip_ref:\n",
        "    zip_ref.extractall(Path(filepath).parent)"
      ]
    },
    {
      "cell_type": "code",
      "execution_count": null,
      "id": "cbc34c7e",
      "metadata": {
        "id": "cbc34c7e"
      },
      "outputs": [],
      "source": [
        "data_path = Path(os.path.join(os.path.splitext(filepath)[0]))"
      ]
    },
    {
      "cell_type": "code",
      "execution_count": null,
      "id": "7dbe1b79",
      "metadata": {
        "id": "7dbe1b79"
      },
      "outputs": [],
      "source": [
        "data = prepare_data(data_path, batch_size=16)"
      ]
    },
    {
      "cell_type": "markdown",
      "id": "4ef95500",
      "metadata": {
        "id": "4ef95500"
      },
      "source": [
        "## Visualize the training data, see what we're working with"
      ]
    },
    {
      "cell_type": "code",
      "execution_count": null,
      "id": "6ba06734",
      "metadata": {
        "id": "6ba06734"
      },
      "outputs": [],
      "source": [
        "# show batch function displays a random sample from the training image file set as the path above\n",
        "data.show_batch()"
      ]
    },
    {
      "cell_type": "markdown",
      "id": "5929b5ca",
      "metadata": {
        "id": "5929b5ca"
      },
      "source": [
        "## Initialize the ML model"
      ]
    },
    {
      "cell_type": "code",
      "execution_count": null,
      "id": "abd33171",
      "metadata": {
        "id": "abd33171"
      },
      "outputs": [],
      "source": [
        "model = UnetClassifier(data)"
      ]
    },
    {
      "cell_type": "markdown",
      "id": "d833e86a",
      "metadata": {
        "id": "d833e86a"
      },
      "source": [
        "## Train the Model- Transfer Learning technique"
      ]
    },
    {
      "cell_type": "code",
      "execution_count": null,
      "id": "a591517a",
      "metadata": {
        "id": "a591517a"
      },
      "outputs": [],
      "source": [
        "# use the learning rate module to visualize the learning rate and determine where to optimize\n",
        "# where the model's learning rate drops out can help set the LR range\n",
        "lr = model.lr_find()"
      ]
    },
    {
      "cell_type": "markdown",
      "id": "b03c5f3f",
      "metadata": {
        "id": "b03c5f3f"
      },
      "source": [
        "## Run the Model with 10 epochs with the above learning rate as parameter lr"
      ]
    },
    {
      "cell_type": "code",
      "execution_count": null,
      "id": "746b207e",
      "metadata": {
        "id": "746b207e"
      },
      "outputs": [],
      "source": [
        "model.fit(10, lr=lr)"
      ]
    },
    {
      "cell_type": "code",
      "execution_count": null,
      "id": "caab075a",
      "metadata": {
        "id": "caab075a"
      },
      "outputs": [],
      "source": [
        "# visualize the results\n",
        "model.show_results()"
      ]
    },
    {
      "cell_type": "markdown",
      "id": "13f58ecb",
      "metadata": {
        "id": "13f58ecb"
      },
      "source": [
        "## Save the MOdel to disk"
      ]
    },
    {
      "cell_type": "code",
      "execution_count": null,
      "id": "5ea5767d",
      "metadata": {
        "id": "5ea5767d"
      },
      "outputs": [],
      "source": [
        "# change the name as epochs advance\n",
        "# publish parameter automatically publishes the model on the portal as a deep learning package\n",
        "model.save('stage-1-10', publish=True, gis=ent_gis)"
      ]
    }
  ],
  "metadata": {
    "kernelspec": {
      "display_name": "ArcGISPro",
      "language": "Python",
      "name": "python3"
    },
    "language_info": {
      "file_extension": ".py",
      "name": "python",
      "version": "3"
    },
    "colab": {
      "provenance": [],
      "collapsed_sections": [
        "f87210da",
        "481402b1",
        "2079d0d2",
        "fdbd8f01"
      ]
    }
  },
  "nbformat": 4,
  "nbformat_minor": 5
}