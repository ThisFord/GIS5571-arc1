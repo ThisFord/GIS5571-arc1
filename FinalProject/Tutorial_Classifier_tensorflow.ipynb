{
 "cells": [
  {
   "cell_type": "markdown",
   "metadata": {},
   "source": [
    "# Tensorflow Classification Tutorial\n",
    "### built with  Tim Tran"
   ]
  },
  {
   "cell_type": "code",
   "execution_count": 1,
   "metadata": {},
   "outputs": [
    {
     "name": "stdout",
     "output_type": "stream",
     "text": [
      "Collecting tensorflow_addons\n",
      "  Downloading tensorflow_addons-0.18.0-cp37-cp37m-win_amd64.whl (765 kB)\n",
      "Requirement already satisfied: packaging in c:\\users\\mrjdf\\miniconda3\\envs\\geog3531\\lib\\site-packages (from tensorflow_addons) (21.3)\n",
      "Collecting typeguard>=2.7\n",
      "  Downloading typeguard-2.13.3-py3-none-any.whl (17 kB)\n",
      "Requirement already satisfied: pyparsing!=3.0.5,>=2.0.2 in c:\\users\\mrjdf\\miniconda3\\envs\\geog3531\\lib\\site-packages (from packaging->tensorflow_addons) (3.0.6)\n",
      "Installing collected packages: typeguard, tensorflow-addons\n",
      "Successfully installed tensorflow-addons-0.18.0 typeguard-2.13.3\n"
     ]
    },
    {
     "ename": "ModuleNotFoundError",
     "evalue": "No module named 'tensorflow'",
     "output_type": "error",
     "traceback": [
      "\u001b[1;31m---------------------------------------------------------------------------\u001b[0m",
      "\u001b[1;31mModuleNotFoundError\u001b[0m                       Traceback (most recent call last)",
      "\u001b[1;32m~\\AppData\\Local\\Temp\\ipykernel_32952\\2056315402.py\u001b[0m in \u001b[0;36m<module>\u001b[1;34m\u001b[0m\n\u001b[0;32m      4\u001b[0m \u001b[1;32mimport\u001b[0m \u001b[0mmatplotlib\u001b[0m\u001b[1;33m.\u001b[0m\u001b[0mpyplot\u001b[0m \u001b[1;32mas\u001b[0m \u001b[0mplt\u001b[0m\u001b[1;33m\u001b[0m\u001b[1;33m\u001b[0m\u001b[0m\n\u001b[0;32m      5\u001b[0m \u001b[1;32mimport\u001b[0m \u001b[0mseaborn\u001b[0m \u001b[1;32mas\u001b[0m \u001b[0msns\u001b[0m\u001b[1;33m\u001b[0m\u001b[1;33m\u001b[0m\u001b[0m\n\u001b[1;32m----> 6\u001b[1;33m \u001b[1;32mimport\u001b[0m \u001b[0mtensorflow\u001b[0m \u001b[1;32mas\u001b[0m \u001b[0mtf\u001b[0m\u001b[1;33m\u001b[0m\u001b[1;33m\u001b[0m\u001b[0m\n\u001b[0m\u001b[0;32m      7\u001b[0m \u001b[1;32mimport\u001b[0m \u001b[0mtensorflow_datasets\u001b[0m \u001b[1;32mas\u001b[0m \u001b[0mtfds\u001b[0m\u001b[1;33m\u001b[0m\u001b[1;33m\u001b[0m\u001b[0m\n\u001b[0;32m      8\u001b[0m \u001b[1;32mimport\u001b[0m \u001b[0mtensorflow_hub\u001b[0m \u001b[1;32mas\u001b[0m \u001b[0mhub\u001b[0m\u001b[1;33m\u001b[0m\u001b[1;33m\u001b[0m\u001b[0m\n",
      "\u001b[1;31mModuleNotFoundError\u001b[0m: No module named 'tensorflow'"
     ]
    }
   ],
   "source": [
    "!pip install tensorflow_addons\n",
    "\n",
    "import numpy as np\n",
    "import matplotlib.pyplot as plt\n",
    "import seaborn as sns\n",
    "import tensorflow as tf\n",
    "import tensorflow_datasets as tfds\n",
    "import tensorflow_hub as hub\n",
    "import tensorflow_addons as tf"
   ]
  },
  {
   "cell_type": "code",
   "execution_count": null,
   "metadata": {},
   "outputs": [],
   "source": []
  },
  {
   "cell_type": "code",
   "execution_count": null,
   "metadata": {},
   "outputs": [],
   "source": [
    "# Loading a dataset, for this example we will be using the eurosat data from TensorFlow datasets as a starting point\n",
    "dataset = tfds.load('eurosat', with_info = True)\n",
    "\n",
    "# We are going to train at 60%, test at 20%, and validate at 20%.\n",
    "train_ds = tfds.load('eurosat', split='train[:60%]')\n",
    "test_ds = tfds.load('eurosat', split='train[60%:80%]')\n",
    "valid_ds = tfds.load('eurosat', split='train[80%:]')"
   ]
  },
  {
   "cell_type": "code",
   "execution_count": null,
   "metadata": {},
   "outputs": [],
   "source": [
    "\n",
    "\n",
    "# Here we are initializing our class names, number of classes, and the examples that we will have\n",
    "class_names = dataset[1].features['label'].names\n",
    "num_classes = len(class_names)\n",
    "num_examples = dataset[1].splits['train'].num_examples\n",
    "\n"
   ]
  },
  {
   "cell_type": "code",
   "execution_count": null,
   "metadata": {},
   "outputs": [],
   "source": [
    "\n",
    "\n",
    "# Preparing to train the model\n",
    "def trainprep(ds, cache=True, batch_size=64, shuffle_buffer_size=1000):\n",
    "\n",
    "  # Cache is a method that saves the preprocessed dataset into a local cache\n",
    "  # Only preprocesses it for the very first time in the 1st epoch\n",
    "  if cache:\n",
    "    if isinstance(cache, str):\n",
    "      ds = ds.cache(cache)\n",
    "    else:\n",
    "      ds = ds.cache()\n",
    "\n",
    "  # Maps the dataset so that each sample is a tuple of an image\n",
    "  ds = ds.map(lambda d: (d[\"image\"], tf.one_hot(d[\"label\"], num_classes)))\n",
    "\n",
    "  # Shuffles the dataset so the samples are random\n",
    "  ds = ds.shuffle(buffer_size=shuffle_buffer_size)\n",
    "\n",
    "  # Every time we iterate through, it'll repeatedly generate samples\n",
    "  ds = ds.repeat()\n",
    "\n",
    "  # Batch our DS into 64 or 32 samples per training step\n",
    "  ds = ds.batch(batch_size)\n",
    "  \n",
    "  # `prefetch` lets the dataset fetch batches in the background while the model\n",
    "  # is training.\n",
    "  ds = ds.prefetch(buffer_size=tf.data.experimental.AUTOTUNE)\n",
    "  return ds\n",
    "\n"
   ]
  },
  {
   "cell_type": "code",
   "execution_count": null,
   "metadata": {},
   "outputs": [],
   "source": [
    "batch_size = 64\n",
    "\n",
    "train_ds = trainprep(train_ds, batch_size=batch_size)\n",
    "valid_ds = trainprep(valid_ds, batch_size=batch_size)\n",
    "\n",
    "batch = next(iter(train_ds))\n",
    "\n",
    "def show_batch(batch):\n",
    "  plt.figure(figsize=(16, 16))\n",
    "\n",
    "  for n in range(min(32, batch_size)):\n",
    "      ax = plt.subplot(batch_size//8, 8, n + 1)\n",
    "      plt.imshow(batch[0][n])\n",
    "      plt.title(class_names[tf.argmax(batch[1][n].numpy())])\n",
    "      plt.axis('off')\n",
    "      plt.savefig(\"sample-images.png\")\n",
    "\n",
    "\n",
    "show_batch(batch)"
   ]
  }
 ],
 "metadata": {
  "kernelspec": {
   "display_name": "Python 3 (ipykernel)",
   "language": "python",
   "name": "python3"
  },
  "language_info": {
   "codemirror_mode": {
    "name": "ipython",
    "version": 3
   },
   "file_extension": ".py",
   "mimetype": "text/x-python",
   "name": "python",
   "nbconvert_exporter": "python",
   "pygments_lexer": "ipython3",
   "version": "3.7.12"
  },
  "vscode": {
   "interpreter": {
    "hash": "2c5fb0dde44f7741a40587be9bef7c43263ab6dc9649844c4a825a0d42012284"
   }
  }
 },
 "nbformat": 4,
 "nbformat_minor": 4
}
