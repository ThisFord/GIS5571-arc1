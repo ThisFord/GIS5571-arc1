{
 "cells": [
  {
   "cell_type": "code",
   "execution_count": 3,
   "metadata": {},
   "outputs": [],
   "source": [
    "import arcpy\n",
    "import pandas as pd\n",
    "import requests\n"
   ]
  },
  {
   "cell_type": "code",
   "execution_count": 42,
   "metadata": {},
   "outputs": [
    {
     "data": {
      "text/plain": [
       "'C:\\\\Users\\\\MrJDF\\\\Desktop\\\\Arc1_lab02_v02'"
      ]
     },
     "execution_count": 42,
     "metadata": {},
     "output_type": "execute_result"
    }
   ],
   "source": [
    "#set working envi n project envi\n",
    "\n",
    "proj_dir = r\"C:\\Users\\MrJDF\\Desktop\\Arc1_lab02_v02\"\n",
    "proj_gdb = r\"C:\\Users\\MrJDF\\Desktop\\Arc1_lab02_v02\\Arc1_lab02_v02.gdb\"\n",
    "\n",
    "#set arcpy environment, this is where this code will store the imported data\n",
    "arcpy.env.workspace = proj_dir\n",
    "\n",
    "#test\n",
    "arcpy.env.workspace\n",
    "\n"
   ]
  },
  {
   "cell_type": "code",
   "execution_count": 43,
   "metadata": {},
   "outputs": [
    {
     "name": "stdout",
     "output_type": "stream",
     "text": [
      "<Response [200]>\n"
     ]
    },
    {
     "data": {
      "text/plain": [
       "<class 'requests.models.Response'>"
      ]
     },
     "execution_count": 43,
     "metadata": {},
     "output_type": "execute_result"
    }
   ],
   "source": [
    "#file path variables\n",
    "mnDnr_indx = r\"https://resources.gisdata.mn.gov/pub/data/elevation/lidar/\"\n",
    "exmpl_lidar_sets = r\"examples/lidar_sample/las/\"\n",
    "lasFile = r\"/4342-12-05.las\" #change this to change the file for download\n",
    "\n",
    "#set full path to file\n",
    "data_path = mnDnr_indx + exmpl_lidar_sets + lasFile\n",
    "\n",
    "# get the file from the rempte db\n",
    "\n",
    "data = requests.get(data_path)\n",
    "print(data) #response 200 is successful get per CKAN api\n",
    "type(data)\n"
   ]
  },
  {
   "cell_type": "code",
   "execution_count": 44,
   "metadata": {},
   "outputs": [
    {
     "ename": "PermissionError",
     "evalue": "[Errno 13] Permission denied: '/4342-12-05.las'",
     "output_type": "error",
     "traceback": [
      "\u001b[0;31m---------------------------------------------------------------------------\u001b[0m\n\u001b[0;31mPermissionError\u001b[0m                           Traceback (most recent call last)",
      "In  \u001b[0;34m[44]\u001b[0m:\nLine \u001b[0;34m2\u001b[0m:     \u001b[34mwith\u001b[39;49;00m \u001b[36mopen\u001b[39;49;00m(lasFile, \u001b[33m'\u001b[39;49;00m\u001b[33mwb\u001b[39;49;00m\u001b[33m'\u001b[39;49;00m) \u001b[34mas\u001b[39;49;00m file:\n",
      "\u001b[0;31mPermissionError\u001b[0m: [Errno 13] Permission denied: '/4342-12-05.las'\n\u001b[0;31m---------------------------------------------------------------------------\u001b[0m"
     ]
    }
   ],
   "source": [
    "#open the file in write-binary mode, write the contents of the file\n",
    "with open(lasFile, 'wb') as file:\n",
    "    file.write(data.content) "
   ]
  },
  {
   "cell_type": "code",
   "execution_count": 46,
   "metadata": {},
   "outputs": [
    {
     "data": {
      "text/html": [
       "<div class='gpresult'><h2>Messages</h2><div id='messages' data-messages='[\"Start Time: Wednesday, October 19, 2022 8:47:16 PM\",\"Succeeded at Wednesday, October 19, 2022 8:47:16 PM (Elapsed Time: 0.04 seconds)\"]' data-show='true'><div id = 'default' /></div></div>"
      ],
      "text/plain": [
       "<Result 'C:\\\\Users\\\\MrJDF\\\\Desktop\\\\Arc1_lab02_v02\\\\dnrLas_dataset_01.lasd'>"
      ]
     },
     "execution_count": 46,
     "metadata": {},
     "output_type": "execute_result"
    }
   ],
   "source": [
    "# Create LAS dataset\n",
    "\n",
    "data_path = proj_dir + lasFile\n",
    "\n",
    "#arcpy.CreateLasDataset_management(r'C:\\Users\\MrJDF\\Desktop\\Arc1_lab02_v02\\4342-12-05.las', 'dnrLas_dataset.lasd') # DONT INCLUDE THESE VARIABLES:'RECURSION', 'COMPUTE_STATS', 'RELATIVE_PATHS')\n",
    "arcpy.CreateLasDataset_management(data_path, 'dnrLas_dataset_01') "
   ]
  },
  {
   "cell_type": "code",
   "execution_count": null,
   "metadata": {},
   "outputs": [],
   "source": []
  }
 ],
 "metadata": {
  "kernelspec": {
   "display_name": "ArcGISPro",
   "language": "Python",
   "name": "python3"
  },
  "language_info": {
   "file_extension": ".py",
   "name": "python",
   "version": "3"
  }
 },
 "nbformat": 4,
 "nbformat_minor": 2
}
