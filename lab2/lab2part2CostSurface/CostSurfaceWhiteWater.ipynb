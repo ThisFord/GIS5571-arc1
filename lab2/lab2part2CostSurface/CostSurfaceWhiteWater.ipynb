{
 "cells": [
  {
   "cell_type": "markdown",
   "metadata": {},
   "source": [
    "# Cost Surface Model\n",
    "## Dory's Hike From Home to Whitewater State Park"
   ]
  },
  {
   "cell_type": "markdown",
   "metadata": {},
   "source": [
    "### Set Up"
   ]
  },
  {
   "cell_type": "code",
   "execution_count": 5,
   "metadata": {},
   "outputs": [],
   "source": [
    "#import modules for data manipulation\n",
    "\n",
    "import arcpy\n",
    "import requests\n",
    "import os\n",
    "import zipfile\n",
    "import io\n",
    "from arcpy.sa import *"
   ]
  },
  {
   "cell_type": "code",
   "execution_count": 7,
   "metadata": {},
   "outputs": [
    {
     "data": {
      "text/plain": [
       "'C:\\\\Users\\\\MrJDF\\\\Desktop\\\\Lab2_Dory\\\\Arc1Lab02DoryCostSurface'"
      ]
     },
     "execution_count": 7,
     "metadata": {},
     "output_type": "execute_result"
    }
   ],
   "source": [
    "#Set variables for the working directory and project geodatabase\n",
    "proj_dir = r\"C:\\Users\\MrJDF\\Desktop\\Lab2_Dory\\Arc1Lab02DoryCostSurface\"\n",
    "proj_gdb = r\"C:\\Users\\MrJDF\\Desktop\\\\Lab2_Dory\\Arc1Lab02DoryCostSurface\\Arc1Lab02DoryCostSurface.gdb\"\n",
    "\n",
    "#set arcpy environment, this is where this script will store the imported data\n",
    "arcpy.env.workspace = proj_dir\n",
    "\n",
    "#test\n",
    "arcpy.env.workspace"
   ]
  },
  {
   "cell_type": "code",
   "execution_count": 7,
   "metadata": {},
   "outputs": [],
   "source": [
    "# set up fnction to unzip requests and save to the project's working directory\n",
    "def unzip(input_zipped, working_dir):\n",
    "    get_zipped = zipfile.ZipFile(\n",
    "        io.BytesIO(\n",
    "            input_zipped.content)\n",
    "    )\n",
    "    \n",
    "    get_zipped.extractall(working_dir)"
   ]
  },
  {
   "cell_type": "markdown",
   "metadata": {},
   "source": [
    "### Dory's Coordinates"
   ]
  },
  {
   "cell_type": "code",
   "execution_count": 13,
   "metadata": {},
   "outputs": [
    {
     "data": {
      "text/html": [
       "<div class='gpresult'><h2>Messages</h2><div id='messages' data-messages='[\"Start Time: Wednesday, November 2, 2022 2:02:07 PM\",\"Succeeded at Wednesday, November 2, 2022 2:02:08 PM (Elapsed Time: 0.56 seconds)\"]' data-show='true'><div id = 'default' /></div></div>"
      ],
      "text/plain": [
       "<Result 'C:\\\\Users\\\\MrJDF\\\\Desktop\\\\Lab2_Dory\\\\Arc1Lab02DoryCostSurface\\\\dory_start_end.shp'>"
      ]
     },
     "execution_count": 13,
     "metadata": {},
     "output_type": "execute_result"
    }
   ],
   "source": [
    "#import coordinate table from local file and convert to point feature layer\n",
    "dory_coords = r\"C:\\Users\\MrJDF\\Desktop\\Lab2_Dory\\Arc1Lab02DoryCostSurface\\DoryStartEndXYs.csv\"\n",
    "#these coords are backward in my table, so backwards in my code! lazy me.\n",
    "arcpy.management.XYTableToPoint(dory_coords, \"dory_start_end\", \"y_coord\", \"x_coord\") # optional params: ({z_field}, {coordinate_system})"
   ]
  },
  {
   "cell_type": "code",
   "execution_count": 15,
   "metadata": {},
   "outputs": [
    {
     "data": {
      "text/html": [
       "<div class='gpresult'><h2>Messages</h2><div id='messages' data-messages='[\"Start Time: Wednesday, November 2, 2022 2:40:52 PM\",\"Succeeded at Wednesday, November 2, 2022 2:40:53 PM (Elapsed Time: 0.27 seconds)\"]' data-show='true'><div id = 'default' /></div></div>"
      ],
      "text/plain": [
       "<Result 'C:\\\\Users\\\\MrJDF\\\\Desktop\\\\Lab2_Dory\\\\Arc1Lab02DoryCostSurface\\\\Arc1Lab02DoryCostSurface.gdb\\\\dory_start_end_MinimumBoundi2'>"
      ]
     },
     "execution_count": 15,
     "metadata": {},
     "output_type": "execute_result"
    }
   ],
   "source": [
    "# create bounding geometry to use as clipping mask/ area extent\n",
    "\n",
    "# create 2km Buffer around start and end points\n",
    "arcpy.analysis.Buffer(\"dory_start_end\", r\"C:\\Users\\MrJDF\\Desktop\\Lab2_Dory\\Arc1Lab02DoryCostSurface\\Arc1Lab02DoryCostSurface.gdb\\dory_start_end_Buffer\", \"2000 Meters\", \"FULL\", \"ROUND\", \"NONE\", None, \"PLANAR\")\n",
    "\n",
    "#create geometry to encompass buffered points\n",
    "arcpy.management.MinimumBoundingGeometry(\"dory_start_end_Buffer\", r\"C:\\Users\\MrJDF\\Desktop\\Lab2_Dory\\Arc1Lab02DoryCostSurface\\Arc1Lab02DoryCostSurface.gdb\\dory_start_end_MinimumBoundi2\", \"CIRCLE\", \"ALL\", None, \"NO_MBG_FIELDS\")"
   ]
  },
  {
   "cell_type": "markdown",
   "metadata": {},
   "source": [
    "### Data Wrangling"
   ]
  },
  {
   "cell_type": "code",
   "execution_count": 8,
   "metadata": {},
   "outputs": [],
   "source": [
    "# County boundaries\n",
    "county_url = 'https://resources.gisdata.mn.gov/pub/gdrs/data/pub/us_mn_state_dot/bdry_counties/shp_bdry_counties.zip'\n",
    "county_post_request = requests.post(county_url)\n",
    "# county_post_request\n",
    "\n",
    "unzip(county_post_request, proj_dir)\n"
   ]
  },
  {
   "cell_type": "code",
   "execution_count": 9,
   "metadata": {},
   "outputs": [],
   "source": [
    "# MN Landcover\n",
    "landcover_url = 'https://resources.gisdata.mn.gov/pub/gdrs/data/pub/us_mn_state_dnr/biota_landcover_nlcd_mn_2019/tif_biota_landcover_nlcd_mn_2019.zip'\n",
    "get_landcover = requests.post(landcover_url)\n",
    "\n",
    "\n",
    "unzip(get_landcover, proj_dir)\n",
    "\n",
    "\n",
    "# Water routes\n",
    "\n",
    "water_url = 'https://resources.gisdata.mn.gov/pub/gdrs/data/pub/us_mn_state_dnr/water_strahler_stream_order/shp_water_strahler_stream_order.zip'\n",
    "get_hydro = requests.post(water_url)\n",
    "\n",
    "unzip(get_hydro, proj_dir)\n",
    "\n",
    "\n",
    "\n",
    "# Elevation \n",
    "\n",
    "elevation_url = 'https://resources.gisdata.mn.gov/pub/gdrs/data/pub/us_mn_state_dnr/elev_30m_digital_elevation_model/fgdb_elev_30m_digital_elevation_model.zip'\n",
    "get_elev = requests.post(elevation_url)\n",
    "\n",
    "unzip(get_elev, proj_dir)\n"
   ]
  },
  {
   "cell_type": "code",
   "execution_count": 14,
   "metadata": {},
   "outputs": [],
   "source": [
    "# Roads\n",
    "\n",
    "roads_url = 'https://resources.gisdata.mn.gov/pub/gdrs/data/pub/us_mn_state_dot/trans_roads_mndot_tis/shp_trans_roads_mndot_tis.zip'\n",
    "get_roads = requests.post(roads_url)\n",
    "\n",
    "unzip(get_roads, proj_dir)"
   ]
  },
  {
   "cell_type": "markdown",
   "metadata": {},
   "source": [
    "### Clip Inputs to Local Extent"
   ]
  },
  {
   "cell_type": "code",
   "execution_count": 4,
   "metadata": {},
   "outputs": [
    {
     "data": {
      "text/html": [
       "<div class='gpresult'><h2>Messages</h2><div id='messages' data-messages='[\"Start Time: Sunday, November 6, 2022 3:27:18 PM\",\"Clipping input features...\",\"Succeeded at Sunday, November 6, 2022 3:27:18 PM (Elapsed Time: 0.43 seconds)\"]' data-show='true'><div id = 'default' /></div></div>"
      ],
      "text/plain": [
       "<Result 'C:\\\\Users\\\\MrJDF\\\\Desktop\\\\Lab2_Dory\\\\Arc1Lab02DoryCostSurface\\\\study_area_roads.shp'>"
      ]
     },
     "execution_count": 4,
     "metadata": {},
     "output_type": "execute_result"
    }
   ],
   "source": [
    "# Clip input data to study area \n",
    "#make this into a tidy loop: come back to streamline after I get it working\n",
    "#Uncomment last line of each to execute clip\n",
    "#set parameters\n",
    "landCover = r'C:\\Users\\MrJDF\\Desktop\\Lab2_Dory\\Arc1Lab02DoryCostSurface\\NLCD 2019 - Land Cover.lyr'\n",
    "water = r'C:\\Users\\MrJDF\\Desktop\\Lab2_Dory\\Arc1Lab02DoryCostSurface\\streams_with_strahler_stream_order.shp'\n",
    "elevation = r'C:\\Users\\MrJDF\\Desktop\\Lab2_Dory\\Arc1Lab02DoryCostSurface\\elev_30m_digital_elevation_model.gdb\\digital_elevation_model_30m'\n",
    "roads = r'C:\\Users\\MrJDF\\Desktop\\Lab2_Dory\\Arc1Lab02DoryCostSurface\\STREETS_LOAD.shp'\n",
    "clip_features = r'C:\\Users\\MrJDF\\Desktop\\Lab2_Dory\\Arc1Lab02DoryCostSurface\\Arc1Lab02DoryCostSurface.gdb\\dory_start_end_MinimumBoundi2'\n",
    "#out_feature_class = r'C:\\Users\\MrJDF\\Desktop\\Lab2_Dory\\Arc1Lab02DoryCostSurface\\study_area_water.shp'\n",
    "\n",
    "#land, must use clip here for raster input\n",
    "in_raster = landCover\n",
    "rectangle = clip_features\n",
    "land_out_raster = r'C:\\Users\\MrJDF\\Desktop\\Lab2_Dory\\Arc1Lab02DoryCostSurface\\study_area_lndCvr.tif'\n",
    "#arcpy.management.Clip(in_raster, rectangle, land_out_raster) #, {in_template_dataset}, {nodata_value}, {clipping_geometry}, {maintain_clipping_extent})\n",
    "\n",
    "#water, pairwise clip for vector\n",
    "in_features = water\n",
    "water_out_feature_class = r'C:\\Users\\MrJDF\\Desktop\\Lab2_Dory\\Arc1Lab02DoryCostSurface\\study_area_water.shp'\n",
    "#arcpy.analysis.PairwiseClip(in_features, clip_features, water_out_feature_class) #optional params, {cluster_tolerance}\n",
    "\n",
    "#Elevation, must use clip here for raster input\n",
    "in_raster = elevation\n",
    "rectangle = clip_features\n",
    "dem_out_raster = r'C:\\Users\\MrJDF\\Desktop\\Lab2_Dory\\Arc1Lab02DoryCostSurface\\study_area_dem.tif'\n",
    "#arcpy.management.Clip(in_raster, rectangle, dem_out_raster)\n",
    "\n",
    "#roads\n",
    "in_features = roads\n",
    "road_out_feature_class = r'C:\\Users\\MrJDF\\Desktop\\Lab2_Dory\\Arc1Lab02DoryCostSurface\\study_area_roads.shp'\n",
    "#arcpy.analysis.PairwiseClip(in_features, clip_features, road_out_feature_class)\n"
   ]
  },
  {
   "cell_type": "markdown",
   "metadata": {},
   "source": [
    "### Calculate Slope from DEM\n",
    "- use this as basis to reclassify in next step\n",
    "- dory prefers an even path, flattest route...consider this in the weights, does she want flat over terrain considerations?\n"
   ]
  },
  {
   "cell_type": "code",
   "execution_count": 4,
   "metadata": {},
   "outputs": [
    {
     "ename": "NameError",
     "evalue": "name 'dem_out_raster' is not defined",
     "output_type": "error",
     "traceback": [
      "\u001b[0;31m---------------------------------------------------------------------------\u001b[0m\n\u001b[0;31mNameError\u001b[0m                                 Traceback (most recent call last)",
      "In  \u001b[0;34m[4]\u001b[0m:\nLine \u001b[0;34m5\u001b[0m:     in_dem = dem_out_raster\n",
      "\u001b[0;31mNameError\u001b[0m: name 'dem_out_raster' is not defined\n\u001b[0;31m---------------------------------------------------------------------------\u001b[0m"
     ]
    }
   ],
   "source": [
    "#Import new library for slope function and other raster calculations\n",
    "#from arcpy.ia import * #moved to top\n",
    "\n",
    "# Set the local variables\n",
    "in_dem = dem_out_raster\n",
    "\n",
    "# Execute the Slope function\n",
    "dem_slope = Slope(in_dem)\n",
    "\n",
    "# Save the output\n",
    "dem_slope.save(r'C:\\Users\\MrJDF\\Desktop\\Lab2_Dory\\Arc1Lab02DoryCostSurface\\study_dem_slope.tif')"
   ]
  },
  {
   "cell_type": "markdown",
   "metadata": {},
   "source": [
    "### Remap and Reclassify Raster data based on user preferences\n",
    "- adjust scale to 1-10 for use in weighted surface\n",
    "- low values are preferred surfaces for travel"
   ]
  },
  {
   "cell_type": "code",
   "execution_count": 13,
   "metadata": {},
   "outputs": [],
   "source": [
    "# new import for reclassify tool!\n",
    "#from arcpy.sa import *\n",
    "\n",
    "# Slope reclass\n",
    "# Set local variables\n",
    "\n",
    "inRaster = dem_slope\n",
    "reclassField = \"Value\"\n",
    "# Define the RemapValue Object \n",
    "remap = RemapRange([[0,3,1], [3, 6, 2], [6, 10, 3],[10, 15, 4], [15, 20, 5], [20, 25, 6],[25, 30, 7], [30, 35, 8], [35, 40, 9], [40,75,10]])\n",
    "\n",
    "# Execute Reclassify\n",
    "outReclassify = Reclassify(inRaster, reclassField, remap, \"NODATA\")\n",
    "\n",
    "# Save the output \n",
    "outReclassify.save(\"slope_reclass.tif\")\n",
    "\n",
    "# Landcover reclass\n",
    "# Set local variables\n",
    "\n",
    "inRaster = land_out_raster\n",
    "reclassField = \"Value\"\n",
    "# Define the RemapValue Object \n",
    "remap = RemapRange([[11,12, 10], [21, 24, 7], [31, 31, 3],[41, 41, 1], [42, 42, 1], [43, 43, 1],[52, 52, 5], [71, 71, 2], [81,81,10], [82,82,10], [90,90,10], [95,95,10]])\n",
    "\n",
    "# Execute Reclassify\n",
    "outReclassify = Reclassify(inRaster, reclassField, remap, \"NODATA\")\n",
    "\n",
    "# Save the output \n",
    "outReclassify.save(\"landCvr_reclass.tif\")\n"
   ]
  },
  {
   "cell_type": "markdown",
   "metadata": {},
   "source": [
    "### Add Roads and Hydro data to analysis\n",
    "- Use if Dory will cross streams at bridges, no where else\n",
    "- use road data to make hydro data low cost where they cross, \n",
    "- here we delete the river values entirely, where the intersect with roads and reclassify smaller streams as crossable, but the larger streams as uncrossable by doubling their values with the reclassify tool.\n"
   ]
  },
  {
   "cell_type": "code",
   "execution_count": 27,
   "metadata": {},
   "outputs": [
    {
     "data": {
      "text/html": [
       "<div class='gpresult'><h2>Messages</h2><div id='messages' data-messages='[\"Start Time: Sunday, November 6, 2022 6:39:11 PM\",\"Succeeded at Sunday, November 6, 2022 6:39:12 PM (Elapsed Time: 0.81 seconds)\"]' data-show='true'><div id = 'default' /></div></div>"
      ],
      "text/plain": [
       "<Result 'C:\\\\Users\\\\MrJDF\\\\Desktop\\\\Lab2_Dory\\\\Arc1Lab02DoryCostSurface\\\\Arc1Lab02DoryCostSurface.gdb\\\\hydro_raster'>"
      ]
     },
     "execution_count": 27,
     "metadata": {},
     "output_type": "execute_result"
    }
   ],
   "source": [
    "# Buffer roads and hydrology to create surfaces with dimension of 2 pixel values ie 60m\n",
    "roads_buffer = arcpy.analysis.Buffer(road_out_feature_class, r'C:\\Users\\MrJDF\\Desktop\\Lab2_Dory\\Arc1Lab02DoryCostSurface\\roads_buffer', '60 Meters')\n",
    "hydro_buffer = arcpy.analysis.Buffer(water_out_feature_class, r'C:\\Users\\MrJDF\\Desktop\\Lab2_Dory\\Arc1Lab02DoryCostSurface\\hydro_buffer', '60 Meters')\n",
    "\n",
    "#use buffered roads to erase hydro data, creating crossable paths for Dory in the next step, where we use the river pixels to multiply values by 0, effectively deleting them from the cost surface.\n",
    "# set parameters\n",
    "in_features = hydro_buffer\n",
    "erase_features= roads_buffer\n",
    "out_feature_class = proj_dir + \"\\\\water_minus_roads\"\n",
    "\n",
    "#execute erase function\n",
    "arcpy.analysis.Erase(in_features, erase_features, out_feature_class)\n",
    "\n",
    "# Merge the water minus roads dataset with the area of interest boundaries to identify any no value cells\n",
    "arcpy.management.Merge(\"water_minus_roads;dory_start_end_MinimumBoundi2\", r\"C:\\Users\\MrJDF\\Desktop\\Lab2_Dory\\Arc1Lab02DoryCostSurface\\Arc1Lab02DoryCostSurface.gdb\\water_minus_roads_Merge\", 'FW_ID \"FW_ID\" true true false 10 Long 0 10,First,#,water_minus_roads,FW_ID,-1,-1;KITTLE_NBR \"KITTLE_NBR\" true true false 50 Text 0 0,First,#,water_minus_roads,KITTLE_NBR,0,50;KITTLE_NAM \"KITTLE_NAM\" true true false 50 Text 0 0,First,#,water_minus_roads,KITTLE_NAM,0,50;LENGTH_MI \"LENGTH_MI\" true true false 19 Double 0 0,First,#,water_minus_roads,LENGTH_MI,-1,-1;FIXED \"FIXED\" true true false 1 Text 0 0,First,#,water_minus_roads,FIXED,0,1;ENTIRE \"ENTIRE\" true true false 1 Text 0 0,First,#,water_minus_roads,ENTIRE,0,1;VALID \"VALID\" true true false 1 Text 0 0,First,#,water_minus_roads,VALID,0,1;LABEL \"LABEL\" true true false 200 Text 0 0,First,#,water_minus_roads,LABEL,0,200;EDITED_BY \"EDITED_BY\" true true false 16 Text 0 0,First,#,water_minus_roads,EDITED_BY,0,16;EDITED_DAT \"EDITED_DAT\" true true false 8 Date 0 0,First,#,water_minus_roads,EDITED_DAT,-1,-1;EDIT_COMME \"EDIT_COMME\" true true false 50 Text 0 0,First,#,water_minus_roads,EDIT_COMME,0,50;EVENT_TYPE \"EVENT_TYPE\" true true false 16 Text 0 0,First,#,water_minus_roads,EVENT_TYPE,0,16;PUBLISH_DA \"PUBLISH_DA\" true true false 8 Date 0 0,First,#,water_minus_roads,PUBLISH_DA,-1,-1;CONTENT_DA \"CONTENT_DA\" true true false 8 Date 0 0,First,#,water_minus_roads,CONTENT_DA,-1,-1;SO_ID \"SO_ID\" true true false 5 Long 0 5,First,#,water_minus_roads,SO_ID,-1,-1;SO_VALUE \"SO_VALUE\" true true false 5 Long 0 5,First,#,water_minus_roads,SO_VALUE,-1,-1;Shape_Leng \"Shape_Leng\" true true false 19 Double 0 0,First,#,water_minus_roads,Shape_Leng,-1,-1;BUFF_DIST \"BUFF_DIST\" true true false 19 Double 0 0,First,#,water_minus_roads,BUFF_DIST,-1,-1;ORIG_FID \"ORIG_FID\" true true false 10 Long 0 10,First,#,water_minus_roads,ORIG_FID,-1,-1', \"NO_SOURCE_INFO\")\n",
    "\n",
    "# Converting to raster\n",
    "arcpy.conversion.FeatureToRaster(\"water_minus_roads_Merge\", \"SO_VALUE\", r\"C:\\Users\\MrJDF\\Desktop\\Lab2_Dory\\Arc1Lab02DoryCostSurface\\Arc1Lab02DoryCostSurface.gdb\\hydro_full_raster\", 77.2406288442668)\n",
    "\n",
    "# Reclassify the raster to fit the study area scale and change no data to zeros for raster calculator compatability\n",
    "arcpy.ddd.Reclassify(\"hydro_full_raster\", \"Value\", \"1 2;2 4;3 6;4 8;5 5;NODATA 0\", r\"C:\\Users\\MrJDF\\Desktop\\Lab2_Dory\\Arc1Lab02DoryCostSurface\\Arc1Lab02DoryCostSurface.gdb\\Reclass_hydro\", \"DATA\")\n",
    "\n",
    "#final output: Reclass_hydro\n"
   ]
  },
  {
   "cell_type": "code",
   "execution_count": 14,
   "metadata": {},
   "outputs": [
    {
     "ename": "RuntimeError",
     "evalue": "ERROR 010240: Could not save raster dataset to C:\\Users\\MrJDF\\Desktop\\Lab2_Dory\\Arc1Lab02DoryCostSurface\\Arc1Lab02DoryCostSurface.gdb\\Reclass_hydr1 with output format FGDBR.",
     "output_type": "error",
     "traceback": [
      "\u001b[0;31m---------------------------------------------------------------------------\u001b[0m\n\u001b[0;31mRuntimeError\u001b[0m                              Traceback (most recent call last)",
      "In  \u001b[0;34m[14]\u001b[0m:\nLine \u001b[0;34m13\u001b[0m:    outReclassify_hydro.save(\u001b[33m\"\u001b[39;49;00m\u001b[33mhydro-bridges_reclass\u001b[39;49;00m\u001b[33m\"\u001b[39;49;00m) \u001b[37m#this won't save with the assigned name, but does save o the GDB as \"Reclass_hydr3\"\u001b[39;49;00m\n",
      "\u001b[0;31mRuntimeError\u001b[0m: ERROR 010240: Could not save raster dataset to C:\\Users\\MrJDF\\Desktop\\Lab2_Dory\\Arc1Lab02DoryCostSurface\\Arc1Lab02DoryCostSurface.gdb\\Reclass_hydr1 with output format FGDBR.\n\u001b[0;31m---------------------------------------------------------------------------\u001b[0m"
     ]
    }
   ],
   "source": [
    "# REMOVE, REDUNDANT\n",
    "#reclassify water minus roads buffer\n",
    "# Set local variables\n",
    "\n",
    "\n",
    "# inRaster = \"hydro_raster\"\n",
    "# reclassField = \"Value\"\n",
    "# # Define the RemapValue Object \n",
    "# remap = RemapRange([[0,780, 1], [780, 2000, 2], [2000, 4000, 5],[4000, 50000, 10]])\n",
    "\n",
    "# # Execute Reclassify\n",
    "# outReclassify_hydro = Reclassify(inRaster, reclassField, remap, \"NODATA\")\n",
    "\n",
    "# # Save the output \n",
    "# outReclassify_hydro.save(\"hydro-bridges_reclass\") #this won't save with the assigned name, but does save o the GDB as \"Reclass_hydr3\""
   ]
  },
  {
   "cell_type": "code",
   "execution_count": 16,
   "metadata": {
    "scrolled": true
   },
   "outputs": [
    {
     "ename": "SyntaxError",
     "evalue": "(unicode error) 'unicodeescape' codec can't decode bytes in position 2-3: truncated \\UXXXXXXXX escape (<string>, line 8)",
     "output_type": "error",
     "traceback": [
      "\u001b[0;31m---------------------------------------------------------------------------\u001b[0m\n\u001b[0;31mSyntaxError\u001b[0m                               Traceback (most recent call last)",
      "File \u001b[0;34mC:\\Program Files\\ArcGIS\\Pro\\bin\\Python\\envs\\arcgispro-py3\\lib\\ast.py\u001b[0m, in \u001b[0;32mparse\u001b[0m:\nLine \u001b[0;34m50\u001b[0m:    \u001b[34mreturn\u001b[39;49;00m \u001b[36mcompile\u001b[39;49;00m(source, filename, mode, flags,\n",
      "\u001b[0;31mSyntaxError\u001b[0m: (unicode error) 'unicodeescape' codec can't decode bytes in position 2-3: truncated \\UXXXXXXXX escape (<string>, line 8)\n\u001b[0;31m---------------------------------------------------------------------------\u001b[0m"
     ]
    }
   ],
   "source": [
    "#Remove, Redundant\n",
    "# had to merge the layers before converting to raster bc this wouldnt work\n",
    "\n",
    "#create a full raster layer of study area and merge with the river buffer reclassified raster to make it compatible with the cost surfece function\n",
    "# with out this step the river layer acts as a clipping mask\n",
    "\n",
    "# #use feature to raster to convert shapefile layer to raster \n",
    "# arcpy.conversion.FeatureToRaster(\"dory_start_end_MinimumBoundi2\", \"Shape_Length\", r\"C:\\Users\\MrJDF\\Desktop\\Lab2_Dory\\Arc1Lab02DoryCostSurface\\Arc1Lab02DoryCostSurface.gdb\\studyAreaRstr\", 0.000695375730606202)\n",
    "\n",
    "# # assign all cells a zero value with reclassify\n",
    "# out_raster = arcpy.sa.Reclassify(\"studyAreaRstr\", \"VALUE\", \"0.546146822 0\", \"DATA\"); out_raster.save(r\"C:\\Users\\MrJDF\\Desktop\\Lab2_Dory\\Arc1Lab02DoryCostSurface\\Arc1Lab02DoryCostSurface.gdb\\Reclass_studyArea\")\n",
    "\n",
    "# # merge with hydro-bridges values\n",
    "# #Impossible!"
   ]
  },
  {
   "cell_type": "markdown",
   "metadata": {},
   "source": [
    "### Cost Surfaces"
   ]
  },
  {
   "cell_type": "code",
   "execution_count": null,
   "metadata": {},
   "outputs": [],
   "source": []
  },
  {
   "cell_type": "code",
   "execution_count": 17,
   "metadata": {
    "scrolled": true
   },
   "outputs": [
    {
     "ename": "RuntimeError",
     "evalue": "ERROR 010240: Could not save raster dataset to weighted_surface2.tif with output format FGDBR.",
     "output_type": "error",
     "traceback": [
      "\u001b[0;31m---------------------------------------------------------------------------\u001b[0m\n\u001b[0;31mRuntimeError\u001b[0m                              Traceback (most recent call last)",
      "In  \u001b[0;34m[17]\u001b[0m:\nLine \u001b[0;34m15\u001b[0m:    outWeightedSum.save( \u001b[33m\"\u001b[39;49;00m\u001b[33mweighted_surface2.tif\u001b[39;49;00m\u001b[33m\"\u001b[39;49;00m)\n",
      "\u001b[0;31mRuntimeError\u001b[0m: ERROR 010240: Could not save raster dataset to weighted_surface2.tif with output format FGDBR.\n\u001b[0;31m---------------------------------------------------------------------------\u001b[0m"
     ]
    }
   ],
   "source": [
    "# create weighted cost surface from input reclassified raster data using map algebra\n",
    "\n",
    "\n",
    "# Set local variables\n",
    "inRaster1 = \"landCvr_reclass.tif\"\n",
    "inRaster2 = 'C:\\\\Users\\\\MrJDF\\\\Desktop\\\\Lab2_Dory\\\\Arc1Lab02DoryCostSurface\\\\slope_reclass.tif' #using double slashes to avoid a unicode error as the single slash registers as an escape character in python\n",
    "inRaster3 = \"Reclass_hydro\" #\"C:\\Users\\MrJDF\\Desktop\\Lab2_Dory\\Arc1Lab02DoryCostSurface\\Arc1Lab02DoryCostSurface.gdb\\Reclass_hydr3\"\n",
    "# create weighted sum table object for input for the weighted sum raster calculation\n",
    "WSumTableObj = WSTable([[inRaster1, \"VALUE\", 0.5], [inRaster2, \"VALUE\", 0.25], [inRaster3, \"VALUE\", 0.25 ]])\n",
    "\n",
    "# Execute WeightedSum\n",
    "outWeightedSum = WeightedSum(WSumTableObj)\n",
    "\n",
    "# Save the output \n",
    "outWeightedSum.save(\"weighted_surface2.tif\")\n",
    "\n"
   ]
  },
  {
   "cell_type": "code",
   "execution_count": null,
   "metadata": {},
   "outputs": [],
   "source": [
    "# Weighted Overlay method for weighted cost surface number 2\n",
    "\n",
    "out_raster = arcpy.sa.WeightedOverlay(r\"('C:\\Users\\MrJDF\\Desktop\\Lab2_Dory\\Arc1Lab02DoryCostSurface\\slope_reclass.tif' 50 'Value' (1 1; 2 2; 3 3; 4 4; 5 6; 6 7; 7 8; 8 9; 9 10; 10 1; NODATA NODATA); 'C:\\Users\\MrJDF\\Desktop\\Lab2_Dory\\Arc1Lab02DoryCostSurface\\landCvr_reclass.tif' 25 'Value' (1 1; 2 2; 3 3; 5 6; 7 8; 10 1; NODATA NODATA); 'C:\\Users\\MrJDF\\Desktop\\Lab2_Dory\\Arc1Lab02DoryCostSurface\\Arc1Lab02DoryCostSurface.gdb\\Reclass_hydro' 25 'Value' (0 1; 2 2; 4 4; 5 6; 6 7; 8 9; NODATA NODATA));1 10 1\"); out_raster.save(r\"C:\\Users\\MrJDF\\Desktop\\Lab2_Dory\\Arc1Lab02DoryCostSurface\\Arc1Lab02DoryCostSurface.gdb\\Weighted_srfc_02\")"
   ]
  },
  {
   "cell_type": "markdown",
   "metadata": {},
   "source": [
    "### Calculate Cost Path"
   ]
  },
  {
   "cell_type": "code",
   "execution_count": null,
   "metadata": {},
   "outputs": [],
   "source": [
    "# create rasters from starting point and end point\n",
    "\n",
    "#buffer to give pointts dimensions, I buffered with a 30 m radius to give at least 4 pixels to the points\n",
    "arcpy.analysis.Buffer(\"dory_start_end\", r\"C:\\Users\\MrJDF\\Desktop\\Lab2_Dory\\Arc1Lab02DoryCostSurface\\Arc1Lab02DoryCostSurface.gdb\\dory_start_end_Buffer02\", \"30 Meters\", \"FULL\", \"ROUND\", \"NONE\", None, \"PLANAR\")\n",
    "\n",
    "#Convert buffered points to rasters\n",
    "arcpy.conversion.FeatureToRaster(\"dory_start_end_Buffer02\", \"Shape_Length\", r\"C:\\Users\\MrJDF\\Desktop\\Lab2_Dory\\Arc1Lab02DoryCostSurface\\Arc1Lab02DoryCostSurface.gdb\\start_end_rstr\", 0.000295961719657726)\n",
    "\n",
    "#Create cost Distance surface from weighted surface\n",
    "out_distance_raster = arcpy.sa.CostDistance(\"start_end_rstr\", \"Weighted_srfc_02\", None, None, None, None, None, None, ''); out_distance_raster.save(r\"C:\\Users\\MrJDF\\Desktop\\Lab2_Dory\\Arc1Lab02DoryCostSurface\\Arc1Lab02DoryCostSurface.gdb\\CostDist_01\")\n",
    "\n",
    "#create Cost Back Link from Cost Distance (required as input for cost path tool)\n",
    "out_backlink_raster = arcpy.sa.CostBackLink(\"dory_start_end\", \"CostDist_01\", None, None, None, None, None, None, ''); out_backlink_raster.save(r\"C:\\Users\\MrJDF\\Desktop\\Lab2_Dory\\Arc1Lab02DoryCostSurface\\Arc1Lab02DoryCostSurface.gdb\\CostBacklink_dory1\")\n",
    "\n",
    "#create cost path (note, I couldn't get this to run with other inputs, using the buffered featureset worked somehow)\n",
    "out_raster = arcpy.sa.CostPath(\"dory_start_end_Buffer02\", \"CostDist_01\", \"CostBacklink_dory1\", \"BEST_SINGLE\", \"ORIG_FID\", \"INPUT_RANGE\"); out_raster.save(r\"C:\\Users\\MrJDF\\Desktop\\Lab2_Dory\\Arc1Lab02DoryCostSurface\\Arc1Lab02DoryCostSurface.gdb\\CostPat_dory2\")"
   ]
  }
 ],
 "metadata": {
  "kernelspec": {
   "display_name": "ArcGISPro",
   "language": "Python",
   "name": "python3"
  },
  "language_info": {
   "file_extension": ".py",
   "name": "python",
   "version": "3"
  }
 },
 "nbformat": 4,
 "nbformat_minor": 2
}
