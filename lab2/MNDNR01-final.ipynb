{
 "cells": [
  {
   "cell_type": "code",
   "execution_count": 1,
   "metadata": {},
   "outputs": [],
   "source": [
    "import arcpy\n",
    "import pandas as pd\n",
    "import requests\n"
   ]
  },
  {
   "cell_type": "code",
   "execution_count": 2,
   "metadata": {},
   "outputs": [
    {
     "data": {
      "text/plain": [
       "'C:\\\\Users\\\\MrJDF\\\\Desktop\\\\Arc1_lab02_v02'"
      ]
     },
     "execution_count": 2,
     "metadata": {},
     "output_type": "execute_result"
    }
   ],
   "source": [
    "#set working envi n project envi\n",
    "\n",
    "proj_dir = r\"C:\\Users\\MrJDF\\Desktop\\Arc1_lab02_v02\"\n",
    "proj_gdb = r\"C:\\Users\\MrJDF\\Desktop\\Arc1_lab02_v02\\Arc1_lab02_v02.gdb\"\n",
    "\n",
    "#set arcpy environment, this is where this code will store the imported data\n",
    "arcpy.env.workspace = proj_dir\n",
    "\n",
    "#test\n",
    "arcpy.env.workspace\n",
    "\n"
   ]
  },
  {
   "cell_type": "code",
   "execution_count": 43,
   "metadata": {},
   "outputs": [
    {
     "name": "stdout",
     "output_type": "stream",
     "text": [
      "<Response [200]>\n"
     ]
    },
    {
     "data": {
      "text/plain": [
       "<class 'requests.models.Response'>"
      ]
     },
     "execution_count": 43,
     "metadata": {},
     "output_type": "execute_result"
    }
   ],
   "source": [
    "#file path variables\n",
    "mnDnr_indx = r\"https://resources.gisdata.mn.gov/pub/data/elevation/lidar/\"\n",
    "exmpl_lidar_sets = r\"examples/lidar_sample/las/\"\n",
    "lasFile = r\"/4342-12-05.las\" #change this to change the file for download\n",
    "\n",
    "#set full path to file\n",
    "data_path = mnDnr_indx + exmpl_lidar_sets + lasFile\n",
    "\n",
    "# get the file from the rempte db\n",
    "\n",
    "data = requests.get(data_path)\n",
    "print(data) #response 200 is successful get per CKAN api\n",
    "type(data)\n"
   ]
  },
  {
   "cell_type": "code",
   "execution_count": 44,
   "metadata": {},
   "outputs": [
    {
     "ename": "PermissionError",
     "evalue": "[Errno 13] Permission denied: '/4342-12-05.las'",
     "output_type": "error",
     "traceback": [
      "\u001b[0;31m---------------------------------------------------------------------------\u001b[0m\n\u001b[0;31mPermissionError\u001b[0m                           Traceback (most recent call last)",
      "In  \u001b[0;34m[44]\u001b[0m:\nLine \u001b[0;34m2\u001b[0m:     \u001b[34mwith\u001b[39;49;00m \u001b[36mopen\u001b[39;49;00m(lasFile, \u001b[33m'\u001b[39;49;00m\u001b[33mwb\u001b[39;49;00m\u001b[33m'\u001b[39;49;00m) \u001b[34mas\u001b[39;49;00m file:\n",
      "\u001b[0;31mPermissionError\u001b[0m: [Errno 13] Permission denied: '/4342-12-05.las'\n\u001b[0;31m---------------------------------------------------------------------------\u001b[0m"
     ]
    }
   ],
   "source": [
    "#open the file in write-binary mode, write the contents of the file\n",
    "with open(lasFile, 'wb') as file:\n",
    "    file.write(data.content) "
   ]
  },
  {
   "cell_type": "code",
   "execution_count": 46,
   "metadata": {},
   "outputs": [
    {
     "data": {
      "text/html": [
       "<div class='gpresult'><h2>Messages</h2><div id='messages' data-messages='[\"Start Time: Wednesday, October 19, 2022 8:47:16 PM\",\"Succeeded at Wednesday, October 19, 2022 8:47:16 PM (Elapsed Time: 0.04 seconds)\"]' data-show='true'><div id = 'default' /></div></div>"
      ],
      "text/plain": [
       "<Result 'C:\\\\Users\\\\MrJDF\\\\Desktop\\\\Arc1_lab02_v02\\\\dnrLas_dataset_01.lasd'>"
      ]
     },
     "execution_count": 46,
     "metadata": {},
     "output_type": "execute_result"
    }
   ],
   "source": [
    "# Create LAS dataset\n",
    "\n",
    "data_path = proj_dir + lasFile\n",
    "\n",
    "#arcpy.CreateLasDataset_management(r'C:\\Users\\MrJDF\\Desktop\\Arc1_lab02_v02\\4342-12-05.las', 'dnrLas_dataset.lasd') # DONT INCLUDE THESE VARIABLES:'RECURSION', 'COMPUTE_STATS', 'RELATIVE_PATHS')\n",
    "arcpy.CreateLasDataset_management(data_path, 'dnrLas_dataset_01') "
   ]
  },
  {
   "cell_type": "code",
   "execution_count": 67,
   "metadata": {},
   "outputs": [
    {
     "data": {
      "text/html": [
       "<div class='gpresult'><h2>Messages</h2><div id='messages' data-messages='[\"Start Time: Wednesday, October 19, 2022 9:25:47 PM\",\"Succeeded at Wednesday, October 19, 2022 9:25:48 PM (Elapsed Time: 0.78 seconds)\"]' data-show='true'><div id = 'default' /></div></div>"
      ],
      "text/plain": [
       "<Result 'C:\\\\Users\\\\MrJDF\\\\Desktop\\\\Arc1_lab02_v02\\\\dnrLas_tin'>"
      ]
     },
     "execution_count": 67,
     "metadata": {},
     "output_type": "execute_result"
    }
   ],
   "source": [
    "# las to tin\n",
    "arcpy.ddd.LasDatasetToTin(r\"C:\\Users\\MrJDF\\Desktop\\Arc1_lab02_v02\\dnrLas_dataset_01.lasd\", r\"C:\\Users\\MrJDF\\Desktop\\Arc1_lab02_v02\\dnrLas_tin\", \"RANDOM\", 15, 3.28)"
   ]
  },
  {
   "cell_type": "code",
   "execution_count": 68,
   "metadata": {},
   "outputs": [
    {
     "data": {
      "text/html": [
       "<div class='gpresult'><h2>Messages</h2><div id='messages' data-messages='[\"Start Time: Wednesday, October 19, 2022 9:32:52 PM\",\"Succeeded at Wednesday, October 19, 2022 9:32:53 PM (Elapsed Time: 1.15 seconds)\"]' data-show='true'><div id = 'default' /></div></div>"
      ],
      "text/plain": [
       "<Result 'c:\\\\Users\\\\MrJDF\\\\Desktop\\\\arc1_lab02_v02\\\\arc1_lab02_v02.gdb\\\\dnrlas_dem'>"
      ]
     },
     "execution_count": 68,
     "metadata": {},
     "output_type": "execute_result"
    }
   ],
   "source": [
    "# las to DEM (using the las to raster function) saved to geodatabse\n",
    "\n",
    "arcpy.conversion.LasDatasetToRaster(r\"C:\\Users\\MrJDF\\Desktop\\Arc1_lab02_v02\\dnrLas_dataset_01.lasd\", r\"c:\\Users\\MrJDF\\Desktop\\arc1_lab02_v02\\arc1_lab02_v02.gdb\\dnrlas_dem\", \"ELEVATION\", \"BINNING AVERAGE LINEAR\", \"FLOAT\", \"CELLSIZE\", 10, 1)\n"
   ]
  },
  {
   "cell_type": "code",
   "execution_count": 4,
   "metadata": {},
   "outputs": [
    {
     "ename": "OSError",
     "evalue": "C:\\Users\\MrJDF\\Desktop\\Arc1_lab02_v02\\Output\\MNDNR_TIN.pdf",
     "output_type": "error",
     "traceback": [
      "\u001b[0;31m---------------------------------------------------------------------------\u001b[0m\n\u001b[0;31mOSError\u001b[0m                                   Traceback (most recent call last)",
      "In  \u001b[0;34m[4]\u001b[0m:\nLine \u001b[0;34m13\u001b[0m:    lyt.exportToPDF(proj_dir + \u001b[33mr\u001b[39;49;00m\u001b[33m\"\u001b[39;49;00m\u001b[33m\\\u001b[39;49;00m\u001b[33mOutput\u001b[39;49;00m\u001b[33m\\\u001b[39;49;00m\u001b[33mMNDNR_TIN.pdf\u001b[39;49;00m\u001b[33m\"\u001b[39;49;00m, resolution = \u001b[34m300\u001b[39;49;00m)\n",
      "File \u001b[0;34mC:\\Program Files\\ArcGIS\\Pro\\Resources\\ArcPy\\arcpy\\utils.py\u001b[0m, in \u001b[0;32mfn_\u001b[0m:\nLine \u001b[0;34m191\u001b[0m:   \u001b[34mreturn\u001b[39;49;00m fn(*args, **kw)\n",
      "File \u001b[0;34mC:\\Program Files\\ArcGIS\\Pro\\Resources\\ArcPy\\arcpy\\_mp.py\u001b[0m, in \u001b[0;32mexportToPDF\u001b[0m:\nLine \u001b[0;34m1599\u001b[0m:  \u001b[34mreturn\u001b[39;49;00m convertArcObjectToPythonObject(\u001b[36mself\u001b[39;49;00m._arc_object.exportToPDF(*gp_fixargs((out_pdf, resolution, image_quality, compress_vector_graphics, image_compression, embed_fonts, layers_attributes, georef_info, jpeg_compression_quality, clip_to_elements, output_as_image, embed_color_profile, pdf_accessibility), \u001b[34mTrue\u001b[39;49;00m)))\n",
      "\u001b[0;31mOSError\u001b[0m: C:\\Users\\MrJDF\\Desktop\\Arc1_lab02_v02\\Output\\MNDNR_TIN.pdf\n\u001b[0;31m---------------------------------------------------------------------------\u001b[0m"
     ]
    }
   ],
   "source": [
    "# export Layout of TIN to PDF using .mp method (for manipulate?)\n",
    "\n",
    "# call the desired project where the layout is\n",
    "aprx = arcpy.mp.ArcGISProject(r\"C:\\Users\\MrJDF\\Desktop\\Arc1_lab02_v02\\Arc1_lab02_v02.aprx\")\n",
    "\n",
    "# access the layouts in the project via string search and indexing;\n",
    "# the star tells the function to find objects starting with MN,\n",
    "# I think it's called a \"wildcard\" search term,\n",
    "# then starts with the index at zero.\n",
    "lyt = aprx.listLayouts(\"MN*\")[0]\n",
    "\n",
    "#use the export to pdf function and set resolution \n",
    "lyt.exportToPDF(proj_dir + r\"\\Output\\MNDNR_TIN.pdf\", resolution = 300)"
   ]
  },
  {
   "cell_type": "code",
   "execution_count": 5,
   "metadata": {},
   "outputs": [
    {
     "data": {
      "text/plain": [
       "'C:\\\\Users\\\\MrJDF\\\\Desktop\\\\Arc1_lab02_v02\\\\Output\\\\MNDNR_DEM.pdf'"
      ]
     },
     "execution_count": 5,
     "metadata": {},
     "output_type": "execute_result"
    }
   ],
   "source": [
    "# export layout of DEM to PDF\n",
    "lyt01 = aprx.listLayouts(\"MN*\")[1]\n",
    "lyt01.exportToPDF(proj_dir + r\"\\Output\\MNDNR_DEM.pdf\", resolution = 300)"
   ]
  },
  {
   "cell_type": "code",
   "execution_count": null,
   "metadata": {},
   "outputs": [],
   "source": []
  }
 ],
 "metadata": {
  "kernelspec": {
   "display_name": "ArcGISPro",
   "language": "Python",
   "name": "python3"
  },
  "language_info": {
   "file_extension": ".py",
   "name": "python",
   "version": "3"
  }
 },
 "nbformat": 4,
 "nbformat_minor": 2
}
